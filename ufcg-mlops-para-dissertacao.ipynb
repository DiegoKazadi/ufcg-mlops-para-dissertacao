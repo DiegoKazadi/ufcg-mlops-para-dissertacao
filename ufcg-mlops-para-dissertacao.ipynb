{
 "cells": [
  {
   "cell_type": "markdown",
   "id": "af0e87a7-ce94-4129-8801-50033d0bec9b",
   "metadata": {},
   "source": [
    "### Instalação Biblioteca"
   ]
  },
  {
   "cell_type": "code",
   "execution_count": 1,
   "id": "7963bf4b-89c4-46c0-8725-3561597bf6f8",
   "metadata": {
    "scrolled": true
   },
   "outputs": [
    {
     "name": "stderr",
     "output_type": "stream",
     "text": [
      "\n",
      "[notice] A new release of pip available: 22.3.1 -> 25.0.1\n",
      "[notice] To update, run: python.exe -m pip install --upgrade pip\n"
     ]
    },
    {
     "name": "stdout",
     "output_type": "stream",
     "text": [
      "Requirement already satisfied: mlflow in c:\\users\\big data\\appdata\\local\\programs\\python\\python311\\lib\\site-packages (2.20.4)\n",
      "Requirement already satisfied: evidently in c:\\users\\big data\\appdata\\local\\programs\\python\\python311\\lib\\site-packages (0.6.6)\n",
      "Requirement already satisfied: scikit-learn in c:\\users\\big data\\appdata\\local\\programs\\python\\python311\\lib\\site-packages (1.6.1)\n",
      "Requirement already satisfied: pandas in c:\\users\\big data\\appdata\\local\\programs\\python\\python311\\lib\\site-packages (2.2.3)\n",
      "Requirement already satisfied: numpy in c:\\users\\big data\\appdata\\local\\programs\\python\\python311\\lib\\site-packages (2.0.2)\n",
      "Requirement already satisfied: matplotlib in c:\\users\\big data\\appdata\\local\\programs\\python\\python311\\lib\\site-packages (3.10.0)\n",
      "Requirement already satisfied: seaborn in c:\\users\\big data\\appdata\\local\\programs\\python\\python311\\lib\\site-packages (0.13.2)\n",
      "Requirement already satisfied: papermill in c:\\users\\big data\\appdata\\local\\programs\\python\\python311\\lib\\site-packages (2.6.0)\n",
      "Requirement already satisfied: mlflow-skinny==2.20.4 in c:\\users\\big data\\appdata\\local\\programs\\python\\python311\\lib\\site-packages (from mlflow) (2.20.4)\n",
      "Requirement already satisfied: Flask<4 in c:\\users\\big data\\appdata\\local\\programs\\python\\python311\\lib\\site-packages (from mlflow) (3.1.0)\n",
      "Requirement already satisfied: Jinja2<4,>=3.0 in c:\\users\\big data\\appdata\\local\\programs\\python\\python311\\lib\\site-packages (from mlflow) (3.1.4)\n",
      "Requirement already satisfied: alembic!=1.10.0,<2 in c:\\users\\big data\\appdata\\local\\programs\\python\\python311\\lib\\site-packages (from mlflow) (1.15.1)\n",
      "Requirement already satisfied: docker<8,>=4.0.0 in c:\\users\\big data\\appdata\\local\\programs\\python\\python311\\lib\\site-packages (from mlflow) (7.1.0)\n",
      "Requirement already satisfied: graphene<4 in c:\\users\\big data\\appdata\\local\\programs\\python\\python311\\lib\\site-packages (from mlflow) (3.4.3)\n",
      "Requirement already satisfied: markdown<4,>=3.3 in c:\\users\\big data\\appdata\\local\\programs\\python\\python311\\lib\\site-packages (from mlflow) (3.7)\n",
      "Requirement already satisfied: pyarrow<20,>=4.0.0 in c:\\users\\big data\\appdata\\local\\programs\\python\\python311\\lib\\site-packages (from mlflow) (19.0.1)\n",
      "Requirement already satisfied: scipy<2 in c:\\users\\big data\\appdata\\local\\programs\\python\\python311\\lib\\site-packages (from mlflow) (1.15.1)\n",
      "Requirement already satisfied: sqlalchemy<3,>=1.4.0 in c:\\users\\big data\\appdata\\local\\programs\\python\\python311\\lib\\site-packages (from mlflow) (2.0.39)\n",
      "Requirement already satisfied: waitress<4 in c:\\users\\big data\\appdata\\local\\programs\\python\\python311\\lib\\site-packages (from mlflow) (3.0.2)\n",
      "Requirement already satisfied: cachetools<6,>=5.0.0 in c:\\users\\big data\\appdata\\local\\programs\\python\\python311\\lib\\site-packages (from mlflow-skinny==2.20.4->mlflow) (5.5.0)\n",
      "Requirement already satisfied: click<9,>=7.0 in c:\\users\\big data\\appdata\\local\\programs\\python\\python311\\lib\\site-packages (from mlflow-skinny==2.20.4->mlflow) (8.1.8)\n",
      "Requirement already satisfied: cloudpickle<4 in c:\\users\\big data\\appdata\\local\\programs\\python\\python311\\lib\\site-packages (from mlflow-skinny==2.20.4->mlflow) (3.1.1)\n",
      "Requirement already satisfied: databricks-sdk<1,>=0.20.0 in c:\\users\\big data\\appdata\\local\\programs\\python\\python311\\lib\\site-packages (from mlflow-skinny==2.20.4->mlflow) (0.46.0)\n",
      "Requirement already satisfied: gitpython<4,>=3.1.9 in c:\\users\\big data\\appdata\\local\\programs\\python\\python311\\lib\\site-packages (from mlflow-skinny==2.20.4->mlflow) (3.1.44)\n",
      "Requirement already satisfied: importlib_metadata!=4.7.0,<9,>=3.7.0 in c:\\users\\big data\\appdata\\local\\programs\\python\\python311\\lib\\site-packages (from mlflow-skinny==2.20.4->mlflow) (8.6.1)\n",
      "Requirement already satisfied: opentelemetry-api<3,>=1.9.0 in c:\\users\\big data\\appdata\\local\\programs\\python\\python311\\lib\\site-packages (from mlflow-skinny==2.20.4->mlflow) (1.31.0)\n",
      "Requirement already satisfied: opentelemetry-sdk<3,>=1.9.0 in c:\\users\\big data\\appdata\\local\\programs\\python\\python311\\lib\\site-packages (from mlflow-skinny==2.20.4->mlflow) (1.31.0)\n",
      "Requirement already satisfied: packaging<25 in c:\\users\\big data\\appdata\\local\\programs\\python\\python311\\lib\\site-packages (from mlflow-skinny==2.20.4->mlflow) (24.2)\n",
      "Requirement already satisfied: protobuf<6,>=3.12.0 in c:\\users\\big data\\appdata\\local\\programs\\python\\python311\\lib\\site-packages (from mlflow-skinny==2.20.4->mlflow) (5.29.3)\n",
      "Requirement already satisfied: pydantic<3,>=1.10.8 in c:\\users\\big data\\appdata\\local\\programs\\python\\python311\\lib\\site-packages (from mlflow-skinny==2.20.4->mlflow) (2.10.6)\n",
      "Requirement already satisfied: pyyaml<7,>=5.1 in c:\\users\\big data\\appdata\\local\\programs\\python\\python311\\lib\\site-packages (from mlflow-skinny==2.20.4->mlflow) (6.0.2)\n",
      "Requirement already satisfied: requests<3,>=2.17.3 in c:\\users\\big data\\appdata\\local\\programs\\python\\python311\\lib\\site-packages (from mlflow-skinny==2.20.4->mlflow) (2.32.3)\n",
      "Requirement already satisfied: sqlparse<1,>=0.4.0 in c:\\users\\big data\\appdata\\local\\programs\\python\\python311\\lib\\site-packages (from mlflow-skinny==2.20.4->mlflow) (0.5.3)\n",
      "Requirement already satisfied: typing-extensions<5,>=4.0.0 in c:\\users\\big data\\appdata\\local\\programs\\python\\python311\\lib\\site-packages (from mlflow-skinny==2.20.4->mlflow) (4.12.2)\n",
      "Requirement already satisfied: plotly<6,>=5.10.0 in c:\\users\\big data\\appdata\\local\\programs\\python\\python311\\lib\\site-packages (from evidently) (5.24.1)\n",
      "Requirement already satisfied: statsmodels>=0.12.2 in c:\\users\\big data\\appdata\\local\\programs\\python\\python311\\lib\\site-packages (from evidently) (0.14.4)\n",
      "Requirement already satisfied: nltk>=3.6.7 in c:\\users\\big data\\appdata\\local\\programs\\python\\python311\\lib\\site-packages (from evidently) (3.9.1)\n",
      "Requirement already satisfied: litestar>=2.8.3 in c:\\users\\big data\\appdata\\local\\programs\\python\\python311\\lib\\site-packages (from evidently) (2.15.1)\n",
      "Requirement already satisfied: typing-inspect>=0.9.0 in c:\\users\\big data\\appdata\\local\\programs\\python\\python311\\lib\\site-packages (from evidently) (0.9.0)\n",
      "Requirement already satisfied: uvicorn[standard]>=0.22.0 in c:\\users\\big data\\appdata\\local\\programs\\python\\python311\\lib\\site-packages (from evidently) (0.34.0)\n",
      "Requirement already satisfied: watchdog>=3.0.0 in c:\\users\\big data\\appdata\\local\\programs\\python\\python311\\lib\\site-packages (from evidently) (6.0.0)\n",
      "Requirement already satisfied: typer>=0.3 in c:\\users\\big data\\appdata\\local\\programs\\python\\python311\\lib\\site-packages (from evidently) (0.15.2)\n",
      "Requirement already satisfied: rich>=13 in c:\\users\\big data\\appdata\\local\\programs\\python\\python311\\lib\\site-packages (from evidently) (13.9.4)\n",
      "Requirement already satisfied: iterative-telemetry>=0.0.5 in c:\\users\\big data\\appdata\\local\\programs\\python\\python311\\lib\\site-packages (from evidently) (0.0.10)\n",
      "Requirement already satisfied: dynaconf>=3.2.4 in c:\\users\\big data\\appdata\\local\\programs\\python\\python311\\lib\\site-packages (from evidently) (3.2.10)\n",
      "Requirement already satisfied: certifi>=2024.7.4 in c:\\users\\big data\\appdata\\local\\programs\\python\\python311\\lib\\site-packages (from evidently) (2024.8.30)\n",
      "Requirement already satisfied: urllib3>=1.26.19 in c:\\users\\big data\\appdata\\local\\programs\\python\\python311\\lib\\site-packages (from evidently) (2.2.3)\n",
      "Requirement already satisfied: fsspec>=2024.6.1 in c:\\users\\big data\\appdata\\local\\programs\\python\\python311\\lib\\site-packages (from evidently) (2024.12.0)\n",
      "Requirement already satisfied: ujson>=5.4.0 in c:\\users\\big data\\appdata\\local\\programs\\python\\python311\\lib\\site-packages (from evidently) (5.10.0)\n",
      "Requirement already satisfied: deprecation>=2.1.0 in c:\\users\\big data\\appdata\\local\\programs\\python\\python311\\lib\\site-packages (from evidently) (2.1.0)\n",
      "Requirement already satisfied: uuid6>=2024.7.10 in c:\\users\\big data\\appdata\\local\\programs\\python\\python311\\lib\\site-packages (from evidently) (2024.7.10)\n",
      "Requirement already satisfied: cryptography>=43.0.1 in c:\\users\\big data\\appdata\\local\\programs\\python\\python311\\lib\\site-packages (from evidently) (44.0.2)\n",
      "Requirement already satisfied: joblib>=1.2.0 in c:\\users\\big data\\appdata\\local\\programs\\python\\python311\\lib\\site-packages (from scikit-learn) (1.4.2)\n",
      "Requirement already satisfied: threadpoolctl>=3.1.0 in c:\\users\\big data\\appdata\\local\\programs\\python\\python311\\lib\\site-packages (from scikit-learn) (3.5.0)\n",
      "Requirement already satisfied: python-dateutil>=2.8.2 in c:\\users\\big data\\appdata\\local\\programs\\python\\python311\\lib\\site-packages (from pandas) (2.9.0.post0)\n",
      "Requirement already satisfied: pytz>=2020.1 in c:\\users\\big data\\appdata\\local\\programs\\python\\python311\\lib\\site-packages (from pandas) (2024.2)\n",
      "Requirement already satisfied: tzdata>=2022.7 in c:\\users\\big data\\appdata\\local\\programs\\python\\python311\\lib\\site-packages (from pandas) (2025.1)\n",
      "Requirement already satisfied: contourpy>=1.0.1 in c:\\users\\big data\\appdata\\local\\programs\\python\\python311\\lib\\site-packages (from matplotlib) (1.3.1)\n",
      "Requirement already satisfied: cycler>=0.10 in c:\\users\\big data\\appdata\\local\\programs\\python\\python311\\lib\\site-packages (from matplotlib) (0.12.1)\n",
      "Requirement already satisfied: fonttools>=4.22.0 in c:\\users\\big data\\appdata\\local\\programs\\python\\python311\\lib\\site-packages (from matplotlib) (4.55.3)\n",
      "Requirement already satisfied: kiwisolver>=1.3.1 in c:\\users\\big data\\appdata\\local\\programs\\python\\python311\\lib\\site-packages (from matplotlib) (1.4.8)\n",
      "Requirement already satisfied: pillow>=8 in c:\\users\\big data\\appdata\\local\\programs\\python\\python311\\lib\\site-packages (from matplotlib) (11.0.0)\n",
      "Requirement already satisfied: pyparsing>=2.3.1 in c:\\users\\big data\\appdata\\local\\programs\\python\\python311\\lib\\site-packages (from matplotlib) (3.2.0)\n",
      "Requirement already satisfied: nbformat>=5.2.0 in c:\\users\\big data\\appdata\\local\\programs\\python\\python311\\lib\\site-packages (from papermill) (5.10.4)\n",
      "Requirement already satisfied: nbclient>=0.2.0 in c:\\users\\big data\\appdata\\local\\programs\\python\\python311\\lib\\site-packages (from papermill) (0.10.0)\n",
      "Requirement already satisfied: tqdm>=4.32.2 in c:\\users\\big data\\appdata\\local\\programs\\python\\python311\\lib\\site-packages (from papermill) (4.67.1)\n",
      "Requirement already satisfied: entrypoints in c:\\users\\big data\\appdata\\local\\programs\\python\\python311\\lib\\site-packages (from papermill) (0.4)\n",
      "Requirement already satisfied: tenacity>=5.0.2 in c:\\users\\big data\\appdata\\local\\programs\\python\\python311\\lib\\site-packages (from papermill) (9.0.0)\n",
      "Requirement already satisfied: ansicolors in c:\\users\\big data\\appdata\\local\\programs\\python\\python311\\lib\\site-packages (from papermill) (1.1.8)\n",
      "Requirement already satisfied: Mako in c:\\users\\big data\\appdata\\local\\programs\\python\\python311\\lib\\site-packages (from alembic!=1.10.0,<2->mlflow) (1.3.9)\n",
      "Requirement already satisfied: colorama in c:\\users\\big data\\appdata\\local\\programs\\python\\python311\\lib\\site-packages (from click<9,>=7.0->mlflow-skinny==2.20.4->mlflow) (0.4.6)\n",
      "Requirement already satisfied: cffi>=1.12 in c:\\users\\big data\\appdata\\local\\programs\\python\\python311\\lib\\site-packages (from cryptography>=43.0.1->evidently) (1.17.1)\n",
      "Requirement already satisfied: pywin32>=304 in c:\\users\\big data\\appdata\\local\\programs\\python\\python311\\lib\\site-packages (from docker<8,>=4.0.0->mlflow) (308)\n",
      "Requirement already satisfied: Werkzeug>=3.1 in c:\\users\\big data\\appdata\\local\\programs\\python\\python311\\lib\\site-packages (from Flask<4->mlflow) (3.1.3)\n",
      "Requirement already satisfied: itsdangerous>=2.2 in c:\\users\\big data\\appdata\\local\\programs\\python\\python311\\lib\\site-packages (from Flask<4->mlflow) (2.2.0)\n",
      "Requirement already satisfied: blinker>=1.9 in c:\\users\\big data\\appdata\\local\\programs\\python\\python311\\lib\\site-packages (from Flask<4->mlflow) (1.9.0)\n",
      "Requirement already satisfied: graphql-core<3.3,>=3.1 in c:\\users\\big data\\appdata\\local\\programs\\python\\python311\\lib\\site-packages (from graphene<4->mlflow) (3.2.6)\n",
      "Requirement already satisfied: graphql-relay<3.3,>=3.1 in c:\\users\\big data\\appdata\\local\\programs\\python\\python311\\lib\\site-packages (from graphene<4->mlflow) (3.2.0)\n",
      "Requirement already satisfied: appdirs in c:\\users\\big data\\appdata\\local\\programs\\python\\python311\\lib\\site-packages (from iterative-telemetry>=0.0.5->evidently) (1.4.4)\n",
      "Requirement already satisfied: filelock in c:\\users\\big data\\appdata\\local\\programs\\python\\python311\\lib\\site-packages (from iterative-telemetry>=0.0.5->evidently) (3.16.1)\n",
      "Requirement already satisfied: distro in c:\\users\\big data\\appdata\\local\\programs\\python\\python311\\lib\\site-packages (from iterative-telemetry>=0.0.5->evidently) (1.9.0)\n",
      "Requirement already satisfied: MarkupSafe>=2.0 in c:\\users\\big data\\appdata\\local\\programs\\python\\python311\\lib\\site-packages (from Jinja2<4,>=3.0->mlflow) (3.0.2)\n",
      "Requirement already satisfied: anyio>=3 in c:\\users\\big data\\appdata\\local\\programs\\python\\python311\\lib\\site-packages (from litestar>=2.8.3->evidently) (4.6.2.post1)\n",
      "Requirement already satisfied: httpx>=0.22 in c:\\users\\big data\\appdata\\local\\programs\\python\\python311\\lib\\site-packages (from litestar>=2.8.3->evidently) (0.27.2)\n",
      "Requirement already satisfied: litestar-htmx>=0.4.0 in c:\\users\\big data\\appdata\\local\\programs\\python\\python311\\lib\\site-packages (from litestar>=2.8.3->evidently) (0.4.1)\n",
      "Requirement already satisfied: msgspec>=0.18.2 in c:\\users\\big data\\appdata\\local\\programs\\python\\python311\\lib\\site-packages (from litestar>=2.8.3->evidently) (0.19.0)\n",
      "Requirement already satisfied: multidict>=6.0.2 in c:\\users\\big data\\appdata\\local\\programs\\python\\python311\\lib\\site-packages (from litestar>=2.8.3->evidently) (6.1.0)\n",
      "Requirement already satisfied: multipart>=1.2.0 in c:\\users\\big data\\appdata\\local\\programs\\python\\python311\\lib\\site-packages (from litestar>=2.8.3->evidently) (1.2.1)\n",
      "Requirement already satisfied: polyfactory>=2.6.3 in c:\\users\\big data\\appdata\\local\\programs\\python\\python311\\lib\\site-packages (from litestar>=2.8.3->evidently) (2.19.0)\n",
      "Requirement already satisfied: rich-click in c:\\users\\big data\\appdata\\local\\programs\\python\\python311\\lib\\site-packages (from litestar>=2.8.3->evidently) (1.8.8)\n",
      "Requirement already satisfied: jupyter-client>=6.1.12 in c:\\users\\big data\\appdata\\local\\programs\\python\\python311\\lib\\site-packages (from nbclient>=0.2.0->papermill) (8.6.3)\n",
      "Requirement already satisfied: jupyter-core!=5.0.*,>=4.12 in c:\\users\\big data\\appdata\\local\\programs\\python\\python311\\lib\\site-packages (from nbclient>=0.2.0->papermill) (5.7.2)\n",
      "Requirement already satisfied: traitlets>=5.4 in c:\\users\\big data\\appdata\\local\\programs\\python\\python311\\lib\\site-packages (from nbclient>=0.2.0->papermill) (5.14.3)\n",
      "Requirement already satisfied: fastjsonschema>=2.15 in c:\\users\\big data\\appdata\\local\\programs\\python\\python311\\lib\\site-packages (from nbformat>=5.2.0->papermill) (2.20.0)\n",
      "Requirement already satisfied: jsonschema>=2.6 in c:\\users\\big data\\appdata\\local\\programs\\python\\python311\\lib\\site-packages (from nbformat>=5.2.0->papermill) (4.23.0)\n",
      "Requirement already satisfied: regex>=2021.8.3 in c:\\users\\big data\\appdata\\local\\programs\\python\\python311\\lib\\site-packages (from nltk>=3.6.7->evidently) (2024.11.6)\n",
      "Requirement already satisfied: annotated-types>=0.6.0 in c:\\users\\big data\\appdata\\local\\programs\\python\\python311\\lib\\site-packages (from pydantic<3,>=1.10.8->mlflow-skinny==2.20.4->mlflow) (0.7.0)\n",
      "Requirement already satisfied: pydantic-core==2.27.2 in c:\\users\\big data\\appdata\\local\\programs\\python\\python311\\lib\\site-packages (from pydantic<3,>=1.10.8->mlflow-skinny==2.20.4->mlflow) (2.27.2)\n",
      "Requirement already satisfied: six>=1.5 in c:\\users\\big data\\appdata\\local\\programs\\python\\python311\\lib\\site-packages (from python-dateutil>=2.8.2->pandas) (1.16.0)\n",
      "Requirement already satisfied: charset-normalizer<4,>=2 in c:\\users\\big data\\appdata\\local\\programs\\python\\python311\\lib\\site-packages (from requests<3,>=2.17.3->mlflow-skinny==2.20.4->mlflow) (3.4.0)\n",
      "Requirement already satisfied: idna<4,>=2.5 in c:\\users\\big data\\appdata\\local\\programs\\python\\python311\\lib\\site-packages (from requests<3,>=2.17.3->mlflow-skinny==2.20.4->mlflow) (3.10)\n",
      "Requirement already satisfied: markdown-it-py>=2.2.0 in c:\\users\\big data\\appdata\\local\\programs\\python\\python311\\lib\\site-packages (from rich>=13->evidently) (3.0.0)\n",
      "Requirement already satisfied: pygments<3.0.0,>=2.13.0 in c:\\users\\big data\\appdata\\local\\programs\\python\\python311\\lib\\site-packages (from rich>=13->evidently) (2.18.0)\n",
      "Requirement already satisfied: greenlet!=0.4.17 in c:\\users\\big data\\appdata\\local\\programs\\python\\python311\\lib\\site-packages (from sqlalchemy<3,>=1.4.0->mlflow) (3.1.1)\n",
      "Requirement already satisfied: patsy>=0.5.6 in c:\\users\\big data\\appdata\\local\\programs\\python\\python311\\lib\\site-packages (from statsmodels>=0.12.2->evidently) (1.0.1)\n",
      "Requirement already satisfied: shellingham>=1.3.0 in c:\\users\\big data\\appdata\\local\\programs\\python\\python311\\lib\\site-packages (from typer>=0.3->evidently) (1.5.4)\n",
      "Requirement already satisfied: mypy-extensions>=0.3.0 in c:\\users\\big data\\appdata\\local\\programs\\python\\python311\\lib\\site-packages (from typing-inspect>=0.9.0->evidently) (1.0.0)\n",
      "Requirement already satisfied: h11>=0.8 in c:\\users\\big data\\appdata\\local\\programs\\python\\python311\\lib\\site-packages (from uvicorn[standard]>=0.22.0->evidently) (0.14.0)\n",
      "Requirement already satisfied: httptools>=0.6.3 in c:\\users\\big data\\appdata\\local\\programs\\python\\python311\\lib\\site-packages (from uvicorn[standard]>=0.22.0->evidently) (0.6.4)\n",
      "Requirement already satisfied: python-dotenv>=0.13 in c:\\users\\big data\\appdata\\local\\programs\\python\\python311\\lib\\site-packages (from uvicorn[standard]>=0.22.0->evidently) (1.0.1)\n",
      "Requirement already satisfied: watchfiles>=0.13 in c:\\users\\big data\\appdata\\local\\programs\\python\\python311\\lib\\site-packages (from uvicorn[standard]>=0.22.0->evidently) (1.0.4)\n",
      "Requirement already satisfied: websockets>=10.4 in c:\\users\\big data\\appdata\\local\\programs\\python\\python311\\lib\\site-packages (from uvicorn[standard]>=0.22.0->evidently) (15.0.1)\n",
      "Requirement already satisfied: sniffio>=1.1 in c:\\users\\big data\\appdata\\local\\programs\\python\\python311\\lib\\site-packages (from anyio>=3->litestar>=2.8.3->evidently) (1.3.1)\n",
      "Requirement already satisfied: pycparser in c:\\users\\big data\\appdata\\local\\programs\\python\\python311\\lib\\site-packages (from cffi>=1.12->cryptography>=43.0.1->evidently) (2.22)\n",
      "Requirement already satisfied: google-auth~=2.0 in c:\\users\\big data\\appdata\\local\\programs\\python\\python311\\lib\\site-packages (from databricks-sdk<1,>=0.20.0->mlflow-skinny==2.20.4->mlflow) (2.37.0)\n",
      "Requirement already satisfied: gitdb<5,>=4.0.1 in c:\\users\\big data\\appdata\\local\\programs\\python\\python311\\lib\\site-packages (from gitpython<4,>=3.1.9->mlflow-skinny==2.20.4->mlflow) (4.0.12)\n",
      "Requirement already satisfied: httpcore==1.* in c:\\users\\big data\\appdata\\local\\programs\\python\\python311\\lib\\site-packages (from httpx>=0.22->litestar>=2.8.3->evidently) (1.0.7)\n",
      "Requirement already satisfied: zipp>=3.20 in c:\\users\\big data\\appdata\\local\\programs\\python\\python311\\lib\\site-packages (from importlib_metadata!=4.7.0,<9,>=3.7.0->mlflow-skinny==2.20.4->mlflow) (3.21.0)\n",
      "Requirement already satisfied: attrs>=22.2.0 in c:\\users\\big data\\appdata\\local\\programs\\python\\python311\\lib\\site-packages (from jsonschema>=2.6->nbformat>=5.2.0->papermill) (24.2.0)\n",
      "Requirement already satisfied: jsonschema-specifications>=2023.03.6 in c:\\users\\big data\\appdata\\local\\programs\\python\\python311\\lib\\site-packages (from jsonschema>=2.6->nbformat>=5.2.0->papermill) (2024.10.1)\n",
      "Requirement already satisfied: referencing>=0.28.4 in c:\\users\\big data\\appdata\\local\\programs\\python\\python311\\lib\\site-packages (from jsonschema>=2.6->nbformat>=5.2.0->papermill) (0.35.1)\n",
      "Requirement already satisfied: rpds-py>=0.7.1 in c:\\users\\big data\\appdata\\local\\programs\\python\\python311\\lib\\site-packages (from jsonschema>=2.6->nbformat>=5.2.0->papermill) (0.21.0)\n",
      "Requirement already satisfied: pyzmq>=23.0 in c:\\users\\big data\\appdata\\local\\programs\\python\\python311\\lib\\site-packages (from jupyter-client>=6.1.12->nbclient>=0.2.0->papermill) (26.2.0)\n",
      "Requirement already satisfied: tornado>=6.2 in c:\\users\\big data\\appdata\\local\\programs\\python\\python311\\lib\\site-packages (from jupyter-client>=6.1.12->nbclient>=0.2.0->papermill) (6.4.2)\n",
      "Requirement already satisfied: platformdirs>=2.5 in c:\\users\\big data\\appdata\\local\\programs\\python\\python311\\lib\\site-packages (from jupyter-core!=5.0.*,>=4.12->nbclient>=0.2.0->papermill) (4.3.6)\n",
      "Requirement already satisfied: mdurl~=0.1 in c:\\users\\big data\\appdata\\local\\programs\\python\\python311\\lib\\site-packages (from markdown-it-py>=2.2.0->rich>=13->evidently) (0.1.2)\n",
      "Requirement already satisfied: deprecated>=1.2.6 in c:\\users\\big data\\appdata\\local\\programs\\python\\python311\\lib\\site-packages (from opentelemetry-api<3,>=1.9.0->mlflow-skinny==2.20.4->mlflow) (1.2.18)\n",
      "Requirement already satisfied: opentelemetry-semantic-conventions==0.52b0 in c:\\users\\big data\\appdata\\local\\programs\\python\\python311\\lib\\site-packages (from opentelemetry-sdk<3,>=1.9.0->mlflow-skinny==2.20.4->mlflow) (0.52b0)\n",
      "Requirement already satisfied: faker in c:\\users\\big data\\appdata\\local\\programs\\python\\python311\\lib\\site-packages (from polyfactory>=2.6.3->litestar>=2.8.3->evidently) (37.0.0)\n",
      "Requirement already satisfied: wrapt<2,>=1.10 in c:\\users\\big data\\appdata\\local\\programs\\python\\python311\\lib\\site-packages (from deprecated>=1.2.6->opentelemetry-api<3,>=1.9.0->mlflow-skinny==2.20.4->mlflow) (1.17.2)\n",
      "Requirement already satisfied: smmap<6,>=3.0.1 in c:\\users\\big data\\appdata\\local\\programs\\python\\python311\\lib\\site-packages (from gitdb<5,>=4.0.1->gitpython<4,>=3.1.9->mlflow-skinny==2.20.4->mlflow) (5.0.2)\n",
      "Requirement already satisfied: pyasn1-modules>=0.2.1 in c:\\users\\big data\\appdata\\local\\programs\\python\\python311\\lib\\site-packages (from google-auth~=2.0->databricks-sdk<1,>=0.20.0->mlflow-skinny==2.20.4->mlflow) (0.4.1)\n",
      "Requirement already satisfied: rsa<5,>=3.1.4 in c:\\users\\big data\\appdata\\local\\programs\\python\\python311\\lib\\site-packages (from google-auth~=2.0->databricks-sdk<1,>=0.20.0->mlflow-skinny==2.20.4->mlflow) (4.9)\n",
      "Requirement already satisfied: pyasn1<0.7.0,>=0.4.6 in c:\\users\\big data\\appdata\\local\\programs\\python\\python311\\lib\\site-packages (from pyasn1-modules>=0.2.1->google-auth~=2.0->databricks-sdk<1,>=0.20.0->mlflow-skinny==2.20.4->mlflow) (0.6.1)\n"
     ]
    }
   ],
   "source": [
    "# Instalar bibliotecas ( necessário)\n",
    "!pip install mlflow evidently scikit-learn pandas numpy matplotlib seaborn papermill\n",
    "\n",
    "# Importar pacotes principais\n",
    "import pandas as pd\n",
    "import numpy as np\n",
    "import mlflow\n",
    "import mlflow.sklearn\n",
    "from sklearn.model_selection import train_test_split\n",
    "from sklearn.preprocessing import StandardScaler\n",
    "from sklearn.ensemble import RandomForestClassifier\n",
    "from evidently.report import Report\n",
    "from evidently.metrics import DataDriftTable\n",
    "import pickle\n"
   ]
  },
  {
   "cell_type": "markdown",
   "id": "1571cb61-7966-4621-8918-b7ef01623403",
   "metadata": {},
   "source": [
    "### Configurar MLflow para rastreamento de experimentos com objetivo de monitorar todo o processo, incluindo tempo de carregamento, transformações e qualidade dos dados. início do pipeline."
   ]
  },
  {
   "cell_type": "code",
   "execution_count": 2,
   "id": "d8bc70d9-ed62-4c06-b5c7-6d8372de0bf8",
   "metadata": {},
   "outputs": [
    {
     "name": "stdout",
     "output_type": "stream",
     "text": [
      "Tracking URI: file:///E:\\Mestrado UFCG\\Semestre 2024.2\\Dados\\Aplicando_para_dissertacao\\mlflow_logs\n"
     ]
    }
   ],
   "source": [
    "import mlflow\n",
    "import os\n",
    "\n",
    "# Definindo um novo diretório para armazenar os logs dos experimentos\n",
    "caminho_logs = \"E:/Mestrado UFCG/Semestre 2024.2/Dados/Aplicando_para_dissertacao/mlflow_logs\"\n",
    "\n",
    "# Criar o diretório se não existir\n",
    "os.makedirs(caminho_logs, exist_ok=True)\n",
    "\n",
    "# Convertendo o caminho para o formato correto de URI\n",
    "caminho_logs_uri = f\"file:///{os.path.abspath(caminho_logs)}\"\n",
    "\n",
    "# Configurando o MLflow para usar esse diretório\n",
    "mlflow.set_tracking_uri(caminho_logs_uri)\n",
    "\n",
    "# Criando ou definindo o experimento\n",
    "mlflow.set_experiment(\"Evasao_UFCG\")\n",
    "\n",
    "# Exibir a configuração para garantir que está correto\n",
    "print(f\"Tracking URI: {mlflow.get_tracking_uri()}\")\n"
   ]
  },
  {
   "cell_type": "markdown",
   "id": "e376940b-5bff-4e62-87fd-a96c0dd5ed46",
   "metadata": {},
   "source": [
    "### Carregar os dados as tabelas relevantes"
   ]
  },
  {
   "cell_type": "code",
   "execution_count": 3,
   "id": "1112c63a-277b-4456-8f07-9dd5e6c6ea25",
   "metadata": {},
   "outputs": [
    {
     "name": "stdout",
     "output_type": "stream",
     "text": [
      "alunos carregada com sucesso! (3761 linhas, 22 colunas)\n",
      "matriculas carregada com sucesso! (182660 linhas, 10 colunas)\n",
      " Carregamento finalizado.\n"
     ]
    }
   ],
   "source": [
    "import pandas as pd\n",
    "import os\n",
    "import mlflow\n",
    "\n",
    "# Definindo caminhos\n",
    "caminho_base = \"E:/Mestrado UFCG/Semestre 2024.2/Dados/Tabelas_0/\"\n",
    "tables = [\"alunos\", \"matriculas\"]\n",
    "\n",
    "# Iniciar Experimento MLflow\n",
    "mlflow.set_experiment(\"Carregamento de Dados UFCG\")\n",
    "\n",
    "with mlflow.start_run():\n",
    "    # Log do início do carregamento usando métrica em vez de parâmetro fixo\n",
    "    mlflow.log_metric(\"status_iniciando\", 1)\n",
    "\n",
    "    dados = {}\n",
    "    \n",
    "    for table in tables:\n",
    "        caminho = os.path.join(caminho_base, f\"{table}.csv\")\n",
    "        try:\n",
    "            # Detectar delimitador correto\n",
    "            with open(caminho, \"r\", encoding=\"utf-8\") as f:\n",
    "                primeira_linha = f.readline()\n",
    "                if \";\" in primeira_linha:\n",
    "                    delimitador = \";\"\n",
    "                elif \",\" in primeira_linha:\n",
    "                    delimitador = \",\"\n",
    "                elif \"\\t\" in primeira_linha:\n",
    "                    delimitador = \"\\t\"\n",
    "                else:\n",
    "                    delimitador = \",\"  # Padrão caso não detecte\n",
    "\n",
    "            # Carregar CSV com delimitador correto\n",
    "            df = pd.read_csv(caminho, delimiter=delimitador, encoding=\"utf-8\")\n",
    "            \n",
    "            # Verifica se carregou corretamente\n",
    "            if df.shape[1] == 1:\n",
    "                print(f\" Atenção: {table} foi carregada com apenas 1 coluna! Pode haver erro no delimitador.\")\n",
    "            \n",
    "            dados[table] = df\n",
    "            print(f\"{table} carregada com sucesso! ({df.shape[0]} linhas, {df.shape[1]} colunas)\")\n",
    "        except Exception as e:\n",
    "            print(f\"Erro ao carregar {table}: {e}\")\n",
    "            mlflow.log_param(f\"erro_{table}\", str(e))  # Log do erro no MLflow\n",
    "\n",
    "    # Usar métrica ao invés de parâmetro para evitar erro no MLflow\n",
    "    mlflow.log_metric(\"status_carregamento_finalizado\", 1)\n",
    "\n",
    "    print(\" Carregamento finalizado.\")\n"
   ]
  },
  {
   "cell_type": "markdown",
   "id": "64936a61-3a5f-4627-acf3-81c269a5829c",
   "metadata": {},
   "source": [
    "### Visualizar colunas das tabelas"
   ]
  },
  {
   "cell_type": "code",
   "execution_count": 4,
   "id": "6fdc0059-5dfa-4577-ac77-6bf5716507fb",
   "metadata": {},
   "outputs": [
    {
     "name": "stdout",
     "output_type": "stream",
     "text": [
      "\n",
      "Colunas da tabela 'alunos':\n",
      "['MATRICULA', 'ID_CIDADAO', 'NOME', 'IDADE', 'E-MAIL', 'GENERO', 'ESTADO_CIVIL_ALUNOS', 'NACIONALIDADE', 'LOCAL_NASCIMENTO', 'ESTADO', 'TERMO_ESTADO', 'RAZAO_INATIVIDADE', 'TIPO_ADMISSAO', 'TERMO_ADMISSAO', 'POLITICA_AFIRMATIVA', 'TIPO_ENSINO_MEDIO', 'ANO_FORMATURA_ENSINO_MEDIO', 'CODIGO_CURSO', 'CODIGO_CURRICULAR', ' ALUNOS_ATIVOS', 'EX_ALUNOS', 'ALUNOS_INATIVOS']\n",
      "\n",
      "Colunas da tabela 'matriculas':\n",
      "['MATRICULA', 'CODIGO_DISCIPLINA', 'NOME', 'CREDITOS', 'HORAS', 'TERMO', 'ID_CLASS', 'NOTA', 'ESTATUS', 'TIPO']\n"
     ]
    }
   ],
   "source": [
    "import pandas as pd\n",
    "\n",
    "# Caminho base onde as tabelas estão armazenadas\n",
    "caminho_base = \"E:/Mestrado UFCG/Semestre 2024.2/Dados/Tabelas_0/\"\n",
    "\n",
    "# Lista com os nomes das tabelas\n",
    "tables = [\"alunos\", \"matriculas\"]\n",
    "\n",
    "# Carregar e exibir as colunas de cada tabela\n",
    "for tabela in tables:\n",
    "    # Carregar a tabela especificando o separador ';'\n",
    "    tabela_df = pd.read_csv(caminho_base + tabela + \".csv\", sep=';', on_bad_lines='skip')\n",
    "    \n",
    "    # Mostrar as primeiras linhas e as colunas da tabela\n",
    "    print(f\"\\nColunas da tabela '{tabela}':\")\n",
    "    print(tabela_df.columns.tolist())"
   ]
  },
  {
   "cell_type": "markdown",
   "id": "217e6fa6-15eb-4de8-b052-beeca49b7380",
   "metadata": {},
   "source": [
    "### Filtro de Intervalo da pesquisa: 2001.1 - 2023.2"
   ]
  },
  {
   "cell_type": "code",
   "execution_count": 5,
   "id": "d32a6db9-4094-4808-b989-ae99b01a0bb3",
   "metadata": {},
   "outputs": [
    {
     "name": "stdout",
     "output_type": "stream",
     "text": [
      "\n",
      "Colunas da tabela 'alunos':\n",
      "['MATRICULA', 'ID_CIDADAO', 'NOME', 'IDADE', 'E-MAIL', 'GENERO', 'ESTADO_CIVIL_ALUNOS', 'NACIONALIDADE', 'LOCAL_NASCIMENTO', 'ESTADO', 'TERMO_ESTADO', 'RAZAO_INATIVIDADE', 'TIPO_ADMISSAO', 'TERMO_ADMISSAO', 'POLITICA_AFIRMATIVA', 'TIPO_ENSINO_MEDIO', 'ANO_FORMATURA_ENSINO_MEDIO', 'CODIGO_CURSO', 'CODIGO_CURRICULAR', ' ALUNOS_ATIVOS', 'EX_ALUNOS', 'ALUNOS_INATIVOS']\n",
      "\n",
      "Colunas da tabela 'matriculas':\n",
      "['MATRICULA', 'CODIGO_DISCIPLINA', 'NOME', 'CREDITOS', 'HORAS', 'TERMO', 'ID_CLASS', 'NOTA', 'ESTATUS', 'TIPO']\n",
      "\n",
      "Primeiras linhas da tabela 'matriculas' após o filtro:\n",
      "       MATRICULA  CODIGO_DISCIPLINA                                     NOME  \\\n",
      "25990  194110044            1411170                        TEORIA DOS GRAFOS   \n",
      "25991  194110044            1411172         ESTRUTURAS DE DADOS E ALGORITMOS   \n",
      "25992  194110044            1411179  LAB.DE ESTRUTURAS DE DADOS E ALGORITMOS   \n",
      "25993  194110044            1411192                    SISTEMAS OPERACIONAIS   \n",
      "29556  195210186            1411170                        TEORIA DOS GRAFOS   \n",
      "\n",
      "       CREDITOS  HORAS   TERMO  ID_CLASS  NOTA              ESTATUS    TIPO  \n",
      "25990         2     30  2002.1       1.0   0.0  REPROVADO_POR_FALTA  NORMAL  \n",
      "25991         4     60  2002.1       1.0   0.0  REPROVADO_POR_FALTA  NORMAL  \n",
      "25992         4     60  2002.1       1.0   0.0  REPROVADO_POR_FALTA  NORMAL  \n",
      "25993         4     60  2002.1       1.0   0.0  REPROVADO_POR_FALTA  NORMAL  \n",
      "29556         2     30  2002.1       1.0   3.8   REPROVADO_POR_NOTA  NORMAL  \n"
     ]
    }
   ],
   "source": [
    "import pandas as pd\n",
    "\n",
    "# Caminho base onde as tabelas estão armazenadas\n",
    "caminho_base = \"E:/Mestrado UFCG/Semestre 2024.2/Dados/Tabelas_0/\"\n",
    "\n",
    "# Lista com os nomes das tabelas\n",
    "tables = [\"alunos\", \"matriculas\"]\n",
    "\n",
    "# Carregar e exibir as colunas de cada tabela\n",
    "for tabela in tables:\n",
    "    # Carregar a tabela especificando o separador ';'\n",
    "    tabela_df = pd.read_csv(caminho_base + tabela + \".csv\", sep=';', on_bad_lines='skip')\n",
    "    \n",
    "    # Mostrar as primeiras linhas e as colunas da tabela\n",
    "    print(f\"\\nColunas da tabela '{tabela}':\")\n",
    "    print(tabela_df.columns.tolist())\n",
    "    \n",
    "    # Se a tabela for \"matriculas\", aplicar o filtro de ano e semestre\n",
    "    if tabela == \"matriculas\":\n",
    "        # Garantir que a coluna 'TERMO' esteja em formato adequado (se necessário)\n",
    "        tabela_df['TERMO'] = tabela_df['TERMO'].astype(str)\n",
    "        \n",
    "        # Filtrar os registros entre 2002.1 e 2023.2\n",
    "        tabela_df = tabela_df[tabela_df['TERMO'].between('2002.1', '2023.2')]\n",
    "        \n",
    "        # Exibir as primeiras linhas após o filtro\n",
    "        print(f\"\\nPrimeiras linhas da tabela '{tabela}' após o filtro:\")\n",
    "        print(tabela_df.head())\n"
   ]
  },
  {
   "cell_type": "code",
   "execution_count": 6,
   "id": "b06cc67a-9fd0-4389-ad8b-5ca6e04d5924",
   "metadata": {},
   "outputs": [
    {
     "name": "stdout",
     "output_type": "stream",
     "text": [
      "\n",
      "Tabela 'alunos' tem 3761 linhas e 22 colunas.\n",
      "\n",
      "Tabela 'matriculas' tem 136066 linhas e 10 colunas.\n"
     ]
    }
   ],
   "source": [
    "import pandas as pd\n",
    "\n",
    "# Caminho base onde as tabelas estão armazenadas\n",
    "caminho_base = \"E:/Mestrado UFCG/Semestre 2024.2/Dados/Tabelas_0/\"\n",
    "\n",
    "# Lista com os nomes das tabelas\n",
    "tables = [\"alunos\", \"matriculas\"]\n",
    "\n",
    "# Carregar e exibir as colunas de cada tabela\n",
    "for tabela in tables:\n",
    "    # Carregar a tabela especificando o separador ';'\n",
    "    tabela_df = pd.read_csv(caminho_base + tabela + \".csv\", sep=';', on_bad_lines='skip')\n",
    "    \n",
    "    # Se a tabela for \"matriculas\", aplicar o filtro de ano e semestre\n",
    "    if tabela == \"matriculas\":\n",
    "        # Garantir que a coluna 'TERMO' esteja em formato adequado (se necessário)\n",
    "        tabela_df['TERMO'] = tabela_df['TERMO'].astype(str)\n",
    "        \n",
    "        # Filtrar os registros entre 2002.1 e 2023.2\n",
    "        tabela_df = tabela_df[tabela_df['TERMO'].between('2002.1', '2023.2')]\n",
    "    \n",
    "    # Mostrar as dimensões (linhas e colunas) da tabela\n",
    "    print(f\"\\nTabela '{tabela}' tem {tabela_df.shape[0]} linhas e {tabela_df.shape[1]} colunas.\")\n"
   ]
  },
  {
   "cell_type": "markdown",
   "id": "ed741625-8516-4f2d-af31-3a298c5d8a1b",
   "metadata": {},
   "source": [
    "### Remover dados duplicados ou não relacionados"
   ]
  },
  {
   "cell_type": "code",
   "execution_count": 7,
   "id": "1122094b-24b5-4010-a2ab-9b4d2722607f",
   "metadata": {},
   "outputs": [
    {
     "name": "stdout",
     "output_type": "stream",
     "text": [
      "\n",
      "Tabela 'alunos' tem 3761 linhas e 22 colunas após tratamento de duplicação.\n",
      "\n",
      "Tabela 'matriculas' tem 3789 linhas e 10 colunas após tratamento de duplicação.\n"
     ]
    }
   ],
   "source": [
    "import pandas as pd\n",
    "\n",
    "# Caminho base onde as tabelas estão armazenadas\n",
    "caminho_base = \"E:/Mestrado UFCG/Semestre 2024.2/Dados/Tabelas_0/\"\n",
    "\n",
    "# Lista com os nomes das tabelas\n",
    "tables = [\"alunos\", \"matriculas\"]\n",
    "\n",
    "# Carregar e exibir as colunas de cada tabela\n",
    "for tabela in tables:\n",
    "    # Carregar a tabela especificando o separador ';'\n",
    "    tabela_df = pd.read_csv(caminho_base + tabela + \".csv\", sep=';', on_bad_lines='skip')\n",
    "    \n",
    "    # Se a tabela for \"matriculas\", aplicar o filtro de ano e semestre\n",
    "    if tabela == \"matriculas\":\n",
    "        # Garantir que a coluna 'TERMO' esteja em formato adequado (se necessário)\n",
    "        tabela_df['TERMO'] = tabela_df['TERMO'].astype(str)\n",
    "        \n",
    "        # Filtrar os registros entre 2002.1 e 2023.2\n",
    "        tabela_df = tabela_df[tabela_df['TERMO'].between('2002.1', '2023.2')]\n",
    "        \n",
    "        # Remover duplicatas com base na coluna 'MATRICULA' (ou qualquer outra que identifique um aluno único)\n",
    "        tabela_df = tabela_df.drop_duplicates(subset=['MATRICULA'], keep='first')  # Mantém a primeira ocorrência de cada matrícula\n",
    "    \n",
    "    # Mostrar as dimensões (linhas e colunas) da tabela após o tratamento\n",
    "    print(f\"\\nTabela '{tabela}' tem {tabela_df.shape[0]} linhas e {tabela_df.shape[1]} colunas após tratamento de duplicação.\")\n"
   ]
  },
  {
   "cell_type": "markdown",
   "id": "c4d1fda9-e9c7-41c5-b20a-8dcdbb3167d3",
   "metadata": {},
   "source": [
    "### A Identificar Colunas "
   ]
  },
  {
   "cell_type": "code",
   "execution_count": 9,
   "id": "1baf7fdd-263c-4e01-93ce-85f1acc25983",
   "metadata": {},
   "outputs": [
    {
     "name": "stdout",
     "output_type": "stream",
     "text": [
      "\n",
      "📂 Colunas da tabela: alunos\n",
      "['MATRICULA', 'ID_CIDADAO', 'NOME', 'IDADE', 'E-MAIL', 'GENERO', 'ESTADO_CIVIL_ALUNOS', 'NACIONALIDADE', 'LOCAL_NASCIMENTO', 'ESTADO', 'TERMO_ESTADO', 'RAZAO_INATIVIDADE', 'TIPO_ADMISSAO', 'TERMO_ADMISSAO', 'POLITICA_AFIRMATIVA', 'TIPO_ENSINO_MEDIO', 'ANO_FORMATURA_ENSINO_MEDIO', 'CODIGO_CURSO', 'CODIGO_CURRICULAR', ' ALUNOS_ATIVOS', 'EX_ALUNOS', 'ALUNOS_INATIVOS']\n",
      "\n",
      "📂 Colunas da tabela: matriculas\n",
      "['MATRICULA', 'CODIGO_DISCIPLINA', 'NOME', 'CREDITOS', 'HORAS', 'TERMO', 'ID_CLASS', 'NOTA', 'ESTATUS', 'TIPO']\n"
     ]
    }
   ],
   "source": [
    "import pandas as pd\n",
    "import os\n",
    "\n",
    "# Caminho base onde as tabelas estão armazenadas\n",
    "caminho_base = \"E:/Mestrado UFCG/Semestre 2024.2/Dados/Tabelas_0/\"\n",
    "\n",
    "# Lista com os nomes das tabelas\n",
    "tables = [\"alunos\", \"matriculas\"]\n",
    "\n",
    "# Verificar se o caminho da base existe\n",
    "if not os.path.exists(caminho_base):\n",
    "    print(f\"❌ O diretório {caminho_base} não foi encontrado.\")\n",
    "else:\n",
    "    # Iterar sobre cada tabela e carregar os dados\n",
    "    for tabela in tables:\n",
    "        caminho_arquivo = os.path.join(caminho_base, tabela + \".csv\")\n",
    "\n",
    "        if os.path.exists(caminho_arquivo):\n",
    "            try:\n",
    "                # Carregar a tabela especificando o separador \";\"\n",
    "                tabela_df = pd.read_csv(caminho_arquivo, sep=';', on_bad_lines='skip', encoding='utf-8')\n",
    "\n",
    "                # Exibir o nome da tabela e suas colunas\n",
    "                print(f\"\\n📂 Colunas da tabela: {tabela}\")\n",
    "                print(tabela_df.columns.tolist())\n",
    "\n",
    "            except Exception as e:\n",
    "                print(f\"⚠️ Erro ao carregar a tabela {tabela}: {e}\")\n",
    "\n",
    "        else:\n",
    "            print(f\"❌ Arquivo não encontrado: {caminho_arquivo}\")\n"
   ]
  },
  {
   "cell_type": "markdown",
   "id": "b691beed-92ed-4b98-8288-e7751e91f92e",
   "metadata": {},
   "source": [
    "### Realizar Junção das duas tabelas"
   ]
  },
  {
   "cell_type": "code",
   "execution_count": 14,
   "id": "e373c510-7f1a-4f2d-b5ef-109e3828aeee",
   "metadata": {},
   "outputs": [
    {
     "name": "stdout",
     "output_type": "stream",
     "text": [
      "Tabela final após o merge e remoção de NOME duplicado:\n",
      "   MATRICULA    ID_CIDADAO                NOME_alunos  IDADE E-MAIL  \\\n",
      "0  102210002  5.175670e+09  ELISMAEL GUIMARAES MENINO     43    NaN   \n",
      "1  102210002  5.175670e+09  ELISMAEL GUIMARAES MENINO     43    NaN   \n",
      "2  102210002  5.175670e+09  ELISMAEL GUIMARAES MENINO     43    NaN   \n",
      "3  102210002  5.175670e+09  ELISMAEL GUIMARAES MENINO     43    NaN   \n",
      "4  102210002  5.175670e+09  ELISMAEL GUIMARAES MENINO     43    NaN   \n",
      "\n",
      "      GENERO ESTADO_CIVIL_ALUNOS NACIONALIDADE LOCAL_NASCIMENTO    ESTADO  \\\n",
      "0  MASCULINO            SOLTEIRO    BRASILEIRA      PIANC? - PB  GRADUADO   \n",
      "1  MASCULINO            SOLTEIRO    BRASILEIRA      PIANC? - PB  GRADUADO   \n",
      "2  MASCULINO            SOLTEIRO    BRASILEIRA      PIANC? - PB  GRADUADO   \n",
      "3  MASCULINO            SOLTEIRO    BRASILEIRA      PIANC? - PB  GRADUADO   \n",
      "4  MASCULINO            SOLTEIRO    BRASILEIRA      PIANC? - PB  GRADUADO   \n",
      "\n",
      "   ...  EX_ALUNOS ALUNOS_INATIVOS CODIGO_DISCIPLINA  CREDITOS HORAS   TERMO  \\\n",
      "0  ...       True           False           1109035         4    60  2002.2   \n",
      "1  ...       True           False           1109103         4    60  2002.2   \n",
      "2  ...       True           False           1303021         4    60  2002.2   \n",
      "3  ...       True           False           1307151         4    60  2002.2   \n",
      "4  ...       True           False           1411167         4    60  2002.2   \n",
      "\n",
      "   ID_CLASS  NOTA             ESTATUS    TIPO  \n",
      "0       5.0   8.0            APROVADO  NORMAL  \n",
      "1       2.0   3.3  REPROVADO_POR_NOTA  NORMAL  \n",
      "2       4.0   7.0            APROVADO  NORMAL  \n",
      "3       1.0   8.2            APROVADO  NORMAL  \n",
      "4       1.0   5.7            APROVADO  NORMAL  \n",
      "\n",
      "[5 rows x 30 columns]\n"
     ]
    }
   ],
   "source": [
    "import pandas as pd\n",
    "\n",
    "# Caminho base onde as tabelas estão armazenadas\n",
    "caminho_base = \"E:/Mestrado UFCG/Semestre 2024.2/Dados/Tabelas_0/\"\n",
    "\n",
    "# Nomes das tabelas\n",
    "tables = [\"alunos\", \"matriculas\"]\n",
    "\n",
    "# Carregar as tabelas\n",
    "alunos_df = pd.read_csv(caminho_base + \"alunos.csv\", sep=';', on_bad_lines='skip')\n",
    "matriculas_df = pd.read_csv(caminho_base + \"matriculas.csv\", sep=';', on_bad_lines='skip')\n",
    "\n",
    "# Realizar o merge das duas tabelas com base na coluna 'MATRICULA'\n",
    "merged_df = pd.merge(alunos_df, matriculas_df, on='MATRICULA', suffixes=('_alunos', '_matriculas'))\n",
    "\n",
    "# Comparar a coluna 'NOME' nas duas tabelas\n",
    "merged_df['NOME_iguais'] = merged_df['NOME_alunos'] == merged_df['NOME_matriculas']\n",
    "\n",
    "# Se os nomes forem iguais, remover a coluna 'NOME_matriculas'\n",
    "merged_df = merged_df[~merged_df['NOME_iguais']].drop(columns=['NOME_matriculas', 'NOME_iguais'])\n",
    "\n",
    "# Exibir o resultado final\n",
    "print(\"Tabela final após o merge e remoção de NOME duplicado:\")\n",
    "print(merged_df.head())\n"
   ]
  },
  {
   "cell_type": "code",
   "execution_count": 15,
   "id": "1fc135fd-c30e-4042-9340-d98197aba4d4",
   "metadata": {},
   "outputs": [
    {
     "name": "stdout",
     "output_type": "stream",
     "text": [
      "A tabela resultante possui 130559 linhas e 30 colunas.\n",
      "Primeiras 5 linhas da tabela:\n",
      "   MATRICULA    ID_CIDADAO                       NOME  IDADE E-MAIL  \\\n",
      "0  102210002  5.175670e+09  ELISMAEL GUIMARAES MENINO     43    NaN   \n",
      "1  102210002  5.175670e+09  ELISMAEL GUIMARAES MENINO     43    NaN   \n",
      "2  102210002  5.175670e+09  ELISMAEL GUIMARAES MENINO     43    NaN   \n",
      "3  102210002  5.175670e+09  ELISMAEL GUIMARAES MENINO     43    NaN   \n",
      "4  102210002  5.175670e+09  ELISMAEL GUIMARAES MENINO     43    NaN   \n",
      "\n",
      "      GENERO ESTADO_CIVIL_ALUNOS NACIONALIDADE LOCAL_NASCIMENTO    ESTADO  \\\n",
      "0  MASCULINO            SOLTEIRO    BRASILEIRA      PIANC? - PB  GRADUADO   \n",
      "1  MASCULINO            SOLTEIRO    BRASILEIRA      PIANC? - PB  GRADUADO   \n",
      "2  MASCULINO            SOLTEIRO    BRASILEIRA      PIANC? - PB  GRADUADO   \n",
      "3  MASCULINO            SOLTEIRO    BRASILEIRA      PIANC? - PB  GRADUADO   \n",
      "4  MASCULINO            SOLTEIRO    BRASILEIRA      PIANC? - PB  GRADUADO   \n",
      "\n",
      "   ...  EX_ALUNOS ALUNOS_INATIVOS CODIGO_DISCIPLINA  CREDITOS HORAS   TERMO  \\\n",
      "0  ...       True           False           1109035         4    60  2002.2   \n",
      "1  ...       True           False           1109103         4    60  2002.2   \n",
      "2  ...       True           False           1303021         4    60  2002.2   \n",
      "3  ...       True           False           1307151         4    60  2002.2   \n",
      "4  ...       True           False           1411167         4    60  2002.2   \n",
      "\n",
      "   ID_CLASS  NOTA             ESTATUS    TIPO  \n",
      "0       5.0   8.0            APROVADO  NORMAL  \n",
      "1       2.0   3.3  REPROVADO_POR_NOTA  NORMAL  \n",
      "2       4.0   7.0            APROVADO  NORMAL  \n",
      "3       1.0   8.2            APROVADO  NORMAL  \n",
      "4       1.0   5.7            APROVADO  NORMAL  \n",
      "\n",
      "[5 rows x 30 columns]\n"
     ]
    }
   ],
   "source": [
    "# Renomear a coluna 'NOME_alunos' para 'NOME'\n",
    "merged_df = merged_df.rename(columns={'NOME_alunos': 'NOME'})\n",
    "\n",
    "# Visualizar o número de linhas e colunas\n",
    "num_linhas, num_colunas = merged_df.shape\n",
    "\n",
    "# Exibir as informações\n",
    "print(f\"A tabela resultante possui {num_linhas} linhas e {num_colunas} colunas.\")\n",
    "print(\"Primeiras 5 linhas da tabela:\")\n",
    "print(merged_df.head())\n"
   ]
  },
  {
   "cell_type": "code",
   "execution_count": 16,
   "id": "0bb1fad9-f0bb-4c92-a5b1-df5a6e10acf0",
   "metadata": {},
   "outputs": [
    {
     "name": "stdout",
     "output_type": "stream",
     "text": [
      "A tabela resultante possui 3508 linhas e 30 colunas após remoção de duplicatas.\n",
      "Primeiras 5 linhas da tabela:\n",
      "     MATRICULA    ID_CIDADAO                             NOME  IDADE E-MAIL  \\\n",
      "0    102210002  5.175670e+09        ELISMAEL GUIMARAES MENINO     43    NaN   \n",
      "90   102210003           NaN      EDUARDO JOSE MOREIRA COLACO     40    NaN   \n",
      "119  102210004  2.454245e+08  ADILTON ANGELO SEIXAS MAGALHAES     43    NaN   \n",
      "175  102210005  1.195394e+09        RICARDO MADEIRA FERNANDES     43    NaN   \n",
      "235  102210006  4.220965e+09            BRUNO COITINHO ARAUJO     40    NaN   \n",
      "\n",
      "        GENERO ESTADO_CIVIL_ALUNOS NACIONALIDADE     LOCAL_NASCIMENTO  \\\n",
      "0    MASCULINO            SOLTEIRO    BRASILEIRA          PIANC? - PB   \n",
      "90   MASCULINO            SOLTEIRO    BRASILEIRA  CAMPINA GRANDE - PB   \n",
      "119  MASCULINO            SOLTEIRO    BRASILEIRA                  NaN   \n",
      "175  MASCULINO            SOLTEIRO    BRASILEIRA       BOA VISTA - RR   \n",
      "235  MASCULINO            SOLTEIRO    BRASILEIRA  CAMPINA GRANDE - PB   \n",
      "\n",
      "       ESTADO  ...  EX_ALUNOS ALUNOS_INATIVOS CODIGO_DISCIPLINA  CREDITOS  \\\n",
      "0    GRADUADO  ...       True           False           1109035         4   \n",
      "90    INATIVO  ...      False            True           1109035         4   \n",
      "119  GRADUADO  ...       True           False           1108089         4   \n",
      "175  GRADUADO  ...       True           False           1109035         4   \n",
      "235  GRADUADO  ...       True           False           1109035         4   \n",
      "\n",
      "    HORAS   TERMO  ID_CLASS  NOTA   ESTATUS      TIPO  \n",
      "0      60  2002.2       5.0   8.0  APROVADO    NORMAL  \n",
      "90     60  2002.2       5.0  -1.0  TRANCADO    NORMAL  \n",
      "119    60  2002.2       NaN   5.1  APROVADO  DISPENSA  \n",
      "175    60  2002.2       5.0   7.2  APROVADO    NORMAL  \n",
      "235    60  2002.2       5.0   6.0  APROVADO    NORMAL  \n",
      "\n",
      "[5 rows x 30 columns]\n"
     ]
    }
   ],
   "source": [
    "# Remover duplicatas baseadas na coluna 'MATRICULA' ou em todas as colunas\n",
    "merged_df = merged_df.drop_duplicates(subset='MATRICULA', keep='first')\n",
    "\n",
    "# Ou, se preferir remover todas as duplicatas baseadas em todas as colunas:\n",
    "# merged_df = merged_df.drop_duplicates(keep='first')\n",
    "\n",
    "# Visualizar o número de linhas e colunas após a remoção das duplicatas\n",
    "num_linhas, num_colunas = merged_df.shape\n",
    "\n",
    "# Exibir as informações\n",
    "print(f\"A tabela resultante possui {num_linhas} linhas e {num_colunas} colunas após remoção de duplicatas.\")\n",
    "print(\"Primeiras 5 linhas da tabela:\")\n",
    "print(merged_df.head())\n"
   ]
  },
  {
   "cell_type": "markdown",
   "id": "382d5c43-8954-427c-8fb3-df8b827c2a93",
   "metadata": {},
   "source": [
    "### Vamos visualizar colunas com valores ausentes "
   ]
  },
  {
   "cell_type": "code",
   "execution_count": 17,
   "id": "d68a2b95-2d05-40a8-9965-31839f7560db",
   "metadata": {},
   "outputs": [
    {
     "name": "stdout",
     "output_type": "stream",
     "text": [
      "\n",
      "Colunas com valores ausentes em 'merged_df':\n",
      "['ID_CIDADAO', 'E-MAIL', 'LOCAL_NASCIMENTO', 'TERMO_ESTADO', 'ANO_FORMATURA_ENSINO_MEDIO', 'ID_CLASS']\n"
     ]
    }
   ],
   "source": [
    "import pandas as pd\n",
    "\n",
    "# Verificar colunas com valores ausentes em merged_df\n",
    "colunas_ausentes = merged_df.columns[merged_df.isnull().any()]\n",
    "\n",
    "if len(colunas_ausentes) > 0:\n",
    "    print(\"\\nColunas com valores ausentes em 'merged_df':\")\n",
    "    print(colunas_ausentes.tolist())\n",
    "else:\n",
    "    print(\"\\n'merged_df' não contém colunas com valores ausentes.\")\n"
   ]
  },
  {
   "cell_type": "code",
   "execution_count": 18,
   "id": "6196b60d-9c70-4b36-b447-0cdafff3cf7e",
   "metadata": {},
   "outputs": [
    {
     "name": "stdout",
     "output_type": "stream",
     "text": [
      "ID_CIDADAO                    float64\n",
      "E-MAIL                         object\n",
      "LOCAL_NASCIMENTO               object\n",
      "TERMO_ESTADO                  float64\n",
      "ANO_FORMATURA_ENSINO_MEDIO    float64\n",
      "ID_CLASS                      float64\n",
      "dtype: object\n"
     ]
    }
   ],
   "source": [
    "# Exibir tipos das colunas com valores ausentes\n",
    "print(merged_df[colunas_ausentes].dtypes)\n"
   ]
  },
  {
   "cell_type": "code",
   "execution_count": 19,
   "id": "4074bc1d-745f-4958-839e-81fec01d0218",
   "metadata": {},
   "outputs": [
    {
     "name": "stdout",
     "output_type": "stream",
     "text": [
      "ID_CIDADAO                    0\n",
      "E-MAIL                        0\n",
      "LOCAL_NASCIMENTO              0\n",
      "TERMO_ESTADO                  0\n",
      "ANO_FORMATURA_ENSINO_MEDIO    0\n",
      "ID_CLASS                      0\n",
      "dtype: int64\n"
     ]
    },
    {
     "name": "stderr",
     "output_type": "stream",
     "text": [
      "C:\\Users\\Big Data\\AppData\\Local\\Temp\\ipykernel_17856\\3053659683.py:2: FutureWarning: A value is trying to be set on a copy of a DataFrame or Series through chained assignment using an inplace method.\n",
      "The behavior will change in pandas 3.0. This inplace method will never work because the intermediate object on which we are setting values always behaves as a copy.\n",
      "\n",
      "For example, when doing 'df[col].method(value, inplace=True)', try using 'df.method({col: value}, inplace=True)' or df[col] = df[col].method(value) instead, to perform the operation inplace on the original object.\n",
      "\n",
      "\n",
      "  merged_df['ID_CIDADAO'].fillna(-1, inplace=True)\n",
      "C:\\Users\\Big Data\\AppData\\Local\\Temp\\ipykernel_17856\\3053659683.py:3: FutureWarning: A value is trying to be set on a copy of a DataFrame or Series through chained assignment using an inplace method.\n",
      "The behavior will change in pandas 3.0. This inplace method will never work because the intermediate object on which we are setting values always behaves as a copy.\n",
      "\n",
      "For example, when doing 'df[col].method(value, inplace=True)', try using 'df.method({col: value}, inplace=True)' or df[col] = df[col].method(value) instead, to perform the operation inplace on the original object.\n",
      "\n",
      "\n",
      "  merged_df['E-MAIL'].fillna(\"Não informado\", inplace=True)\n",
      "C:\\Users\\Big Data\\AppData\\Local\\Temp\\ipykernel_17856\\3053659683.py:4: FutureWarning: A value is trying to be set on a copy of a DataFrame or Series through chained assignment using an inplace method.\n",
      "The behavior will change in pandas 3.0. This inplace method will never work because the intermediate object on which we are setting values always behaves as a copy.\n",
      "\n",
      "For example, when doing 'df[col].method(value, inplace=True)', try using 'df.method({col: value}, inplace=True)' or df[col] = df[col].method(value) instead, to perform the operation inplace on the original object.\n",
      "\n",
      "\n",
      "  merged_df['LOCAL_NASCIMENTO'].fillna(\"Desconhecido\", inplace=True)\n",
      "C:\\Users\\Big Data\\AppData\\Local\\Temp\\ipykernel_17856\\3053659683.py:5: FutureWarning: A value is trying to be set on a copy of a DataFrame or Series through chained assignment using an inplace method.\n",
      "The behavior will change in pandas 3.0. This inplace method will never work because the intermediate object on which we are setting values always behaves as a copy.\n",
      "\n",
      "For example, when doing 'df[col].method(value, inplace=True)', try using 'df.method({col: value}, inplace=True)' or df[col] = df[col].method(value) instead, to perform the operation inplace on the original object.\n",
      "\n",
      "\n",
      "  merged_df['TERMO_ESTADO'].fillna(merged_df['TERMO_ESTADO'].mode()[0], inplace=True)  # Preenche com a moda\n",
      "C:\\Users\\Big Data\\AppData\\Local\\Temp\\ipykernel_17856\\3053659683.py:6: FutureWarning: A value is trying to be set on a copy of a DataFrame or Series through chained assignment using an inplace method.\n",
      "The behavior will change in pandas 3.0. This inplace method will never work because the intermediate object on which we are setting values always behaves as a copy.\n",
      "\n",
      "For example, when doing 'df[col].method(value, inplace=True)', try using 'df.method({col: value}, inplace=True)' or df[col] = df[col].method(value) instead, to perform the operation inplace on the original object.\n",
      "\n",
      "\n",
      "  merged_df['ANO_FORMATURA_ENSINO_MEDIO'].fillna(merged_df['ANO_FORMATURA_ENSINO_MEDIO'].median(), inplace=True)\n",
      "C:\\Users\\Big Data\\AppData\\Local\\Temp\\ipykernel_17856\\3053659683.py:7: FutureWarning: A value is trying to be set on a copy of a DataFrame or Series through chained assignment using an inplace method.\n",
      "The behavior will change in pandas 3.0. This inplace method will never work because the intermediate object on which we are setting values always behaves as a copy.\n",
      "\n",
      "For example, when doing 'df[col].method(value, inplace=True)', try using 'df.method({col: value}, inplace=True)' or df[col] = df[col].method(value) instead, to perform the operation inplace on the original object.\n",
      "\n",
      "\n",
      "  merged_df['ID_CLASS'].fillna(-1, inplace=True)\n"
     ]
    }
   ],
   "source": [
    "# Tratamento dos valores ausentes\n",
    "merged_df['ID_CIDADAO'].fillna(-1, inplace=True)\n",
    "merged_df['E-MAIL'].fillna(\"Não informado\", inplace=True)\n",
    "merged_df['LOCAL_NASCIMENTO'].fillna(\"Desconhecido\", inplace=True)\n",
    "merged_df['TERMO_ESTADO'].fillna(merged_df['TERMO_ESTADO'].mode()[0], inplace=True)  # Preenche com a moda\n",
    "merged_df['ANO_FORMATURA_ENSINO_MEDIO'].fillna(merged_df['ANO_FORMATURA_ENSINO_MEDIO'].median(), inplace=True)\n",
    "merged_df['ID_CLASS'].fillna(-1, inplace=True)\n",
    "\n",
    "# Verificar se ainda existem valores ausentes\n",
    "print(merged_df[colunas_ausentes].isnull().sum())\n"
   ]
  },
  {
   "cell_type": "markdown",
   "id": "169add83-1485-41e6-bc64-1cc58d020572",
   "metadata": {},
   "source": [
    "### Conferir a base"
   ]
  },
  {
   "cell_type": "code",
   "execution_count": 20,
   "id": "567dc7a5-1aee-49dc-8bda-320f7506d208",
   "metadata": {},
   "outputs": [
    {
     "name": "stdout",
     "output_type": "stream",
     "text": [
      "0\n"
     ]
    }
   ],
   "source": [
    "print(merged_df.isnull().sum().sum())  # Deve retornar 0 se tudo estiver tratado\n"
   ]
  },
  {
   "cell_type": "code",
   "execution_count": 21,
   "id": "6b10231e-be15-40fc-a2ce-f421ab7afff4",
   "metadata": {},
   "outputs": [
    {
     "name": "stdout",
     "output_type": "stream",
     "text": [
      "     MATRICULA    ID_CIDADAO                             NOME  IDADE  \\\n",
      "0    102210002  5.175670e+09        ELISMAEL GUIMARAES MENINO     43   \n",
      "90   102210003 -1.000000e+00      EDUARDO JOSE MOREIRA COLACO     40   \n",
      "119  102210004  2.454245e+08  ADILTON ANGELO SEIXAS MAGALHAES     43   \n",
      "175  102210005  1.195394e+09        RICARDO MADEIRA FERNANDES     43   \n",
      "235  102210006  4.220965e+09            BRUNO COITINHO ARAUJO     40   \n",
      "\n",
      "            E-MAIL     GENERO ESTADO_CIVIL_ALUNOS NACIONALIDADE  \\\n",
      "0    Não informado  MASCULINO            SOLTEIRO    BRASILEIRA   \n",
      "90   Não informado  MASCULINO            SOLTEIRO    BRASILEIRA   \n",
      "119  Não informado  MASCULINO            SOLTEIRO    BRASILEIRA   \n",
      "175  Não informado  MASCULINO            SOLTEIRO    BRASILEIRA   \n",
      "235  Não informado  MASCULINO            SOLTEIRO    BRASILEIRA   \n",
      "\n",
      "        LOCAL_NASCIMENTO    ESTADO  ...  EX_ALUNOS ALUNOS_INATIVOS  \\\n",
      "0            PIANC? - PB  GRADUADO  ...       True           False   \n",
      "90   CAMPINA GRANDE - PB   INATIVO  ...      False            True   \n",
      "119         Desconhecido  GRADUADO  ...       True           False   \n",
      "175       BOA VISTA - RR  GRADUADO  ...       True           False   \n",
      "235  CAMPINA GRANDE - PB  GRADUADO  ...       True           False   \n",
      "\n",
      "    CODIGO_DISCIPLINA  CREDITOS HORAS   TERMO  ID_CLASS  NOTA   ESTATUS  \\\n",
      "0             1109035         4    60  2002.2       5.0   8.0  APROVADO   \n",
      "90            1109035         4    60  2002.2       5.0  -1.0  TRANCADO   \n",
      "119           1108089         4    60  2002.2      -1.0   5.1  APROVADO   \n",
      "175           1109035         4    60  2002.2       5.0   7.2  APROVADO   \n",
      "235           1109035         4    60  2002.2       5.0   6.0  APROVADO   \n",
      "\n",
      "         TIPO  \n",
      "0      NORMAL  \n",
      "90     NORMAL  \n",
      "119  DISPENSA  \n",
      "175    NORMAL  \n",
      "235    NORMAL  \n",
      "\n",
      "[5 rows x 30 columns]\n"
     ]
    }
   ],
   "source": [
    "print(merged_df.head())\n"
   ]
  },
  {
   "cell_type": "code",
   "execution_count": 22,
   "id": "543db886-ea21-42c5-b0e3-8601eea651af",
   "metadata": {},
   "outputs": [
    {
     "name": "stdout",
     "output_type": "stream",
     "text": [
      "     MATRICULA    ID_CIDADAO                             NOME  IDADE  \\\n",
      "0    102210002  5.175670e+09        ELISMAEL GUIMARAES MENINO     43   \n",
      "90   102210003 -1.000000e+00      EDUARDO JOSE MOREIRA COLACO     40   \n",
      "119  102210004  2.454245e+08  ADILTON ANGELO SEIXAS MAGALHAES     43   \n",
      "175  102210005  1.195394e+09        RICARDO MADEIRA FERNANDES     43   \n",
      "235  102210006  4.220965e+09            BRUNO COITINHO ARAUJO     40   \n",
      "\n",
      "            E-MAIL     GENERO ESTADO_CIVIL_ALUNOS NACIONALIDADE  \\\n",
      "0    Não informado  MASCULINO            SOLTEIRO    BRASILEIRA   \n",
      "90   Não informado  MASCULINO            SOLTEIRO    BRASILEIRA   \n",
      "119  Não informado  MASCULINO            SOLTEIRO    BRASILEIRA   \n",
      "175  Não informado  MASCULINO            SOLTEIRO    BRASILEIRA   \n",
      "235  Não informado  MASCULINO            SOLTEIRO    BRASILEIRA   \n",
      "\n",
      "        LOCAL_NASCIMENTO    ESTADO  TERMO_ESTADO RAZAO_INATIVIDADE  \\\n",
      "0            PIANC? - PB  GRADUADO        2009.1      DESCONHECIDO   \n",
      "90   CAMPINA GRANDE - PB   INATIVO        2005.1        REINGRESSO   \n",
      "119         Desconhecido  GRADUADO        2004.1      DESCONHECIDO   \n",
      "175       BOA VISTA - RR  GRADUADO        2007.1      DESCONHECIDO   \n",
      "235  CAMPINA GRANDE - PB  GRADUADO        2006.2      DESCONHECIDO   \n",
      "\n",
      "    TIPO_ADMISSAO  TERMO_ADMISSAO POLITICA_AFIRMATIVA TIPO_ENSINO_MEDIO  \\\n",
      "0      VESTIBULAR          2002.2                  A0      DESCONHECIDA   \n",
      "90     VESTIBULAR          2002.2                  A0      DESCONHECIDA   \n",
      "119    VESTIBULAR          2002.2                  A0      DESCONHECIDA   \n",
      "175    VESTIBULAR          2002.2                  A0      DESCONHECIDA   \n",
      "235    VESTIBULAR          2002.2                  A0      DESCONHECIDA   \n",
      "\n",
      "     ANO_FORMATURA_ENSINO_MEDIO  CODIGO_CURSO  CODIGO_CURRICULAR  \\\n",
      "0                        2014.0      14102100               1999   \n",
      "90                       2014.0      14102100               1999   \n",
      "119                      2014.0      14102100               1999   \n",
      "175                      2014.0      14102100               1999   \n",
      "235                      2014.0      14102100               1999   \n",
      "\n",
      "      ALUNOS_ATIVOS  EX_ALUNOS  ALUNOS_INATIVOS  CODIGO_DISCIPLINA  CREDITOS  \\\n",
      "0             False       True            False            1109035         4   \n",
      "90            False      False             True            1109035         4   \n",
      "119           False       True            False            1108089         4   \n",
      "175           False       True            False            1109035         4   \n",
      "235           False       True            False            1109035         4   \n",
      "\n",
      "     HORAS   TERMO  ID_CLASS  NOTA   ESTATUS      TIPO  \n",
      "0       60  2002.2       5.0   8.0  APROVADO    NORMAL  \n",
      "90      60  2002.2       5.0  -1.0  TRANCADO    NORMAL  \n",
      "119     60  2002.2      -1.0   5.1  APROVADO  DISPENSA  \n",
      "175     60  2002.2       5.0   7.2  APROVADO    NORMAL  \n",
      "235     60  2002.2       5.0   6.0  APROVADO    NORMAL  \n"
     ]
    }
   ],
   "source": [
    "pd.set_option('display.max_columns', None)  # Garante que todas as colunas sejam exibidas\n",
    "print(merged_df.head())\n"
   ]
  },
  {
   "cell_type": "markdown",
   "id": "f7b095d9-7f55-40f9-b950-95bc39b7b0ab",
   "metadata": {},
   "source": [
    "### Seleção colunas relevantes"
   ]
  },
  {
   "cell_type": "code",
   "execution_count": 26,
   "id": "3fffc819-ff81-4c4f-b6d6-039ba4d0d07e",
   "metadata": {},
   "outputs": [
    {
     "name": "stdout",
     "output_type": "stream",
     "text": [
      "     IDADE     GENERO ESTADO_CIVIL_ALUNOS NACIONALIDADE TIPO_ADMISSAO  \\\n",
      "0       43  MASCULINO            SOLTEIRO    BRASILEIRA    VESTIBULAR   \n",
      "90      40  MASCULINO            SOLTEIRO    BRASILEIRA    VESTIBULAR   \n",
      "119     43  MASCULINO            SOLTEIRO    BRASILEIRA    VESTIBULAR   \n",
      "175     43  MASCULINO            SOLTEIRO    BRASILEIRA    VESTIBULAR   \n",
      "235     40  MASCULINO            SOLTEIRO    BRASILEIRA    VESTIBULAR   \n",
      "\n",
      "    POLITICA_AFIRMATIVA TIPO_ENSINO_MEDIO  ANO_FORMATURA_ENSINO_MEDIO  \\\n",
      "0                    A0      DESCONHECIDA                      2014.0   \n",
      "90                   A0      DESCONHECIDA                      2014.0   \n",
      "119                  A0      DESCONHECIDA                      2014.0   \n",
      "175                  A0      DESCONHECIDA                      2014.0   \n",
      "235                  A0      DESCONHECIDA                      2014.0   \n",
      "\n",
      "     CODIGO_CURSO  TERMO_ESTADO  CREDITOS  HORAS  NOTA   ESTATUS    ESTADO  \n",
      "0        14102100        2009.1         4     60   8.0  APROVADO  GRADUADO  \n",
      "90       14102100        2005.1         4     60  -1.0  TRANCADO   INATIVO  \n",
      "119      14102100        2004.1         4     60   5.1  APROVADO  GRADUADO  \n",
      "175      14102100        2007.1         4     60   7.2  APROVADO  GRADUADO  \n",
      "235      14102100        2006.2         4     60   6.0  APROVADO  GRADUADO  \n"
     ]
    }
   ],
   "source": [
    "# Definição das colunas relevantes\n",
    "colunas_relevantes = [\n",
    "    'IDADE', 'GENERO', 'ESTADO_CIVIL_ALUNOS', 'NACIONALIDADE', 'TIPO_ADMISSAO',\n",
    "    'POLITICA_AFIRMATIVA', 'TIPO_ENSINO_MEDIO', 'ANO_FORMATURA_ENSINO_MEDIO',\n",
    "    'CODIGO_CURSO', 'TERMO_ESTADO', 'CREDITOS', 'HORAS', 'NOTA', 'ESTATUS', 'ESTADO'\n",
    "]\n",
    "\n",
    "# Criar novo DataFrame apenas com as colunas selecionadas\n",
    "df_modelo = merged_df[colunas_relevantes].copy()\n",
    "\n",
    "# Exibir as 5 primeiras linhas para conferir\n",
    "print(df_modelo.head())\n"
   ]
  },
  {
   "cell_type": "code",
   "execution_count": 27,
   "id": "e30911a5-14c9-44b5-82c6-3f292e766880",
   "metadata": {},
   "outputs": [
    {
     "data": {
      "text/plain": [
       "IDADE                           int64\n",
       "GENERO                         object\n",
       "ESTADO_CIVIL_ALUNOS            object\n",
       "NACIONALIDADE                  object\n",
       "TIPO_ADMISSAO                  object\n",
       "POLITICA_AFIRMATIVA            object\n",
       "TIPO_ENSINO_MEDIO              object\n",
       "ANO_FORMATURA_ENSINO_MEDIO    float64\n",
       "CODIGO_CURSO                    int64\n",
       "TERMO_ESTADO                  float64\n",
       "CREDITOS                        int64\n",
       "HORAS                           int64\n",
       "NOTA                          float64\n",
       "ESTATUS                        object\n",
       "ESTADO                         object\n",
       "dtype: object"
      ]
     },
     "execution_count": 27,
     "metadata": {},
     "output_type": "execute_result"
    }
   ],
   "source": [
    "df_modelo.dtypes\n"
   ]
  },
  {
   "cell_type": "code",
   "execution_count": 28,
   "id": "19135201-283f-4cec-8ca7-086dfd55e71f",
   "metadata": {},
   "outputs": [
    {
     "name": "stdout",
     "output_type": "stream",
     "text": [
      "0\n"
     ]
    }
   ],
   "source": [
    "print(df_modelo.isnull().sum().sum())  # Deve retornar 0 se tudo estiver tratado\n"
   ]
  },
  {
   "cell_type": "markdown",
   "id": "77f3a4ff-3167-45da-b3a0-06dd40feb1d0",
   "metadata": {},
   "source": [
    "### verificar os valores únicos da variável ESTADO"
   ]
  },
  {
   "cell_type": "code",
   "execution_count": 29,
   "id": "b111deaa-a71b-44ce-b704-22bba0d0c8ee",
   "metadata": {},
   "outputs": [
    {
     "data": {
      "text/plain": [
       "array(['GRADUADO', 'INATIVO', 'ATIVO'], dtype=object)"
      ]
     },
     "execution_count": 29,
     "metadata": {},
     "output_type": "execute_result"
    }
   ],
   "source": [
    "df_modelo[\"ESTADO\"].unique()\n"
   ]
  },
  {
   "cell_type": "markdown",
   "id": "15bd4ad9-8c23-4c7d-8fdf-fdb47fd0e998",
   "metadata": {},
   "source": [
    "### Transformação de Variáveis Categóricas"
   ]
  },
  {
   "cell_type": "code",
   "execution_count": 30,
   "id": "1ee359c7-f866-4344-8bb8-854f88e46e8d",
   "metadata": {},
   "outputs": [
    {
     "name": "stdout",
     "output_type": "stream",
     "text": [
      "EVASAO\n",
      "1    1709\n",
      "0     726\n",
      "Name: count, dtype: int64\n"
     ]
    }
   ],
   "source": [
    "# Remover alunos que se formaram\n",
    "df_modelo = df_modelo[df_modelo[\"ESTADO\"] != \"GRADUADO\"]\n",
    "\n",
    "# Criar a variável EVASAO\n",
    "df_modelo[\"EVASAO\"] = df_modelo[\"ESTADO\"].apply(lambda x: 1 if x in [\"INATIVO\", \"CANCELADO\"] else 0)\n",
    "\n",
    "# Verificar distribuição da variável EVASAO\n",
    "print(df_modelo[\"EVASAO\"].value_counts())\n"
   ]
  },
  {
   "cell_type": "code",
   "execution_count": null,
   "id": "0ec02611-a963-47b5-8055-b5cbac4a5775",
   "metadata": {},
   "outputs": [],
   "source": [
    "# Transformação das variáveis categóricas usando one-hot encoding\n",
    "colunas_categoricas = ['GENERO', 'ESTADO_CIVIL_ALUNOS', 'NACIONALIDADE', 'TIPO_ADMISSAO', \n",
    "                       'POLITICA_AFIRMATIVA', 'TIPO_ENSINO_MEDIO']\n",
    "df_modelo = pd.get_dummies(df_modelo, columns=colunas_categoricas, drop_first=True)\n",
    "\n",
    "# Exibir as primeiras linhas do dataframe transformado\n",
    "print(df_modelo.head())"
   ]
  },
  {
   "cell_type": "code",
   "execution_count": 31,
   "id": "8a740bc3-cc8b-4ca6-9173-9a65b04eaaf8",
   "metadata": {},
   "outputs": [
    {
     "name": "stdout",
     "output_type": "stream",
     "text": [
      "(2435, 46)\n"
     ]
    }
   ],
   "source": [
    "from sklearn.preprocessing import LabelEncoder, StandardScaler, OneHotEncoder\n",
    "from sklearn.compose import ColumnTransformer\n",
    "from sklearn.pipeline import Pipeline\n",
    "from sklearn.preprocessing import OrdinalEncoder\n",
    "\n",
    "# Listando as variáveis categóricas e numéricas\n",
    "categorical_features = ['GENERO', 'ESTADO_CIVIL_ALUNOS', 'NACIONALIDADE', 'TIPO_ADMISSAO', \n",
    "                        'POLITICA_AFIRMATIVA', 'TIPO_ENSINO_MEDIO', 'ESTATUS', 'ESTADO']\n",
    "numerical_features = ['IDADE', 'ANO_FORMATURA_ENSINO_MEDIO', 'CODIGO_CURSO', 'TERMO_ESTADO', \n",
    "                      'CREDITOS', 'HORAS', 'NOTA']\n",
    "\n",
    "# Criar um pipeline para as variáveis categóricas\n",
    "categorical_transformer = Pipeline(steps=[\n",
    "    ('onehot', OneHotEncoder(handle_unknown='ignore'))\n",
    "])\n",
    "\n",
    "# Criar um pipeline para as variáveis numéricas (padronização)\n",
    "numerical_transformer = Pipeline(steps=[\n",
    "    ('scaler', StandardScaler())\n",
    "])\n",
    "\n",
    "# Criar um pré-processador\n",
    "preprocessor = ColumnTransformer(\n",
    "    transformers=[\n",
    "        ('num', numerical_transformer, numerical_features),\n",
    "        ('cat', categorical_transformer, categorical_features)\n",
    "    ])\n",
    "\n",
    "# Aplicar o pré-processamento aos dados\n",
    "X = preprocessor.fit_transform(df_modelo)\n",
    "\n",
    "# Visualizar o resultado do pré-processamento\n",
    "print(X.shape)\n"
   ]
  },
  {
   "cell_type": "code",
   "execution_count": 32,
   "id": "32f696ff-c9c9-4964-8d39-f764cd9d06a4",
   "metadata": {},
   "outputs": [
    {
     "name": "stdout",
     "output_type": "stream",
     "text": [
      "['num__IDADE' 'num__ANO_FORMATURA_ENSINO_MEDIO' 'num__CODIGO_CURSO'\n",
      " 'num__TERMO_ESTADO' 'num__CREDITOS' 'num__HORAS' 'num__NOTA'\n",
      " 'cat__GENERO_FEMININO' 'cat__GENERO_MASCULINO'\n",
      " 'cat__ESTADO_CIVIL_ALUNOS_CASADO' 'cat__ESTADO_CIVIL_ALUNOS_DESCONHECIDO'\n",
      " 'cat__ESTADO_CIVIL_ALUNOS_DIVORCIADO' 'cat__ESTADO_CIVIL_ALUNOS_SOLTEIRO'\n",
      " 'cat__ESTADO_CIVIL_ALUNOS_VIUVO' 'cat__NACIONALIDADE_BRASILEIRA'\n",
      " 'cat__NACIONALIDADE_BRASILEIRA_POR_NATURALIZACAO'\n",
      " 'cat__NACIONALIDADE_ESTRANGEIRA' 'cat__TIPO_ADMISSAO_CONVENIO'\n",
      " 'cat__TIPO_ADMISSAO_DECISAO_JUDICIAL_ADM' 'cat__TIPO_ADMISSAO_GRADUADO'\n",
      " 'cat__TIPO_ADMISSAO_REOPCAO' 'cat__TIPO_ADMISSAO_SISU'\n",
      " 'cat__TIPO_ADMISSAO_TRANSFERENCIA' 'cat__TIPO_ADMISSAO_VESTIBULAR'\n",
      " 'cat__POLITICA_AFIRMATIVA_A0' 'cat__POLITICA_AFIRMATIVA_BONUS'\n",
      " 'cat__POLITICA_AFIRMATIVA_L1' 'cat__POLITICA_AFIRMATIVA_L10'\n",
      " 'cat__POLITICA_AFIRMATIVA_L13' 'cat__POLITICA_AFIRMATIVA_L14'\n",
      " 'cat__POLITICA_AFIRMATIVA_L2' 'cat__POLITICA_AFIRMATIVA_L5'\n",
      " 'cat__POLITICA_AFIRMATIVA_L6' 'cat__POLITICA_AFIRMATIVA_L9'\n",
      " 'cat__TIPO_ENSINO_MEDIO_DESCONHECIDA'\n",
      " 'cat__TIPO_ENSINO_MEDIO_MAJORITARIAMENTE_PRIVADA'\n",
      " 'cat__TIPO_ENSINO_MEDIO_MAJORITARIAMENTE_PUBLICA'\n",
      " 'cat__TIPO_ENSINO_MEDIO_PRIVADA' 'cat__TIPO_ENSINO_MEDIO_PUBLICA'\n",
      " 'cat__ESTATUS_APROVADO' 'cat__ESTATUS_CANCELADO'\n",
      " 'cat__ESTATUS_REPROVADO_POR_FALTA' 'cat__ESTATUS_REPROVADO_POR_NOTA'\n",
      " 'cat__ESTATUS_TRANCADO' 'cat__ESTADO_ATIVO' 'cat__ESTADO_INATIVO']\n"
     ]
    }
   ],
   "source": [
    "# Visualizando as colunas resultantes\n",
    "columns = preprocessor.get_feature_names_out()\n",
    "print(columns)\n"
   ]
  },
  {
   "cell_type": "code",
   "execution_count": 33,
   "id": "aacb8007-293a-4297-ba6d-a6c955f7d8c2",
   "metadata": {},
   "outputs": [
    {
     "name": "stdout",
     "output_type": "stream",
     "text": [
      "   num__IDADE  num__ANO_FORMATURA_ENSINO_MEDIO  num__CODIGO_CURSO  \\\n",
      "0    1.756239                        -0.132636                0.0   \n",
      "1    2.066959                        -0.132636                0.0   \n",
      "2    2.222319                        -0.132636                0.0   \n",
      "3    1.911599                        -0.132636                0.0   \n",
      "4    1.756239                        -0.132636                0.0   \n",
      "\n",
      "   num__TERMO_ESTADO  num__CREDITOS  num__HORAS  num__NOTA  \\\n",
      "0          -2.700396       0.039374    0.039374  -1.515207   \n",
      "1          -2.439828       0.039374    0.039374  -1.250284   \n",
      "2          -1.892635       0.039374    0.039374  -1.250284   \n",
      "3          -2.439828       0.039374    0.039374   0.657161   \n",
      "4          -2.153203       0.039374    0.039374  -0.905884   \n",
      "\n",
      "   cat__GENERO_FEMININO  cat__GENERO_MASCULINO  \\\n",
      "0                   0.0                    1.0   \n",
      "1                   0.0                    1.0   \n",
      "2                   0.0                    1.0   \n",
      "3                   1.0                    0.0   \n",
      "4                   0.0                    1.0   \n",
      "\n",
      "   cat__ESTADO_CIVIL_ALUNOS_CASADO  cat__ESTADO_CIVIL_ALUNOS_DESCONHECIDO  \\\n",
      "0                              0.0                                    0.0   \n",
      "1                              0.0                                    0.0   \n",
      "2                              0.0                                    0.0   \n",
      "3                              0.0                                    0.0   \n",
      "4                              0.0                                    0.0   \n",
      "\n",
      "   cat__ESTADO_CIVIL_ALUNOS_DIVORCIADO  cat__ESTADO_CIVIL_ALUNOS_SOLTEIRO  \\\n",
      "0                                  0.0                                1.0   \n",
      "1                                  0.0                                1.0   \n",
      "2                                  0.0                                1.0   \n",
      "3                                  0.0                                1.0   \n",
      "4                                  0.0                                1.0   \n",
      "\n",
      "   cat__ESTADO_CIVIL_ALUNOS_VIUVO  cat__NACIONALIDADE_BRASILEIRA  \\\n",
      "0                             0.0                            1.0   \n",
      "1                             0.0                            1.0   \n",
      "2                             0.0                            1.0   \n",
      "3                             0.0                            1.0   \n",
      "4                             0.0                            1.0   \n",
      "\n",
      "   cat__NACIONALIDADE_BRASILEIRA_POR_NATURALIZACAO  \\\n",
      "0                                              0.0   \n",
      "1                                              0.0   \n",
      "2                                              0.0   \n",
      "3                                              0.0   \n",
      "4                                              0.0   \n",
      "\n",
      "   cat__NACIONALIDADE_ESTRANGEIRA  cat__TIPO_ADMISSAO_CONVENIO  \\\n",
      "0                             0.0                          0.0   \n",
      "1                             0.0                          0.0   \n",
      "2                             0.0                          0.0   \n",
      "3                             0.0                          0.0   \n",
      "4                             0.0                          0.0   \n",
      "\n",
      "   cat__TIPO_ADMISSAO_DECISAO_JUDICIAL_ADM  cat__TIPO_ADMISSAO_GRADUADO  \\\n",
      "0                                      0.0                          0.0   \n",
      "1                                      0.0                          0.0   \n",
      "2                                      0.0                          0.0   \n",
      "3                                      0.0                          0.0   \n",
      "4                                      0.0                          0.0   \n",
      "\n",
      "   cat__TIPO_ADMISSAO_REOPCAO  cat__TIPO_ADMISSAO_SISU  \\\n",
      "0                         0.0                      0.0   \n",
      "1                         0.0                      0.0   \n",
      "2                         0.0                      0.0   \n",
      "3                         0.0                      0.0   \n",
      "4                         0.0                      0.0   \n",
      "\n",
      "   cat__TIPO_ADMISSAO_TRANSFERENCIA  cat__TIPO_ADMISSAO_VESTIBULAR  \\\n",
      "0                               0.0                            1.0   \n",
      "1                               0.0                            1.0   \n",
      "2                               0.0                            1.0   \n",
      "3                               0.0                            1.0   \n",
      "4                               0.0                            1.0   \n",
      "\n",
      "   cat__POLITICA_AFIRMATIVA_A0  cat__POLITICA_AFIRMATIVA_BONUS  \\\n",
      "0                          1.0                             0.0   \n",
      "1                          1.0                             0.0   \n",
      "2                          1.0                             0.0   \n",
      "3                          1.0                             0.0   \n",
      "4                          1.0                             0.0   \n",
      "\n",
      "   cat__POLITICA_AFIRMATIVA_L1  cat__POLITICA_AFIRMATIVA_L10  \\\n",
      "0                          0.0                           0.0   \n",
      "1                          0.0                           0.0   \n",
      "2                          0.0                           0.0   \n",
      "3                          0.0                           0.0   \n",
      "4                          0.0                           0.0   \n",
      "\n",
      "   cat__POLITICA_AFIRMATIVA_L13  cat__POLITICA_AFIRMATIVA_L14  \\\n",
      "0                           0.0                           0.0   \n",
      "1                           0.0                           0.0   \n",
      "2                           0.0                           0.0   \n",
      "3                           0.0                           0.0   \n",
      "4                           0.0                           0.0   \n",
      "\n",
      "   cat__POLITICA_AFIRMATIVA_L2  cat__POLITICA_AFIRMATIVA_L5  \\\n",
      "0                          0.0                          0.0   \n",
      "1                          0.0                          0.0   \n",
      "2                          0.0                          0.0   \n",
      "3                          0.0                          0.0   \n",
      "4                          0.0                          0.0   \n",
      "\n",
      "   cat__POLITICA_AFIRMATIVA_L6  cat__POLITICA_AFIRMATIVA_L9  \\\n",
      "0                          0.0                          0.0   \n",
      "1                          0.0                          0.0   \n",
      "2                          0.0                          0.0   \n",
      "3                          0.0                          0.0   \n",
      "4                          0.0                          0.0   \n",
      "\n",
      "   cat__TIPO_ENSINO_MEDIO_DESCONHECIDA  \\\n",
      "0                                  1.0   \n",
      "1                                  1.0   \n",
      "2                                  1.0   \n",
      "3                                  1.0   \n",
      "4                                  1.0   \n",
      "\n",
      "   cat__TIPO_ENSINO_MEDIO_MAJORITARIAMENTE_PRIVADA  \\\n",
      "0                                              0.0   \n",
      "1                                              0.0   \n",
      "2                                              0.0   \n",
      "3                                              0.0   \n",
      "4                                              0.0   \n",
      "\n",
      "   cat__TIPO_ENSINO_MEDIO_MAJORITARIAMENTE_PUBLICA  \\\n",
      "0                                              0.0   \n",
      "1                                              0.0   \n",
      "2                                              0.0   \n",
      "3                                              0.0   \n",
      "4                                              0.0   \n",
      "\n",
      "   cat__TIPO_ENSINO_MEDIO_PRIVADA  cat__TIPO_ENSINO_MEDIO_PUBLICA  \\\n",
      "0                             0.0                             0.0   \n",
      "1                             0.0                             0.0   \n",
      "2                             0.0                             0.0   \n",
      "3                             0.0                             0.0   \n",
      "4                             0.0                             0.0   \n",
      "\n",
      "   cat__ESTATUS_APROVADO  cat__ESTATUS_CANCELADO  \\\n",
      "0                    0.0                     0.0   \n",
      "1                    0.0                     0.0   \n",
      "2                    0.0                     0.0   \n",
      "3                    1.0                     0.0   \n",
      "4                    0.0                     0.0   \n",
      "\n",
      "   cat__ESTATUS_REPROVADO_POR_FALTA  cat__ESTATUS_REPROVADO_POR_NOTA  \\\n",
      "0                               0.0                              0.0   \n",
      "1                               1.0                              0.0   \n",
      "2                               1.0                              0.0   \n",
      "3                               0.0                              0.0   \n",
      "4                               0.0                              1.0   \n",
      "\n",
      "   cat__ESTATUS_TRANCADO  cat__ESTADO_ATIVO  cat__ESTADO_INATIVO  \n",
      "0                    1.0                0.0                  1.0  \n",
      "1                    0.0                0.0                  1.0  \n",
      "2                    0.0                0.0                  1.0  \n",
      "3                    0.0                0.0                  1.0  \n",
      "4                    0.0                0.0                  1.0  \n"
     ]
    }
   ],
   "source": [
    "# Verificar as primeiras linhas da nova base\n",
    "import pandas as pd\n",
    "\n",
    "# Convertendo o array resultante em um DataFrame para visualização\n",
    "df_transformed = pd.DataFrame(X, columns=columns)\n",
    "print(df_transformed.head())\n"
   ]
  },
  {
   "cell_type": "code",
   "execution_count": 34,
   "id": "e25b9f0b-ac36-423e-9328-a49e91348ce8",
   "metadata": {},
   "outputs": [
    {
     "name": "stdout",
     "output_type": "stream",
     "text": [
      "O intervalo de anos na variável ANO_FORMATURA_ENSINO_MEDIO é de 1982.0 a 2023.0.\n"
     ]
    }
   ],
   "source": [
    "# Verificar o intervalo de anos na variável 'ANO_FORMATURA_ENSINO_MEDIO'\n",
    "intervalo_anos = df_modelo['ANO_FORMATURA_ENSINO_MEDIO']\n",
    "\n",
    "# Exibir o valor mínimo e máximo dessa variável\n",
    "ano_minimo = intervalo_anos.min()\n",
    "ano_maximo = intervalo_anos.max()\n",
    "\n",
    "print(f'O intervalo de anos na variável ANO_FORMATURA_ENSINO_MEDIO é de {ano_minimo} a {ano_maximo}.')\n"
   ]
  },
  {
   "cell_type": "markdown",
   "id": "4e3f75e0-ca75-423f-88df-1f2be43fd407",
   "metadata": {},
   "source": [
    "### Criação da Feature Store"
   ]
  },
  {
   "cell_type": "markdown",
   "id": "969e4d41-d0cb-4b15-9a3b-2b4721ff5fac",
   "metadata": {},
   "source": [
    "### Passos para criação da Feature Store\n",
    "1. Criar um DataFrame a partir dos dados transformados"
   ]
  },
  {
   "cell_type": "code",
   "execution_count": 36,
   "id": "4f21a86c-35ce-4090-a7d6-3b43999c7cf1",
   "metadata": {},
   "outputs": [
    {
     "name": "stdout",
     "output_type": "stream",
     "text": [
      "      IDADE  ANO_FORMATURA_ENSINO_MEDIO  CODIGO_CURSO  TERMO_ESTADO  CREDITOS  \\\n",
      "0  1.756239                   -0.132636           0.0     -2.700396  0.039374   \n",
      "1  2.066959                   -0.132636           0.0     -2.439828  0.039374   \n",
      "2  2.222319                   -0.132636           0.0     -1.892635  0.039374   \n",
      "3  1.911599                   -0.132636           0.0     -2.439828  0.039374   \n",
      "4  1.756239                   -0.132636           0.0     -2.153203  0.039374   \n",
      "\n",
      "      HORAS      NOTA  GENERO_FEMININO  GENERO_MASCULINO  \\\n",
      "0  0.039374 -1.515207              0.0               1.0   \n",
      "1  0.039374 -1.250284              0.0               1.0   \n",
      "2  0.039374 -1.250284              0.0               1.0   \n",
      "3  0.039374  0.657161              1.0               0.0   \n",
      "4  0.039374 -0.905884              0.0               1.0   \n",
      "\n",
      "   ESTADO_CIVIL_ALUNOS_CASADO  ESTADO_CIVIL_ALUNOS_DESCONHECIDO  \\\n",
      "0                         0.0                               0.0   \n",
      "1                         0.0                               0.0   \n",
      "2                         0.0                               0.0   \n",
      "3                         0.0                               0.0   \n",
      "4                         0.0                               0.0   \n",
      "\n",
      "   ESTADO_CIVIL_ALUNOS_DIVORCIADO  ESTADO_CIVIL_ALUNOS_SOLTEIRO  \\\n",
      "0                             0.0                           1.0   \n",
      "1                             0.0                           1.0   \n",
      "2                             0.0                           1.0   \n",
      "3                             0.0                           1.0   \n",
      "4                             0.0                           1.0   \n",
      "\n",
      "   ESTADO_CIVIL_ALUNOS_VIUVO  NACIONALIDADE_BRASILEIRA  \\\n",
      "0                        0.0                       1.0   \n",
      "1                        0.0                       1.0   \n",
      "2                        0.0                       1.0   \n",
      "3                        0.0                       1.0   \n",
      "4                        0.0                       1.0   \n",
      "\n",
      "   NACIONALIDADE_BRASILEIRA_POR_NATURALIZACAO  NACIONALIDADE_ESTRANGEIRA  \\\n",
      "0                                         0.0                        0.0   \n",
      "1                                         0.0                        0.0   \n",
      "2                                         0.0                        0.0   \n",
      "3                                         0.0                        0.0   \n",
      "4                                         0.0                        0.0   \n",
      "\n",
      "   TIPO_ADMISSAO_CONVENIO  TIPO_ADMISSAO_DECISAO_JUDICIAL_ADM  \\\n",
      "0                     0.0                                 0.0   \n",
      "1                     0.0                                 0.0   \n",
      "2                     0.0                                 0.0   \n",
      "3                     0.0                                 0.0   \n",
      "4                     0.0                                 0.0   \n",
      "\n",
      "   TIPO_ADMISSAO_GRADUADO  TIPO_ADMISSAO_REOPCAO  TIPO_ADMISSAO_SISU  \\\n",
      "0                     0.0                    0.0                 0.0   \n",
      "1                     0.0                    0.0                 0.0   \n",
      "2                     0.0                    0.0                 0.0   \n",
      "3                     0.0                    0.0                 0.0   \n",
      "4                     0.0                    0.0                 0.0   \n",
      "\n",
      "   TIPO_ADMISSAO_TRANSFERENCIA  TIPO_ADMISSAO_VESTIBULAR  \\\n",
      "0                          0.0                       1.0   \n",
      "1                          0.0                       1.0   \n",
      "2                          0.0                       1.0   \n",
      "3                          0.0                       1.0   \n",
      "4                          0.0                       1.0   \n",
      "\n",
      "   POLITICA_AFIRMATIVA_A0  POLITICA_AFIRMATIVA_BONUS  POLITICA_AFIRMATIVA_L1  \\\n",
      "0                     1.0                        0.0                     0.0   \n",
      "1                     1.0                        0.0                     0.0   \n",
      "2                     1.0                        0.0                     0.0   \n",
      "3                     1.0                        0.0                     0.0   \n",
      "4                     1.0                        0.0                     0.0   \n",
      "\n",
      "   POLITICA_AFIRMATIVA_L10  POLITICA_AFIRMATIVA_L13  POLITICA_AFIRMATIVA_L14  \\\n",
      "0                      0.0                      0.0                      0.0   \n",
      "1                      0.0                      0.0                      0.0   \n",
      "2                      0.0                      0.0                      0.0   \n",
      "3                      0.0                      0.0                      0.0   \n",
      "4                      0.0                      0.0                      0.0   \n",
      "\n",
      "   POLITICA_AFIRMATIVA_L2  POLITICA_AFIRMATIVA_L5  POLITICA_AFIRMATIVA_L6  \\\n",
      "0                     0.0                     0.0                     0.0   \n",
      "1                     0.0                     0.0                     0.0   \n",
      "2                     0.0                     0.0                     0.0   \n",
      "3                     0.0                     0.0                     0.0   \n",
      "4                     0.0                     0.0                     0.0   \n",
      "\n",
      "   POLITICA_AFIRMATIVA_L9  TIPO_ENSINO_MEDIO_DESCONHECIDA  \\\n",
      "0                     0.0                             1.0   \n",
      "1                     0.0                             1.0   \n",
      "2                     0.0                             1.0   \n",
      "3                     0.0                             1.0   \n",
      "4                     0.0                             1.0   \n",
      "\n",
      "   TIPO_ENSINO_MEDIO_MAJORITARIAMENTE_PRIVADA  \\\n",
      "0                                         0.0   \n",
      "1                                         0.0   \n",
      "2                                         0.0   \n",
      "3                                         0.0   \n",
      "4                                         0.0   \n",
      "\n",
      "   TIPO_ENSINO_MEDIO_MAJORITARIAMENTE_PUBLICA  TIPO_ENSINO_MEDIO_PRIVADA  \\\n",
      "0                                         0.0                        0.0   \n",
      "1                                         0.0                        0.0   \n",
      "2                                         0.0                        0.0   \n",
      "3                                         0.0                        0.0   \n",
      "4                                         0.0                        0.0   \n",
      "\n",
      "   TIPO_ENSINO_MEDIO_PUBLICA  ESTATUS_APROVADO  ESTATUS_CANCELADO  \\\n",
      "0                        0.0               0.0                0.0   \n",
      "1                        0.0               0.0                0.0   \n",
      "2                        0.0               0.0                0.0   \n",
      "3                        0.0               1.0                0.0   \n",
      "4                        0.0               0.0                0.0   \n",
      "\n",
      "   ESTATUS_REPROVADO_POR_FALTA  ESTATUS_REPROVADO_POR_NOTA  ESTATUS_TRANCADO  \\\n",
      "0                          0.0                         0.0               1.0   \n",
      "1                          1.0                         0.0               0.0   \n",
      "2                          1.0                         0.0               0.0   \n",
      "3                          0.0                         0.0               0.0   \n",
      "4                          0.0                         1.0               0.0   \n",
      "\n",
      "   ESTADO_ATIVO  ESTADO_INATIVO  \n",
      "0           0.0             1.0  \n",
      "1           0.0             1.0  \n",
      "2           0.0             1.0  \n",
      "3           0.0             1.0  \n",
      "4           0.0             1.0  \n"
     ]
    }
   ],
   "source": [
    "import joblib\n",
    "\n",
    "# Criar nomes de colunas após a transformação OneHotEncoder\n",
    "cat_columns = preprocessor.named_transformers_['cat'].named_steps['onehot'].get_feature_names_out(categorical_features)\n",
    "num_columns = numerical_features\n",
    "\n",
    "# Unindo os nomes das colunas transformadas\n",
    "columns_final = list(num_columns) + list(cat_columns)\n",
    "\n",
    "# Criando o DataFrame final com os dados transformados\n",
    "df_feature_store = pd.DataFrame(X, columns=columns_final)\n",
    "\n",
    "# Salvando a Feature Store como CSV e Parquet\n",
    "df_feature_store.to_csv(\"feature_store.csv\", index=False)\n",
    "df_feature_store.to_parquet(\"feature_store.parquet\", index=False)\n",
    "\n",
    "# Salvando o pré-processador para reutilização futura\n",
    "joblib.dump(preprocessor, \"preprocessor.pkl\")\n",
    "\n",
    "# Exibir as primeiras linhas\n",
    "print(df_feature_store.head())\n"
   ]
  },
  {
   "cell_type": "markdown",
   "id": "5a23923e-31e3-4e3a-b804-b961c77a1998",
   "metadata": {},
   "source": [
    "### Visualizar distribuição de dados"
   ]
  },
  {
   "cell_type": "code",
   "execution_count": 38,
   "id": "6f93ba09-89bf-4402-8f8a-f93f0701043f",
   "metadata": {
    "scrolled": true
   },
   "outputs": [
    {
     "name": "stdout",
     "output_type": "stream",
     "text": [
      "Visualização inicial dos dados:\n",
      "      IDADE  ANO_FORMATURA_ENSINO_MEDIO  CODIGO_CURSO  TERMO_ESTADO  CREDITOS  \\\n",
      "0  1.756239                   -0.132636           0.0     -2.700396  0.039374   \n",
      "1  2.066959                   -0.132636           0.0     -2.439828  0.039374   \n",
      "2  2.222319                   -0.132636           0.0     -1.892635  0.039374   \n",
      "3  1.911599                   -0.132636           0.0     -2.439828  0.039374   \n",
      "4  1.756239                   -0.132636           0.0     -2.153203  0.039374   \n",
      "\n",
      "      HORAS      NOTA  GENERO_FEMININO  GENERO_MASCULINO  \\\n",
      "0  0.039374 -1.515207              0.0               1.0   \n",
      "1  0.039374 -1.250284              0.0               1.0   \n",
      "2  0.039374 -1.250284              0.0               1.0   \n",
      "3  0.039374  0.657161              1.0               0.0   \n",
      "4  0.039374 -0.905884              0.0               1.0   \n",
      "\n",
      "   ESTADO_CIVIL_ALUNOS_CASADO  ESTADO_CIVIL_ALUNOS_DESCONHECIDO  \\\n",
      "0                         0.0                               0.0   \n",
      "1                         0.0                               0.0   \n",
      "2                         0.0                               0.0   \n",
      "3                         0.0                               0.0   \n",
      "4                         0.0                               0.0   \n",
      "\n",
      "   ESTADO_CIVIL_ALUNOS_DIVORCIADO  ESTADO_CIVIL_ALUNOS_SOLTEIRO  \\\n",
      "0                             0.0                           1.0   \n",
      "1                             0.0                           1.0   \n",
      "2                             0.0                           1.0   \n",
      "3                             0.0                           1.0   \n",
      "4                             0.0                           1.0   \n",
      "\n",
      "   ESTADO_CIVIL_ALUNOS_VIUVO  NACIONALIDADE_BRASILEIRA  \\\n",
      "0                        0.0                       1.0   \n",
      "1                        0.0                       1.0   \n",
      "2                        0.0                       1.0   \n",
      "3                        0.0                       1.0   \n",
      "4                        0.0                       1.0   \n",
      "\n",
      "   NACIONALIDADE_BRASILEIRA_POR_NATURALIZACAO  NACIONALIDADE_ESTRANGEIRA  \\\n",
      "0                                         0.0                        0.0   \n",
      "1                                         0.0                        0.0   \n",
      "2                                         0.0                        0.0   \n",
      "3                                         0.0                        0.0   \n",
      "4                                         0.0                        0.0   \n",
      "\n",
      "   TIPO_ADMISSAO_CONVENIO  TIPO_ADMISSAO_DECISAO_JUDICIAL_ADM  \\\n",
      "0                     0.0                                 0.0   \n",
      "1                     0.0                                 0.0   \n",
      "2                     0.0                                 0.0   \n",
      "3                     0.0                                 0.0   \n",
      "4                     0.0                                 0.0   \n",
      "\n",
      "   TIPO_ADMISSAO_GRADUADO  TIPO_ADMISSAO_REOPCAO  TIPO_ADMISSAO_SISU  \\\n",
      "0                     0.0                    0.0                 0.0   \n",
      "1                     0.0                    0.0                 0.0   \n",
      "2                     0.0                    0.0                 0.0   \n",
      "3                     0.0                    0.0                 0.0   \n",
      "4                     0.0                    0.0                 0.0   \n",
      "\n",
      "   TIPO_ADMISSAO_TRANSFERENCIA  TIPO_ADMISSAO_VESTIBULAR  \\\n",
      "0                          0.0                       1.0   \n",
      "1                          0.0                       1.0   \n",
      "2                          0.0                       1.0   \n",
      "3                          0.0                       1.0   \n",
      "4                          0.0                       1.0   \n",
      "\n",
      "   POLITICA_AFIRMATIVA_A0  POLITICA_AFIRMATIVA_BONUS  POLITICA_AFIRMATIVA_L1  \\\n",
      "0                     1.0                        0.0                     0.0   \n",
      "1                     1.0                        0.0                     0.0   \n",
      "2                     1.0                        0.0                     0.0   \n",
      "3                     1.0                        0.0                     0.0   \n",
      "4                     1.0                        0.0                     0.0   \n",
      "\n",
      "   POLITICA_AFIRMATIVA_L10  POLITICA_AFIRMATIVA_L13  POLITICA_AFIRMATIVA_L14  \\\n",
      "0                      0.0                      0.0                      0.0   \n",
      "1                      0.0                      0.0                      0.0   \n",
      "2                      0.0                      0.0                      0.0   \n",
      "3                      0.0                      0.0                      0.0   \n",
      "4                      0.0                      0.0                      0.0   \n",
      "\n",
      "   POLITICA_AFIRMATIVA_L2  POLITICA_AFIRMATIVA_L5  POLITICA_AFIRMATIVA_L6  \\\n",
      "0                     0.0                     0.0                     0.0   \n",
      "1                     0.0                     0.0                     0.0   \n",
      "2                     0.0                     0.0                     0.0   \n",
      "3                     0.0                     0.0                     0.0   \n",
      "4                     0.0                     0.0                     0.0   \n",
      "\n",
      "   POLITICA_AFIRMATIVA_L9  TIPO_ENSINO_MEDIO_DESCONHECIDA  \\\n",
      "0                     0.0                             1.0   \n",
      "1                     0.0                             1.0   \n",
      "2                     0.0                             1.0   \n",
      "3                     0.0                             1.0   \n",
      "4                     0.0                             1.0   \n",
      "\n",
      "   TIPO_ENSINO_MEDIO_MAJORITARIAMENTE_PRIVADA  \\\n",
      "0                                         0.0   \n",
      "1                                         0.0   \n",
      "2                                         0.0   \n",
      "3                                         0.0   \n",
      "4                                         0.0   \n",
      "\n",
      "   TIPO_ENSINO_MEDIO_MAJORITARIAMENTE_PUBLICA  TIPO_ENSINO_MEDIO_PRIVADA  \\\n",
      "0                                         0.0                        0.0   \n",
      "1                                         0.0                        0.0   \n",
      "2                                         0.0                        0.0   \n",
      "3                                         0.0                        0.0   \n",
      "4                                         0.0                        0.0   \n",
      "\n",
      "   TIPO_ENSINO_MEDIO_PUBLICA  ESTATUS_APROVADO  ESTATUS_CANCELADO  \\\n",
      "0                        0.0               0.0                0.0   \n",
      "1                        0.0               0.0                0.0   \n",
      "2                        0.0               0.0                0.0   \n",
      "3                        0.0               1.0                0.0   \n",
      "4                        0.0               0.0                0.0   \n",
      "\n",
      "   ESTATUS_REPROVADO_POR_FALTA  ESTATUS_REPROVADO_POR_NOTA  ESTATUS_TRANCADO  \\\n",
      "0                          0.0                         0.0               1.0   \n",
      "1                          1.0                         0.0               0.0   \n",
      "2                          1.0                         0.0               0.0   \n",
      "3                          0.0                         0.0               0.0   \n",
      "4                          0.0                         1.0               0.0   \n",
      "\n",
      "   ESTADO_ATIVO  ESTADO_INATIVO  \n",
      "0           0.0             1.0  \n",
      "1           0.0             1.0  \n",
      "2           0.0             1.0  \n",
      "3           0.0             1.0  \n",
      "4           0.0             1.0  \n"
     ]
    },
    {
     "name": "stderr",
     "output_type": "stream",
     "text": [
      "C:\\Users\\Big Data\\AppData\\Local\\Temp\\ipykernel_17856\\3064650515.py:20: FutureWarning: \n",
      "\n",
      "Passing `palette` without assigning `hue` is deprecated and will be removed in v0.14.0. Assign the `x` variable to `hue` and set `legend=False` for the same effect.\n",
      "\n",
      "  sns.barplot(x=class_distribution.index, y=class_distribution.values, palette=\"coolwarm\")\n"
     ]
    },
    {
     "data": {
      "image/png": "[encoded data removed]",
      "text/plain": [
       "<Figure size 1000x500 with 1 Axes>"
      ]
     },
     "metadata": {},
     "output_type": "display_data"
    },
    {
     "name": "stdout",
     "output_type": "stream",
     "text": [
      "Estatísticas descritivas das variáveis numéricas:\n",
      "              IDADE  ANO_FORMATURA_ENSINO_MEDIO  CODIGO_CURSO  TERMO_ESTADO  \\\n",
      "count  2.435000e+03                2.435000e+03        2435.0  2.435000e+03   \n",
      "mean   1.867546e-16                1.867546e-15           0.0  3.128139e-15   \n",
      "std    1.000205e+00                1.000205e+00           0.0  1.000205e+00   \n",
      "min   -1.661683e+00               -7.004297e+00           0.0 -3.195476e+00   \n",
      "25%   -8.848825e-01               -5.621146e-01           0.0 -5.897937e-01   \n",
      "50%    4.727795e-02               -1.326358e-01           0.0 -9.471414e-02   \n",
      "75%    6.687182e-01                7.263219e-01           0.0  4.264223e-01   \n",
      "max    5.329520e+00                1.800019e+00           0.0  2.250400e+00   \n",
      "\n",
      "           CREDITOS         HORAS          NOTA  GENERO_FEMININO  \\\n",
      "count  2.435000e+03  2.435000e+03  2.435000e+03      2435.000000   \n",
      "mean  -1.103019e-15  5.164931e-16  9.337728e-17         0.180287   \n",
      "std    1.000205e+00  1.000205e+00  1.000205e+00         0.384506   \n",
      "min   -2.735392e+01 -2.735392e+01 -1.515207e+00         0.000000   \n",
      "25%    3.937434e-02  3.937434e-02 -1.064838e+00         0.000000   \n",
      "50%    3.937434e-02  3.937434e-02  2.332845e-01         0.000000   \n",
      "75%    3.937434e-02  3.937434e-02  8.955917e-01         0.000000   \n",
      "max    3.937434e-02  3.937434e-02  1.398945e+00         1.000000   \n",
      "\n",
      "       GENERO_MASCULINO  ESTADO_CIVIL_ALUNOS_CASADO  \\\n",
      "count       2435.000000                 2435.000000   \n",
      "mean           0.819713                    0.022998   \n",
      "std            0.384506                    0.149928   \n",
      "min            0.000000                    0.000000   \n",
      "25%            1.000000                    0.000000   \n",
      "50%            1.000000                    0.000000   \n",
      "75%            1.000000                    0.000000   \n",
      "max            1.000000                    1.000000   \n",
      "\n",
      "       ESTADO_CIVIL_ALUNOS_DESCONHECIDO  ESTADO_CIVIL_ALUNOS_DIVORCIADO  \\\n",
      "count                       2435.000000                     2435.000000   \n",
      "mean                           0.004517                        0.001232   \n",
      "std                            0.067074                        0.035086   \n",
      "min                            0.000000                        0.000000   \n",
      "25%                            0.000000                        0.000000   \n",
      "50%                            0.000000                        0.000000   \n",
      "75%                            0.000000                        0.000000   \n",
      "max                            1.000000                        1.000000   \n",
      "\n",
      "       ESTADO_CIVIL_ALUNOS_SOLTEIRO  ESTADO_CIVIL_ALUNOS_VIUVO  \\\n",
      "count                   2435.000000                2435.000000   \n",
      "mean                       0.970842                   0.000411   \n",
      "std                        0.168284                   0.020265   \n",
      "min                        0.000000                   0.000000   \n",
      "25%                        1.000000                   0.000000   \n",
      "50%                        1.000000                   0.000000   \n",
      "75%                        1.000000                   0.000000   \n",
      "max                        1.000000                   1.000000   \n",
      "\n",
      "       NACIONALIDADE_BRASILEIRA  NACIONALIDADE_BRASILEIRA_POR_NATURALIZACAO  \\\n",
      "count               2435.000000                                 2435.000000   \n",
      "mean                   0.996304                                    0.002053   \n",
      "std                    0.060696                                    0.045277   \n",
      "min                    0.000000                                    0.000000   \n",
      "25%                    1.000000                                    0.000000   \n",
      "50%                    1.000000                                    0.000000   \n",
      "75%                    1.000000                                    0.000000   \n",
      "max                    1.000000                                    1.000000   \n",
      "\n",
      "       NACIONALIDADE_ESTRANGEIRA  TIPO_ADMISSAO_CONVENIO  \\\n",
      "count                2435.000000             2435.000000   \n",
      "mean                    0.001643                0.001643   \n",
      "std                     0.040505                0.040505   \n",
      "min                     0.000000                0.000000   \n",
      "25%                     0.000000                0.000000   \n",
      "50%                     0.000000                0.000000   \n",
      "75%                     0.000000                0.000000   \n",
      "max                     1.000000                1.000000   \n",
      "\n",
      "       TIPO_ADMISSAO_DECISAO_JUDICIAL_ADM  TIPO_ADMISSAO_GRADUADO  \\\n",
      "count                         2435.000000             2435.000000   \n",
      "mean                             0.006982                0.002464   \n",
      "std                              0.083280                0.049588   \n",
      "min                              0.000000                0.000000   \n",
      "25%                              0.000000                0.000000   \n",
      "50%                              0.000000                0.000000   \n",
      "75%                              0.000000                0.000000   \n",
      "max                              1.000000                1.000000   \n",
      "\n",
      "       TIPO_ADMISSAO_REOPCAO  TIPO_ADMISSAO_SISU  TIPO_ADMISSAO_TRANSFERENCIA  \\\n",
      "count            2435.000000         2435.000000                  2435.000000   \n",
      "mean                0.008624            0.573717                     0.013963   \n",
      "std                 0.092484            0.494638                     0.117362   \n",
      "min                 0.000000            0.000000                     0.000000   \n",
      "25%                 0.000000            0.000000                     0.000000   \n",
      "50%                 0.000000            1.000000                     0.000000   \n",
      "75%                 0.000000            1.000000                     0.000000   \n",
      "max                 1.000000            1.000000                     1.000000   \n",
      "\n",
      "       TIPO_ADMISSAO_VESTIBULAR  POLITICA_AFIRMATIVA_A0  \\\n",
      "count               2435.000000             2435.000000   \n",
      "mean                   0.392608                0.661191   \n",
      "std                    0.488431                0.473402   \n",
      "min                    0.000000                0.000000   \n",
      "25%                    0.000000                0.000000   \n",
      "50%                    0.000000                1.000000   \n",
      "75%                    1.000000                1.000000   \n",
      "max                    1.000000                1.000000   \n",
      "\n",
      "       POLITICA_AFIRMATIVA_BONUS  POLITICA_AFIRMATIVA_L1  \\\n",
      "count                2435.000000             2435.000000   \n",
      "mean                    0.035318                0.057084   \n",
      "std                     0.184621                0.232051   \n",
      "min                     0.000000                0.000000   \n",
      "25%                     0.000000                0.000000   \n",
      "50%                     0.000000                0.000000   \n",
      "75%                     0.000000                0.000000   \n",
      "max                     1.000000                1.000000   \n",
      "\n",
      "       POLITICA_AFIRMATIVA_L10  POLITICA_AFIRMATIVA_L13  \\\n",
      "count              2435.000000              2435.000000   \n",
      "mean                  0.002053                 0.004107   \n",
      "std                   0.045277                 0.063966   \n",
      "min                   0.000000                 0.000000   \n",
      "25%                   0.000000                 0.000000   \n",
      "50%                   0.000000                 0.000000   \n",
      "75%                   0.000000                 0.000000   \n",
      "max                   1.000000                 1.000000   \n",
      "\n",
      "       POLITICA_AFIRMATIVA_L14  POLITICA_AFIRMATIVA_L2  \\\n",
      "count              2435.000000             2435.000000   \n",
      "mean                  0.004107                0.098563   \n",
      "std                   0.063966                0.298135   \n",
      "min                   0.000000                0.000000   \n",
      "25%                   0.000000                0.000000   \n",
      "50%                   0.000000                0.000000   \n",
      "75%                   0.000000                0.000000   \n",
      "max                   1.000000                1.000000   \n",
      "\n",
      "       POLITICA_AFIRMATIVA_L5  POLITICA_AFIRMATIVA_L6  POLITICA_AFIRMATIVA_L9  \\\n",
      "count             2435.000000             2435.000000             2435.000000   \n",
      "mean                 0.052567                0.081725                0.003285   \n",
      "std                  0.223213                0.274001                0.057236   \n",
      "min                  0.000000                0.000000                0.000000   \n",
      "25%                  0.000000                0.000000                0.000000   \n",
      "50%                  0.000000                0.000000                0.000000   \n",
      "75%                  0.000000                0.000000                0.000000   \n",
      "max                  1.000000                1.000000                1.000000   \n",
      "\n",
      "       TIPO_ENSINO_MEDIO_DESCONHECIDA  \\\n",
      "count                     2435.000000   \n",
      "mean                         0.220945   \n",
      "std                          0.414968   \n",
      "min                          0.000000   \n",
      "25%                          0.000000   \n",
      "50%                          0.000000   \n",
      "75%                          0.000000   \n",
      "max                          1.000000   \n",
      "\n",
      "       TIPO_ENSINO_MEDIO_MAJORITARIAMENTE_PRIVADA  \\\n",
      "count                                 2435.000000   \n",
      "mean                                     0.013552   \n",
      "std                                      0.115647   \n",
      "min                                      0.000000   \n",
      "25%                                      0.000000   \n",
      "50%                                      0.000000   \n",
      "75%                                      0.000000   \n",
      "max                                      1.000000   \n",
      "\n",
      "       TIPO_ENSINO_MEDIO_MAJORITARIAMENTE_PUBLICA  TIPO_ENSINO_MEDIO_PRIVADA  \\\n",
      "count                                 2435.000000                2435.000000   \n",
      "mean                                     0.004517                   0.406160   \n",
      "std                                      0.067074                   0.491216   \n",
      "min                                      0.000000                   0.000000   \n",
      "25%                                      0.000000                   0.000000   \n",
      "50%                                      0.000000                   0.000000   \n",
      "75%                                      0.000000                   1.000000   \n",
      "max                                      1.000000                   1.000000   \n",
      "\n",
      "       TIPO_ENSINO_MEDIO_PUBLICA  ESTATUS_APROVADO  ESTATUS_CANCELADO  \\\n",
      "count                2435.000000       2435.000000        2435.000000   \n",
      "mean                    0.354825          0.605749           0.021766   \n",
      "std                     0.478559          0.488789           0.145948   \n",
      "min                     0.000000          0.000000           0.000000   \n",
      "25%                     0.000000          0.000000           0.000000   \n",
      "50%                     0.000000          1.000000           0.000000   \n",
      "75%                     1.000000          1.000000           0.000000   \n",
      "max                     1.000000          1.000000           1.000000   \n",
      "\n",
      "       ESTATUS_REPROVADO_POR_FALTA  ESTATUS_REPROVADO_POR_NOTA  \\\n",
      "count                  2435.000000                 2435.000000   \n",
      "mean                      0.129363                    0.227515   \n",
      "std                       0.335671                    0.419314   \n",
      "min                       0.000000                    0.000000   \n",
      "25%                       0.000000                    0.000000   \n",
      "50%                       0.000000                    0.000000   \n",
      "75%                       0.000000                    0.000000   \n",
      "max                       1.000000                    1.000000   \n",
      "\n",
      "       ESTATUS_TRANCADO  ESTADO_ATIVO  ESTADO_INATIVO  \n",
      "count       2435.000000   2435.000000     2435.000000  \n",
      "mean           0.015606      0.298152        0.701848  \n",
      "std            0.123970      0.457541        0.457541  \n",
      "min            0.000000      0.000000        0.000000  \n",
      "25%            0.000000      0.000000        0.000000  \n",
      "50%            0.000000      0.000000        1.000000  \n",
      "75%            0.000000      1.000000        1.000000  \n",
      "max            1.000000      1.000000        1.000000  \n"
     ]
    },
    {
     "data": {
      "image/png": "[encoded data removed]",
      "text/plain": [
       "<Figure size 1200x600 with 2 Axes>"
      ]
     },
     "metadata": {},
     "output_type": "display_data"
    }
   ],
   "source": [
    "import pandas as pd\n",
    "import matplotlib.pyplot as plt\n",
    "import seaborn as sns\n",
    "\n",
    "# Carregar os dados transformados (Feature Store)\n",
    "df_feature_store = pd.read_csv(\"feature_store.csv\")\n",
    "\n",
    "# Verificando as primeiras linhas do dataset\n",
    "print(\"Visualização inicial dos dados:\")\n",
    "print(df_feature_store.head())\n",
    "\n",
    "# Verificando a distribuição das classes\n",
    "status_columns = ['ESTATUS_CANCELADO', 'ESTATUS_REPROVADO_POR_FALTA', 'ESTATUS_REPROVADO_POR_NOTA', 'ESTATUS_TRANCADO']\n",
    "\n",
    "# Contagem das classes\n",
    "class_distribution = df_feature_store[status_columns].sum()\n",
    "\n",
    "# Plotando a distribuição das classes\n",
    "plt.figure(figsize=(10, 5))\n",
    "sns.barplot(x=class_distribution.index, y=class_distribution.values, palette=\"coolwarm\")\n",
    "plt.xlabel(\"Categorias de Status Acadêmico\")\n",
    "plt.ylabel(\"Quantidade de Estudantes\")\n",
    "plt.title(\"Distribuição das Classes no Conjunto de Dados\")\n",
    "plt.xticks(rotation=45)\n",
    "plt.show()\n",
    "\n",
    "# Estatísticas descritivas das variáveis numéricas\n",
    "print(\"Estatísticas descritivas das variáveis numéricas:\")\n",
    "print(df_feature_store.describe())\n",
    "\n",
    "# Verificar a correlação entre variáveis\n",
    "plt.figure(figsize=(12, 6))\n",
    "sns.heatmap(df_feature_store.corr(), cmap=\"coolwarm\", annot=False, linewidths=0.5)\n",
    "plt.title(\"Mapa de Calor das Correlações entre Variáveis\")\n",
    "plt.show()\n"
   ]
  },
  {
   "cell_type": "markdown",
   "id": "90d5a0d4-abbb-4d9b-9d48-5a10af0a9041",
   "metadata": {},
   "source": [
    "### Balanceamento da base"
   ]
  },
  {
   "cell_type": "code",
   "execution_count": 42,
   "id": "8660024f-9350-4bf3-afb0-31f9126fcd4a",
   "metadata": {},
   "outputs": [
    {
     "name": "stdout",
     "output_type": "stream",
     "text": [
      "Colunas esperadas: ['GENERO', 'ESTADO_CIVIL_ALUNOS', 'NACIONALIDADE', 'TIPO_ADMISSAO', 'POLITICA_AFIRMATIVA', 'TIPO_ENSINO_MEDIO', 'ESTATUS', 'ESTADO']\n",
      "Colunas transformadas: ['GENERO_FEMININO' 'GENERO_MASCULINO' 'ESTADO_CIVIL_ALUNOS_CASADO'\n",
      " 'ESTADO_CIVIL_ALUNOS_DESCONHECIDO' 'ESTADO_CIVIL_ALUNOS_DIVORCIADO'\n",
      " 'ESTADO_CIVIL_ALUNOS_SOLTEIRO' 'ESTADO_CIVIL_ALUNOS_VIUVO'\n",
      " 'NACIONALIDADE_BRASILEIRA' 'NACIONALIDADE_BRASILEIRA_POR_NATURALIZACAO'\n",
      " 'NACIONALIDADE_ESTRANGEIRA' 'TIPO_ADMISSAO_CONVENIO'\n",
      " 'TIPO_ADMISSAO_DECISAO_JUDICIAL_ADM' 'TIPO_ADMISSAO_GRADUADO'\n",
      " 'TIPO_ADMISSAO_REOPCAO' 'TIPO_ADMISSAO_SISU'\n",
      " 'TIPO_ADMISSAO_TRANSFERENCIA' 'TIPO_ADMISSAO_VESTIBULAR'\n",
      " 'POLITICA_AFIRMATIVA_A0' 'POLITICA_AFIRMATIVA_BONUS'\n",
      " 'POLITICA_AFIRMATIVA_L1' 'POLITICA_AFIRMATIVA_L10'\n",
      " 'POLITICA_AFIRMATIVA_L13' 'POLITICA_AFIRMATIVA_L14'\n",
      " 'POLITICA_AFIRMATIVA_L2' 'POLITICA_AFIRMATIVA_L5'\n",
      " 'POLITICA_AFIRMATIVA_L6' 'POLITICA_AFIRMATIVA_L9'\n",
      " 'TIPO_ENSINO_MEDIO_DESCONHECIDA'\n",
      " 'TIPO_ENSINO_MEDIO_MAJORITARIAMENTE_PRIVADA'\n",
      " 'TIPO_ENSINO_MEDIO_MAJORITARIAMENTE_PUBLICA' 'TIPO_ENSINO_MEDIO_PRIVADA'\n",
      " 'TIPO_ENSINO_MEDIO_PUBLICA' 'ESTATUS_APROVADO' 'ESTATUS_CANCELADO'\n",
      " 'ESTATUS_REPROVADO_POR_FALTA' 'ESTATUS_REPROVADO_POR_NOTA'\n",
      " 'ESTATUS_TRANCADO' 'ESTADO_ATIVO' 'ESTADO_INATIVO']\n"
     ]
    }
   ],
   "source": [
    "print(\"Colunas esperadas:\", categorical_features)\n",
    "print(\"Colunas transformadas:\", preprocessor.named_transformers_['cat'].named_steps['onehot'].get_feature_names_out(categorical_features))\n"
   ]
  },
  {
   "cell_type": "code",
   "execution_count": 44,
   "id": "71207847-0cfd-4304-bb6b-658f405df0c3",
   "metadata": {},
   "outputs": [
    {
     "name": "stdout",
     "output_type": "stream",
     "text": [
      "Dados balanceados! Nova distribuição das classes:\n",
      "Target\n",
      "0.0    2382\n",
      "1.0    2382\n",
      "Name: count, dtype: int64\n"
     ]
    }
   ],
   "source": [
    "from imblearn.over_sampling import SMOTE\n",
    "\n",
    "smote = SMOTE(sampling_strategy='auto', random_state=42)\n",
    "X_balanced, y_balanced = smote.fit_resample(df_feature_store, y)\n",
    "\n",
    "# Criar um novo DataFrame balanceado\n",
    "df_balanced = pd.DataFrame(X_balanced, columns=columns_final)\n",
    "df_balanced[\"Target\"] = y_balanced\n",
    "\n",
    "# Salvar os dados balanceados\n",
    "df_balanced.to_csv(\"feature_store_balanced.csv\", index=False)\n",
    "df_balanced.to_parquet(\"feature_store_balanced.parquet\", index=False)\n",
    "\n",
    "# Exibir a nova distribuição da variável alvo\n",
    "print(\"Dados balanceados! Nova distribuição das classes:\")\n",
    "print(df_balanced[\"Target\"].value_counts())\n"
   ]
  },
  {
   "cell_type": "code",
   "execution_count": 47,
   "id": "d0b9b1de-e1ec-4cb7-8aae-7ea7adbd199d",
   "metadata": {},
   "outputs": [
    {
     "name": "stderr",
     "output_type": "stream",
     "text": [
      "C:\\Users\\Big Data\\AppData\\Local\\Temp\\ipykernel_17856\\1751178511.py:8: FutureWarning: \n",
      "\n",
      "Passing `palette` without assigning `hue` is deprecated and will be removed in v0.14.0. Assign the `x` variable to `hue` and set `legend=False` for the same effect.\n",
      "\n",
      "  sns.countplot(x=y, palette=\"Blues\")\n",
      "C:\\Users\\Big Data\\AppData\\Local\\Temp\\ipykernel_17856\\1751178511.py:15: FutureWarning: \n",
      "\n",
      "Passing `palette` without assigning `hue` is deprecated and will be removed in v0.14.0. Assign the `x` variable to `hue` and set `legend=False` for the same effect.\n",
      "\n",
      "  sns.countplot(x=y_balanced, palette=\"Oranges\")\n"
     ]
    },
    {
     "data": {
      "image/png": "[encoded data removed]",
      "text/plain": [
       "<Figure size 1200x500 with 2 Axes>"
      ]
     },
     "metadata": {},
     "output_type": "display_data"
    }
   ],
   "source": [
    "import matplotlib.pyplot as plt\n",
    "import seaborn as sns\n",
    "\n",
    "# Visualização antes do balanceamento\n",
    "plt.figure(figsize=(12, 5))\n",
    "\n",
    "plt.subplot(1, 2, 1)\n",
    "sns.countplot(x=y, palette=\"Blues\")\n",
    "plt.title(\"Distribuição das Classes Antes do Balanceamento\")\n",
    "plt.xlabel(\"Classe\")\n",
    "plt.ylabel(\"Contagem\")\n",
    "\n",
    "# Visualização depois do balanceamento\n",
    "plt.subplot(1, 2, 2)\n",
    "sns.countplot(x=y_balanced, palette=\"Oranges\")\n",
    "plt.title(\"Distribuição das Classes Depois do Balanceamento\")\n",
    "plt.xlabel(\"Classe\")\n",
    "plt.ylabel(\"Contagem\")\n",
    "\n",
    "plt.tight_layout()\n",
    "plt.show()\n"
   ]
  },
  {
   "cell_type": "markdown",
   "id": "66433b64-f2f8-454e-b330-09b69a4c5f90",
   "metadata": {},
   "source": [
    "### Modelagem Preditiva"
   ]
  },
  {
   "cell_type": "code",
   "execution_count": 56,
   "id": "2676ea35-8941-4308-a6c6-cb173a920458",
   "metadata": {},
   "outputs": [],
   "source": [
    "  import pandas as pd\n",
    "  from sklearn.model_selection import train_test_split, cross_val_score\n",
    "  from sklearn.preprocessing import StandardScaler\n",
    "  from sklearn.linear_model import LogisticRegression\n",
    "  from sklearn.neighbors import KNeighborsClassifier\n",
    "  from sklearn.svm import SVC\n",
    "  from sklearn.ensemble import AdaBoostClassifier\n",
    "  from sklearn.metrics import accuracy_score\n"
   ]
  },
  {
   "cell_type": "markdown",
   "id": "164281a5-8454-47e3-9cde-72aece3d9fa7",
   "metadata": {},
   "source": [
    "Carregue os dados balanceados:\n"
   ]
  },
  {
   "cell_type": "code",
   "execution_count": 57,
   "id": "79098c75-edcc-4c8d-a25d-82ac26d57f48",
   "metadata": {},
   "outputs": [],
   "source": [
    "df = pd.read_parquet(\"feature_store_balanced.parquet\")\n"
   ]
  },
  {
   "cell_type": "markdown",
   "id": "6b449d83-211d-4def-85fc-685175c0c6cd",
   "metadata": {},
   "source": [
    "Separe as variáveis independentes (X) e a variável alvo (y):"
   ]
  },
  {
   "cell_type": "code",
   "execution_count": 58,
   "id": "c127f040-c206-47f7-823c-8082e3390fbc",
   "metadata": {},
   "outputs": [],
   "source": [
    "X = df.drop(columns=[\"Target\"])\n",
    "y = df[\"Target\"]"
   ]
  },
  {
   "cell_type": "markdown",
   "id": "6abb2a07-a5b3-47a0-afae-f57be9d5c95f",
   "metadata": {},
   "source": [
    "Divisão entre Conjunto de Treinamento e Teste:"
   ]
  },
  {
   "cell_type": "code",
   "execution_count": 59,
   "id": "52f5d29d-8669-4457-a9ec-8df5cac5f16b",
   "metadata": {},
   "outputs": [],
   "source": [
    "X_train, X_test, y_train, y_test = train_test_split(X, y, test_size=0.2, random_state=42)"
   ]
  },
  {
   "cell_type": "markdown",
   "id": "e06a3d92-43e3-49e8-90d4-75b076df5f1d",
   "metadata": {},
   "source": [
    "Inicialize os modelos:"
   ]
  },
  {
   "cell_type": "code",
   "execution_count": 60,
   "id": "caf277e3-f688-4e23-afbb-c9cba2ea0fdf",
   "metadata": {},
   "outputs": [],
   "source": [
    "models = {\n",
    "    \"Regressão Logística\": LogisticRegression(),\n",
    "    \"KNN\": KNeighborsClassifier(),\n",
    "    \"SVC\": SVC(),\n",
    "    \"AdaBoost\": AdaBoostClassifier()\n",
    "}\n"
   ]
  },
  {
   "cell_type": "markdown",
   "id": "6c652a4b-64ae-4b12-afdf-aabb827e2b35",
   "metadata": {},
   "source": [
    "Configure o MLflow e registre os experimentos:"
   ]
  },
  {
   "cell_type": "code",
   "execution_count": 62,
   "id": "00276586-89fb-4b85-8271-b737e1698d80",
   "metadata": {},
   "outputs": [
    {
     "name": "stderr",
     "output_type": "stream",
     "text": [
      "2025/03/31 17:14:34 INFO mlflow.tracking.fluent: Experiment with name 'Comparação de Modelos' does not exist. Creating a new experiment.\n",
      "2025/03/31 17:14:49 WARNING mlflow.models.model: Model logged without a signature and input example. Please set `input_example` parameter when logging the model to auto infer the model signature.\n"
     ]
    },
    {
     "name": "stdout",
     "output_type": "stream",
     "text": [
      "Regressão Logística - Acurácia média: 0.9995 ± 0.0010\n"
     ]
    },
    {
     "name": "stderr",
     "output_type": "stream",
     "text": [
      "2025/03/31 17:14:56 WARNING mlflow.models.model: Model logged without a signature and input example. Please set `input_example` parameter when logging the model to auto infer the model signature.\n"
     ]
    },
    {
     "name": "stdout",
     "output_type": "stream",
     "text": [
      "KNN - Acurácia média: 0.9945 ± 0.0030\n"
     ]
    },
    {
     "name": "stderr",
     "output_type": "stream",
     "text": [
      "2025/03/31 17:15:03 WARNING mlflow.models.model: Model logged without a signature and input example. Please set `input_example` parameter when logging the model to auto infer the model signature.\n"
     ]
    },
    {
     "name": "stdout",
     "output_type": "stream",
     "text": [
      "SVC - Acurácia média: 0.9992 ± 0.0016\n"
     ]
    },
    {
     "name": "stderr",
     "output_type": "stream",
     "text": [
      "2025/03/31 17:15:10 WARNING mlflow.models.model: Model logged without a signature and input example. Please set `input_example` parameter when logging the model to auto infer the model signature.\n"
     ]
    },
    {
     "name": "stdout",
     "output_type": "stream",
     "text": [
      "AdaBoost - Acurácia média: 1.0000 ± 0.0000\n"
     ]
    }
   ],
   "source": [
    "mlflow.set_experiment(\"Comparação de Modelos\")\n",
    "\n",
    "for name, model in models.items():\n",
    "    with mlflow.start_run(run_name=name):\n",
    "        # Treine o modelo\n",
    "        model.fit(X_train, y_train)\n",
    "        \n",
    "        # Avalie o modelo com validação cruzada\n",
    "        scores = cross_val_score(model, X_train, y_train, cv=5, scoring='accuracy')\n",
    "        mean_accuracy = scores.mean()\n",
    "        std_accuracy = scores.std()\n",
    "        \n",
    "        # Registre os parâmetros e métricas no MLflow\n",
    "        mlflow.log_param(\"Modelo\", name)\n",
    "        mlflow.log_metric(\"Acurácia Média\", mean_accuracy)\n",
    "        mlflow.log_metric(\"Desvio Padrão da Acurácia\", std_accuracy)\n",
    "        \n",
    "        # Registre o modelo treinado\n",
    "        mlflow.sklearn.log_model(model, name)\n",
    "        \n",
    "        print(f\"{name} - Acurácia média: {mean_accuracy:.4f} ± {std_accuracy:.4f}\")\n"
   ]
  },
  {
   "cell_type": "code",
   "execution_count": 63,
   "id": "fc275a5d-9fc7-4760-8bd4-c180074931a8",
   "metadata": {},
   "outputs": [
    {
     "name": "stderr",
     "output_type": "stream",
     "text": [
      "2025/03/31 17:17:06 WARNING mlflow.models.model: Model logged without a signature and input example. Please set `input_example` parameter when logging the model to auto infer the model signature.\n"
     ]
    },
    {
     "name": "stdout",
     "output_type": "stream",
     "text": [
      "Regressão Logística:\n",
      "  Acurácia Média: 0.9995\n",
      "  Precisão Média: 0.9990\n",
      "  Recall Médio: 1.0000\n",
      "  F1-score Médio: 0.9995\n",
      "------------------------------\n"
     ]
    },
    {
     "name": "stderr",
     "output_type": "stream",
     "text": [
      "2025/03/31 17:17:12 WARNING mlflow.models.model: Model logged without a signature and input example. Please set `input_example` parameter when logging the model to auto infer the model signature.\n"
     ]
    },
    {
     "name": "stdout",
     "output_type": "stream",
     "text": [
      "KNN:\n",
      "  Acurácia Média: 0.9945\n",
      "  Precisão Média: 0.9892\n",
      "  Recall Médio: 1.0000\n",
      "  F1-score Médio: 0.9945\n",
      "------------------------------\n"
     ]
    },
    {
     "name": "stderr",
     "output_type": "stream",
     "text": [
      "2025/03/31 17:17:19 WARNING mlflow.models.model: Model logged without a signature and input example. Please set `input_example` parameter when logging the model to auto infer the model signature.\n"
     ]
    },
    {
     "name": "stdout",
     "output_type": "stream",
     "text": [
      "SVC:\n",
      "  Acurácia Média: 0.9992\n",
      "  Precisão Média: 0.9984\n",
      "  Recall Médio: 1.0000\n",
      "  F1-score Médio: 0.9992\n",
      "------------------------------\n"
     ]
    },
    {
     "name": "stderr",
     "output_type": "stream",
     "text": [
      "2025/03/31 17:17:26 WARNING mlflow.models.model: Model logged without a signature and input example. Please set `input_example` parameter when logging the model to auto infer the model signature.\n"
     ]
    },
    {
     "name": "stdout",
     "output_type": "stream",
     "text": [
      "AdaBoost:\n",
      "  Acurácia Média: 1.0000\n",
      "  Precisão Média: 1.0000\n",
      "  Recall Médio: 1.0000\n",
      "  F1-score Médio: 1.0000\n",
      "------------------------------\n"
     ]
    }
   ],
   "source": [
    "import mlflow\n",
    "import mlflow.sklearn\n",
    "from sklearn.model_selection import train_test_split, cross_validate\n",
    "from sklearn.linear_model import LogisticRegression\n",
    "from sklearn.neighbors import KNeighborsClassifier\n",
    "from sklearn.svm import SVC\n",
    "from sklearn.ensemble import AdaBoostClassifier\n",
    "import pandas as pd\n",
    "\n",
    "# Carregar os dados balanceados\n",
    "df = pd.read_parquet(\"feature_store_balanced.parquet\")\n",
    "\n",
    "# Separar as variáveis independentes (X) e a variável alvo (y)\n",
    "X = df.drop(columns=[\"Target\"])\n",
    "y = df[\"Target\"]\n",
    "\n",
    "# Dividir os dados em conjuntos de treinamento e teste\n",
    "X_train, X_test, y_train, y_test = train_test_split(X, y, test_size=0.2, random_state=42)\n",
    "\n",
    "# Inicializar os modelos\n",
    "models = {\n",
    "    \"Regressão Logística\": LogisticRegression(),\n",
    "    \"KNN\": KNeighborsClassifier(),\n",
    "    \"SVC\": SVC(),\n",
    "    \"AdaBoost\": AdaBoostClassifier()\n",
    "}\n",
    "\n",
    "# Definir as métricas de avaliação\n",
    "scoring = ['accuracy', 'precision', 'recall', 'f1']\n",
    "\n",
    "# Configurar o experimento no MLflow\n",
    "mlflow.set_experiment(\"Comparação de Modelos\")\n",
    "\n",
    "# Treinar e avaliar cada modelo\n",
    "for name, model in models.items():\n",
    "    with mlflow.start_run(run_name=name):\n",
    "        # Avaliar o modelo com validação cruzada\n",
    "        cv_results = cross_validate(model, X_train, y_train, cv=5, scoring=scoring)\n",
    "        \n",
    "        # Calcular as médias das métricas\n",
    "        mean_accuracy = cv_results['test_accuracy'].mean()\n",
    "        mean_precision = cv_results['test_precision'].mean()\n",
    "        mean_recall = cv_results['test_recall'].mean()\n",
    "        mean_f1 = cv_results['test_f1'].mean()\n",
    "        \n",
    "        # Registrar as métricas no MLflow\n",
    "        mlflow.log_metric(\"Acurácia Média\", mean_accuracy)\n",
    "        mlflow.log_metric(\"Precisão Média\", mean_precision)\n",
    "        mlflow.log_metric(\"Recall Médio\", mean_recall)\n",
    "        mlflow.log_metric(\"F1-score Médio\", mean_f1)\n",
    "        \n",
    "        # Treinar o modelo nos dados de treinamento completos\n",
    "        model.fit(X_train, y_train)\n",
    "        \n",
    "        # Registrar o modelo treinado no MLflow\n",
    "        mlflow.sklearn.log_model(model, name)\n",
    "        \n",
    "        # Exibir os resultados\n",
    "        print(f\"{name}:\")\n",
    "        print(f\"  Acurácia Média: {mean_accuracy:.4f}\")\n",
    "        print(f\"  Precisão Média: {mean_precision:.4f}\")\n",
    "        print(f\"  Recall Médio: {mean_recall:.4f}\")\n",
    "        print(f\"  F1-score Médio: {mean_f1:.4f}\")\n",
    "        print(\"-\" * 30)\n"
   ]
  },
  {
   "cell_type": "code",
   "execution_count": 65,
   "id": "85ec47cd-1179-43e1-8e81-f3574e807106",
   "metadata": {},
   "outputs": [
    {
     "name": "stderr",
     "output_type": "stream",
     "text": [
      "2025/03/31 17:21:20 INFO mlflow.tracking.fluent: Experiment with name 'Comparacao_de_Modelos' does not exist. Creating a new experiment.\n",
      "2025/03/31 17:21:27 WARNING mlflow.models.model: Model logged without a signature and input example. Please set `input_example` parameter when logging the model to auto infer the model signature.\n"
     ]
    },
    {
     "name": "stdout",
     "output_type": "stream",
     "text": [
      "Regressao_Logistica - Validação Cruzada -> Acurácia: 0.9995, Precisão: 0.9990, Recall: 1.0000, F1-Score: 0.9995\n",
      "Regressao_Logistica - Teste Final -> Acurácia: 1.0000, Precisão: 1.0000, Recall: 1.0000, F1-Score: 1.0000\n",
      "--------------------------------------------------\n"
     ]
    },
    {
     "name": "stderr",
     "output_type": "stream",
     "text": [
      "2025/03/31 17:21:34 WARNING mlflow.models.model: Model logged without a signature and input example. Please set `input_example` parameter when logging the model to auto infer the model signature.\n"
     ]
    },
    {
     "name": "stdout",
     "output_type": "stream",
     "text": [
      "KNN - Validação Cruzada -> Acurácia: 0.9945, Precisão: 0.9892, Recall: 1.0000, F1-Score: 0.9945\n",
      "KNN - Teste Final -> Acurácia: 0.9937, Precisão: 0.9875, Recall: 1.0000, F1-Score: 0.9937\n",
      "--------------------------------------------------\n"
     ]
    },
    {
     "name": "stderr",
     "output_type": "stream",
     "text": [
      "2025/03/31 17:21:41 WARNING mlflow.models.model: Model logged without a signature and input example. Please set `input_example` parameter when logging the model to auto infer the model signature.\n"
     ]
    },
    {
     "name": "stdout",
     "output_type": "stream",
     "text": [
      "SVC - Validação Cruzada -> Acurácia: 0.9992, Precisão: 0.9984, Recall: 1.0000, F1-Score: 0.9992\n",
      "SVC - Teste Final -> Acurácia: 1.0000, Precisão: 1.0000, Recall: 1.0000, F1-Score: 1.0000\n",
      "--------------------------------------------------\n"
     ]
    },
    {
     "name": "stderr",
     "output_type": "stream",
     "text": [
      "2025/03/31 17:21:47 WARNING mlflow.models.model: Model logged without a signature and input example. Please set `input_example` parameter when logging the model to auto infer the model signature.\n"
     ]
    },
    {
     "name": "stdout",
     "output_type": "stream",
     "text": [
      "AdaBoost - Validação Cruzada -> Acurácia: 1.0000, Precisão: 1.0000, Recall: 1.0000, F1-Score: 1.0000\n",
      "AdaBoost - Teste Final -> Acurácia: 1.0000, Precisão: 1.0000, Recall: 1.0000, F1-Score: 1.0000\n",
      "--------------------------------------------------\n"
     ]
    }
   ],
   "source": [
    "import mlflow\n",
    "import mlflow.sklearn\n",
    "from sklearn.model_selection import train_test_split, cross_validate\n",
    "from sklearn.linear_model import LogisticRegression\n",
    "from sklearn.neighbors import KNeighborsClassifier\n",
    "from sklearn.svm import SVC\n",
    "from sklearn.ensemble import AdaBoostClassifier\n",
    "from sklearn.metrics import accuracy_score, precision_score, recall_score, f1_score\n",
    "import pandas as pd\n",
    "\n",
    "# Carregar os dados balanceados\n",
    "df = pd.read_parquet(\"feature_store_balanced.parquet\")\n",
    "\n",
    "# Separar as variáveis independentes (X) e a variável alvo (y)\n",
    "X = df.drop(columns=[\"Target\"])\n",
    "y = df[\"Target\"]\n",
    "\n",
    "# Dividir os dados em conjuntos de treinamento e teste\n",
    "X_train, X_test, y_train, y_test = train_test_split(X, y, test_size=0.2, random_state=42)\n",
    "\n",
    "# Inicializar os modelos\n",
    "modelos = {\n",
    "    \"Regressao_Logistica\": LogisticRegression(),\n",
    "    \"KNN\": KNeighborsClassifier(),\n",
    "    \"SVC\": SVC(),\n",
    "    \"AdaBoost\": AdaBoostClassifier()\n",
    "}\n",
    "\n",
    "# Definir as métricas de avaliação para validação cruzada\n",
    "metricas = ['accuracy', 'precision', 'recall', 'f1']\n",
    "\n",
    "# Configurar o experimento no MLflow\n",
    "mlflow.set_experiment(\"Comparacao_de_Modelos\")\n",
    "\n",
    "# Treinar e avaliar cada modelo\n",
    "for nome_modelo, modelo in modelos.items():\n",
    "    with mlflow.start_run(run_name=nome_modelo):\n",
    "        # Avaliar o modelo com validação cruzada\n",
    "        resultados_cv = cross_validate(modelo, X_train, y_train, cv=5, scoring=metricas)\n",
    "        \n",
    "        # Calcular as médias das métricas na validação cruzada\n",
    "        acuracia_media = resultados_cv['test_accuracy'].mean()\n",
    "        precisao_media = resultados_cv['test_precision'].mean()\n",
    "        recall_media = resultados_cv['test_recall'].mean()\n",
    "        f1_media = resultados_cv['test_f1'].mean()\n",
    "        \n",
    "        # Treinar o modelo nos dados de treinamento completos\n",
    "        modelo.fit(X_train, y_train)\n",
    "        \n",
    "        # Fazer previsões nos dados de teste\n",
    "        y_pred = modelo.predict(X_test)\n",
    "        \n",
    "        # Calcular as métricas nos dados de teste\n",
    "        acuracia_teste = accuracy_score(y_test, y_pred)\n",
    "        precisao_teste = precision_score(y_test, y_pred)\n",
    "        recall_teste = recall_score(y_test, y_pred)\n",
    "        f1_teste = f1_score(y_test, y_pred)\n",
    "        \n",
    "        # Registrar as métricas da validação cruzada no MLflow\n",
    "        mlflow.log_metric(\"Acuracia_Media_Validacao_Cruzada\", acuracia_media)\n",
    "        mlflow.log_metric(\"Precisao_Media_Validacao_Cruzada\", precisao_media)\n",
    "        mlflow.log_metric(\"Recall_Medio_Validacao_Cruzada\", recall_media)\n",
    "        mlflow.log_metric(\"F1_Score_Medio_Validacao_Cruzada\", f1_media)\n",
    "        \n",
    "        # Registrar as métricas dos dados de teste no MLflow\n",
    "        mlflow.log_metric(\"Acuracia_Teste\", acuracia_teste)\n",
    "        mlflow.log_metric(\"Precisao_Teste\", precisao_teste)\n",
    "        mlflow.log_metric(\"Recall_Teste\", recall_teste)\n",
    "        mlflow.log_metric(\"F1_Score_Teste\", f1_teste)\n",
    "        \n",
    "        # Salvar o modelo treinado no MLflow\n",
    "        mlflow.sklearn.log_model(modelo, f\"{nome_modelo}_Modelo\")\n",
    "        \n",
    "        # Exibir os resultados\n",
    "        print(f\"{nome_modelo} - Validação Cruzada -> Acurácia: {acuracia_media:.4f}, Precisão: {precisao_media:.4f}, Recall: {recall_media:.4f}, F1-Score: {f1_media:.4f}\")\n",
    "        print(f\"{nome_modelo} - Teste Final -> Acurácia: {acuracia_teste:.4f}, Precisão: {precisao_teste:.4f}, Recall: {recall_teste:.4f}, F1-Score: {f1_teste:.4f}\")\n",
    "        print(\"-\" * 50)\n"
   ]
  },
  {
   "cell_type": "code",
   "execution_count": null,
   "id": "162ad2ab-fd3a-48b8-9431-48f149cf5f8c",
   "metadata": {},
   "outputs": [],
   "source": []
  },
  {
   "cell_type": "code",
   "execution_count": null,
   "id": "5f210b44-6c5a-4954-8342-080e91a72f6d",
   "metadata": {},
   "outputs": [],
   "source": []
  },
  {
   "cell_type": "code",
   "execution_count": null,
   "id": "58b182c9-c5b8-4e4c-bf1b-97d383579a33",
   "metadata": {},
   "outputs": [],
   "source": []
  },
  {
   "cell_type": "code",
   "execution_count": null,
   "id": "e8f1eee7-4266-4661-a538-5bc7a940f831",
   "metadata": {},
   "outputs": [],
   "source": []
  }
 ],
 "metadata": {
  "kernelspec": {
   "display_name": "Python 3 (ipykernel)",
   "language": "python",
   "name": "python3"
  },
  "language_info": {
   "codemirror_mode": {
    "name": "ipython",
    "version": 3
   },
   "file_extension": ".py",
   "mimetype": "text/x-python",
   "name": "python",
   "nbconvert_exporter": "python",
   "pygments_lexer": "ipython3",
   "version": "3.11.3"
  }
 },
 "nbformat": 4,
 "nbformat_minor": 5
}
