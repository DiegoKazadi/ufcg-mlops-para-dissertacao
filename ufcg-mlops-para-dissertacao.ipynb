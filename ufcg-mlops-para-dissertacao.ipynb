{
 "cells": [
  {
   "cell_type": "markdown",
   "id": "af0e87a7-ce94-4129-8801-50033d0bec9b",
   "metadata": {},
   "source": [
    "### Instalação Biblioteca"
   ]
  },
  {
   "cell_type": "code",
   "execution_count": 1,
   "id": "7963bf4b-89c4-46c0-8725-3561597bf6f8",
   "metadata": {
    "scrolled": true
   },
   "outputs": [
    {
     "name": "stdout",
     "output_type": "stream",
     "text": [
      "Requirement already satisfied: mlflow in c:\\users\\big data\\appdata\\local\\programs\\python\\python311\\lib\\site-packages (2.20.4)\n",
      "Requirement already satisfied: evidently in c:\\users\\big data\\appdata\\local\\programs\\python\\python311\\lib\\site-packages (0.6.6)\n",
      "Requirement already satisfied: scikit-learn in c:\\users\\big data\\appdata\\local\\programs\\python\\python311\\lib\\site-packages (1.6.1)\n",
      "Requirement already satisfied: pandas in c:\\users\\big data\\appdata\\local\\programs\\python\\python311\\lib\\site-packages (2.2.3)\n",
      "Requirement already satisfied: numpy in c:\\users\\big data\\appdata\\local\\programs\\python\\python311\\lib\\site-packages (2.0.2)\n",
      "Requirement already satisfied: matplotlib in c:\\users\\big data\\appdata\\local\\programs\\python\\python311\\lib\\site-packages (3.10.0)\n",
      "Requirement already satisfied: seaborn in c:\\users\\big data\\appdata\\local\\programs\\python\\python311\\lib\\site-packages (0.13.2)\n",
      "Requirement already satisfied: papermill in c:\\users\\big data\\appdata\\local\\programs\\python\\python311\\lib\\site-packages (2.6.0)\n",
      "Requirement already satisfied: mlflow-skinny==2.20.4 in c:\\users\\big data\\appdata\\local\\programs\\python\\python311\\lib\\site-packages (from mlflow) (2.20.4)\n",
      "Requirement already satisfied: Flask<4 in c:\\users\\big data\\appdata\\local\\programs\\python\\python311\\lib\\site-packages (from mlflow) (3.1.0)\n",
      "Requirement already satisfied: Jinja2<4,>=3.0 in c:\\users\\big data\\appdata\\local\\programs\\python\\python311\\lib\\site-packages (from mlflow) (3.1.4)\n",
      "Requirement already satisfied: alembic!=1.10.0,<2 in c:\\users\\big data\\appdata\\local\\programs\\python\\python311\\lib\\site-packages (from mlflow) (1.15.1)\n",
      "Requirement already satisfied: docker<8,>=4.0.0 in c:\\users\\big data\\appdata\\local\\programs\\python\\python311\\lib\\site-packages (from mlflow) (7.1.0)\n",
      "Requirement already satisfied: graphene<4 in c:\\users\\big data\\appdata\\local\\programs\\python\\python311\\lib\\site-packages (from mlflow) (3.4.3)\n",
      "Requirement already satisfied: markdown<4,>=3.3 in c:\\users\\big data\\appdata\\local\\programs\\python\\python311\\lib\\site-packages (from mlflow) (3.7)\n",
      "Requirement already satisfied: pyarrow<20,>=4.0.0 in c:\\users\\big data\\appdata\\local\\programs\\python\\python311\\lib\\site-packages (from mlflow) (19.0.1)\n",
      "Requirement already satisfied: scipy<2 in c:\\users\\big data\\appdata\\local\\programs\\python\\python311\\lib\\site-packages (from mlflow) (1.15.1)\n",
      "Requirement already satisfied: sqlalchemy<3,>=1.4.0 in c:\\users\\big data\\appdata\\local\\programs\\python\\python311\\lib\\site-packages (from mlflow) (2.0.39)\n",
      "Requirement already satisfied: waitress<4 in c:\\users\\big data\\appdata\\local\\programs\\python\\python311\\lib\\site-packages (from mlflow) (3.0.2)\n",
      "Requirement already satisfied: cachetools<6,>=5.0.0 in c:\\users\\big data\\appdata\\local\\programs\\python\\python311\\lib\\site-packages (from mlflow-skinny==2.20.4->mlflow) (5.5.0)\n",
      "Requirement already satisfied: click<9,>=7.0 in c:\\users\\big data\\appdata\\local\\programs\\python\\python311\\lib\\site-packages (from mlflow-skinny==2.20.4->mlflow) (8.1.8)\n",
      "Requirement already satisfied: cloudpickle<4 in c:\\users\\big data\\appdata\\local\\programs\\python\\python311\\lib\\site-packages (from mlflow-skinny==2.20.4->mlflow) (3.1.1)\n",
      "Requirement already satisfied: databricks-sdk<1,>=0.20.0 in c:\\users\\big data\\appdata\\local\\programs\\python\\python311\\lib\\site-packages (from mlflow-skinny==2.20.4->mlflow) (0.46.0)\n",
      "Requirement already satisfied: gitpython<4,>=3.1.9 in c:\\users\\big data\\appdata\\local\\programs\\python\\python311\\lib\\site-packages (from mlflow-skinny==2.20.4->mlflow) (3.1.44)\n",
      "Requirement already satisfied: importlib_metadata!=4.7.0,<9,>=3.7.0 in c:\\users\\big data\\appdata\\local\\programs\\python\\python311\\lib\\site-packages (from mlflow-skinny==2.20.4->mlflow) (8.6.1)\n",
      "Requirement already satisfied: opentelemetry-api<3,>=1.9.0 in c:\\users\\big data\\appdata\\local\\programs\\python\\python311\\lib\\site-packages (from mlflow-skinny==2.20.4->mlflow) (1.31.0)\n",
      "Requirement already satisfied: opentelemetry-sdk<3,>=1.9.0 in c:\\users\\big data\\appdata\\local\\programs\\python\\python311\\lib\\site-packages (from mlflow-skinny==2.20.4->mlflow) (1.31.0)\n",
      "Requirement already satisfied: packaging<25 in c:\\users\\big data\\appdata\\local\\programs\\python\\python311\\lib\\site-packages (from mlflow-skinny==2.20.4->mlflow) (24.2)\n",
      "Requirement already satisfied: protobuf<6,>=3.12.0 in c:\\users\\big data\\appdata\\local\\programs\\python\\python311\\lib\\site-packages (from mlflow-skinny==2.20.4->mlflow) (5.29.3)\n",
      "Requirement already satisfied: pydantic<3,>=1.10.8 in c:\\users\\big data\\appdata\\local\\programs\\python\\python311\\lib\\site-packages (from mlflow-skinny==2.20.4->mlflow) (2.10.6)\n",
      "Requirement already satisfied: pyyaml<7,>=5.1 in c:\\users\\big data\\appdata\\local\\programs\\python\\python311\\lib\\site-packages (from mlflow-skinny==2.20.4->mlflow) (6.0.2)\n",
      "Requirement already satisfied: requests<3,>=2.17.3 in c:\\users\\big data\\appdata\\local\\programs\\python\\python311\\lib\\site-packages (from mlflow-skinny==2.20.4->mlflow) (2.32.3)\n",
      "Requirement already satisfied: sqlparse<1,>=0.4.0 in c:\\users\\big data\\appdata\\local\\programs\\python\\python311\\lib\\site-packages (from mlflow-skinny==2.20.4->mlflow) (0.5.3)\n",
      "Requirement already satisfied: typing-extensions<5,>=4.0.0 in c:\\users\\big data\\appdata\\local\\programs\\python\\python311\\lib\\site-packages (from mlflow-skinny==2.20.4->mlflow) (4.12.2)\n",
      "Requirement already satisfied: plotly<6,>=5.10.0 in c:\\users\\big data\\appdata\\local\\programs\\python\\python311\\lib\\site-packages (from evidently) (5.24.1)\n",
      "Requirement already satisfied: statsmodels>=0.12.2 in c:\\users\\big data\\appdata\\local\\programs\\python\\python311\\lib\\site-packages (from evidently) (0.14.4)\n",
      "Requirement already satisfied: nltk>=3.6.7 in c:\\users\\big data\\appdata\\local\\programs\\python\\python311\\lib\\site-packages (from evidently) (3.9.1)\n",
      "Requirement already satisfied: litestar>=2.8.3 in c:\\users\\big data\\appdata\\local\\programs\\python\\python311\\lib\\site-packages (from evidently) (2.15.1)\n",
      "Requirement already satisfied: typing-inspect>=0.9.0 in c:\\users\\big data\\appdata\\local\\programs\\python\\python311\\lib\\site-packages (from evidently) (0.9.0)\n",
      "Requirement already satisfied: uvicorn[standard]>=0.22.0 in c:\\users\\big data\\appdata\\local\\programs\\python\\python311\\lib\\site-packages (from evidently) (0.34.0)\n",
      "Requirement already satisfied: watchdog>=3.0.0 in c:\\users\\big data\\appdata\\local\\programs\\python\\python311\\lib\\site-packages (from evidently) (6.0.0)\n",
      "Requirement already satisfied: typer>=0.3 in c:\\users\\big data\\appdata\\local\\programs\\python\\python311\\lib\\site-packages (from evidently) (0.15.2)\n",
      "Requirement already satisfied: rich>=13 in c:\\users\\big data\\appdata\\local\\programs\\python\\python311\\lib\\site-packages (from evidently) (13.9.4)\n",
      "Requirement already satisfied: iterative-telemetry>=0.0.5 in c:\\users\\big data\\appdata\\local\\programs\\python\\python311\\lib\\site-packages (from evidently) (0.0.10)\n",
      "Requirement already satisfied: dynaconf>=3.2.4 in c:\\users\\big data\\appdata\\local\\programs\\python\\python311\\lib\\site-packages (from evidently) (3.2.10)\n",
      "Requirement already satisfied: certifi>=2024.7.4 in c:\\users\\big data\\appdata\\local\\programs\\python\\python311\\lib\\site-packages (from evidently) (2024.8.30)\n",
      "Requirement already satisfied: urllib3>=1.26.19 in c:\\users\\big data\\appdata\\local\\programs\\python\\python311\\lib\\site-packages (from evidently) (2.2.3)\n",
      "Requirement already satisfied: fsspec>=2024.6.1 in c:\\users\\big data\\appdata\\local\\programs\\python\\python311\\lib\\site-packages (from evidently) (2024.12.0)\n",
      "Requirement already satisfied: ujson>=5.4.0 in c:\\users\\big data\\appdata\\local\\programs\\python\\python311\\lib\\site-packages (from evidently) (5.10.0)\n",
      "Requirement already satisfied: deprecation>=2.1.0 in c:\\users\\big data\\appdata\\local\\programs\\python\\python311\\lib\\site-packages (from evidently) (2.1.0)\n",
      "Requirement already satisfied: uuid6>=2024.7.10 in c:\\users\\big data\\appdata\\local\\programs\\python\\python311\\lib\\site-packages (from evidently) (2024.7.10)\n",
      "Requirement already satisfied: cryptography>=43.0.1 in c:\\users\\big data\\appdata\\local\\programs\\python\\python311\\lib\\site-packages (from evidently) (44.0.2)\n",
      "Requirement already satisfied: joblib>=1.2.0 in c:\\users\\big data\\appdata\\local\\programs\\python\\python311\\lib\\site-packages (from scikit-learn) (1.4.2)\n",
      "Requirement already satisfied: threadpoolctl>=3.1.0 in c:\\users\\big data\\appdata\\local\\programs\\python\\python311\\lib\\site-packages (from scikit-learn) (3.5.0)\n",
      "Requirement already satisfied: python-dateutil>=2.8.2 in c:\\users\\big data\\appdata\\local\\programs\\python\\python311\\lib\\site-packages (from pandas) (2.9.0.post0)\n",
      "Requirement already satisfied: pytz>=2020.1 in c:\\users\\big data\\appdata\\local\\programs\\python\\python311\\lib\\site-packages (from pandas) (2024.2)\n",
      "Requirement already satisfied: tzdata>=2022.7 in c:\\users\\big data\\appdata\\local\\programs\\python\\python311\\lib\\site-packages (from pandas) (2025.1)\n",
      "Requirement already satisfied: contourpy>=1.0.1 in c:\\users\\big data\\appdata\\local\\programs\\python\\python311\\lib\\site-packages (from matplotlib) (1.3.1)\n",
      "Requirement already satisfied: cycler>=0.10 in c:\\users\\big data\\appdata\\local\\programs\\python\\python311\\lib\\site-packages (from matplotlib) (0.12.1)\n",
      "Requirement already satisfied: fonttools>=4.22.0 in c:\\users\\big data\\appdata\\local\\programs\\python\\python311\\lib\\site-packages (from matplotlib) (4.55.3)\n",
      "Requirement already satisfied: kiwisolver>=1.3.1 in c:\\users\\big data\\appdata\\local\\programs\\python\\python311\\lib\\site-packages (from matplotlib) (1.4.8)\n",
      "Requirement already satisfied: pillow>=8 in c:\\users\\big data\\appdata\\local\\programs\\python\\python311\\lib\\site-packages (from matplotlib) (11.0.0)\n",
      "Requirement already satisfied: pyparsing>=2.3.1 in c:\\users\\big data\\appdata\\local\\programs\\python\\python311\\lib\\site-packages (from matplotlib) (3.2.0)\n",
      "Requirement already satisfied: nbformat>=5.2.0 in c:\\users\\big data\\appdata\\local\\programs\\python\\python311\\lib\\site-packages (from papermill) (5.10.4)\n",
      "Requirement already satisfied: nbclient>=0.2.0 in c:\\users\\big data\\appdata\\local\\programs\\python\\python311\\lib\\site-packages (from papermill) (0.10.0)\n",
      "Requirement already satisfied: tqdm>=4.32.2 in c:\\users\\big data\\appdata\\local\\programs\\python\\python311\\lib\\site-packages (from papermill) (4.67.1)\n",
      "Requirement already satisfied: entrypoints in c:\\users\\big data\\appdata\\local\\programs\\python\\python311\\lib\\site-packages (from papermill) (0.4)\n",
      "Requirement already satisfied: tenacity>=5.0.2 in c:\\users\\big data\\appdata\\local\\programs\\python\\python311\\lib\\site-packages (from papermill) (9.0.0)\n",
      "Requirement already satisfied: ansicolors in c:\\users\\big data\\appdata\\local\\programs\\python\\python311\\lib\\site-packages (from papermill) (1.1.8)\n",
      "Requirement already satisfied: Mako in c:\\users\\big data\\appdata\\local\\programs\\python\\python311\\lib\\site-packages (from alembic!=1.10.0,<2->mlflow) (1.3.9)\n",
      "Requirement already satisfied: colorama in c:\\users\\big data\\appdata\\local\\programs\\python\\python311\\lib\\site-packages (from click<9,>=7.0->mlflow-skinny==2.20.4->mlflow) (0.4.6)\n",
      "Requirement already satisfied: cffi>=1.12 in c:\\users\\big data\\appdata\\local\\programs\\python\\python311\\lib\\site-packages (from cryptography>=43.0.1->evidently) (1.17.1)\n",
      "Requirement already satisfied: pywin32>=304 in c:\\users\\big data\\appdata\\local\\programs\\python\\python311\\lib\\site-packages (from docker<8,>=4.0.0->mlflow) (308)\n",
      "Requirement already satisfied: Werkzeug>=3.1 in c:\\users\\big data\\appdata\\local\\programs\\python\\python311\\lib\\site-packages (from Flask<4->mlflow) (3.1.3)\n",
      "Requirement already satisfied: itsdangerous>=2.2 in c:\\users\\big data\\appdata\\local\\programs\\python\\python311\\lib\\site-packages (from Flask<4->mlflow) (2.2.0)\n",
      "Requirement already satisfied: blinker>=1.9 in c:\\users\\big data\\appdata\\local\\programs\\python\\python311\\lib\\site-packages (from Flask<4->mlflow) (1.9.0)\n",
      "Requirement already satisfied: graphql-core<3.3,>=3.1 in c:\\users\\big data\\appdata\\local\\programs\\python\\python311\\lib\\site-packages (from graphene<4->mlflow) (3.2.6)\n",
      "Requirement already satisfied: graphql-relay<3.3,>=3.1 in c:\\users\\big data\\appdata\\local\\programs\\python\\python311\\lib\\site-packages (from graphene<4->mlflow) (3.2.0)\n",
      "Requirement already satisfied: appdirs in c:\\users\\big data\\appdata\\local\\programs\\python\\python311\\lib\\site-packages (from iterative-telemetry>=0.0.5->evidently) (1.4.4)\n",
      "Requirement already satisfied: filelock in c:\\users\\big data\\appdata\\local\\programs\\python\\python311\\lib\\site-packages (from iterative-telemetry>=0.0.5->evidently) (3.16.1)\n",
      "Requirement already satisfied: distro in c:\\users\\big data\\appdata\\local\\programs\\python\\python311\\lib\\site-packages (from iterative-telemetry>=0.0.5->evidently) (1.9.0)\n",
      "Requirement already satisfied: MarkupSafe>=2.0 in c:\\users\\big data\\appdata\\local\\programs\\python\\python311\\lib\\site-packages (from Jinja2<4,>=3.0->mlflow) (3.0.2)\n",
      "Requirement already satisfied: anyio>=3 in c:\\users\\big data\\appdata\\local\\programs\\python\\python311\\lib\\site-packages (from litestar>=2.8.3->evidently) (4.6.2.post1)\n",
      "Requirement already satisfied: httpx>=0.22 in c:\\users\\big data\\appdata\\local\\programs\\python\\python311\\lib\\site-packages (from litestar>=2.8.3->evidently) (0.27.2)\n",
      "Requirement already satisfied: litestar-htmx>=0.4.0 in c:\\users\\big data\\appdata\\local\\programs\\python\\python311\\lib\\site-packages (from litestar>=2.8.3->evidently) (0.4.1)\n",
      "Requirement already satisfied: msgspec>=0.18.2 in c:\\users\\big data\\appdata\\local\\programs\\python\\python311\\lib\\site-packages (from litestar>=2.8.3->evidently) (0.19.0)\n",
      "Requirement already satisfied: multidict>=6.0.2 in c:\\users\\big data\\appdata\\local\\programs\\python\\python311\\lib\\site-packages (from litestar>=2.8.3->evidently) (6.1.0)\n",
      "Requirement already satisfied: multipart>=1.2.0 in c:\\users\\big data\\appdata\\local\\programs\\python\\python311\\lib\\site-packages (from litestar>=2.8.3->evidently) (1.2.1)\n",
      "Requirement already satisfied: polyfactory>=2.6.3 in c:\\users\\big data\\appdata\\local\\programs\\python\\python311\\lib\\site-packages (from litestar>=2.8.3->evidently) (2.19.0)\n",
      "Requirement already satisfied: rich-click in c:\\users\\big data\\appdata\\local\\programs\\python\\python311\\lib\\site-packages (from litestar>=2.8.3->evidently) (1.8.8)\n",
      "Requirement already satisfied: jupyter-client>=6.1.12 in c:\\users\\big data\\appdata\\local\\programs\\python\\python311\\lib\\site-packages (from nbclient>=0.2.0->papermill) (8.6.3)\n",
      "Requirement already satisfied: jupyter-core!=5.0.*,>=4.12 in c:\\users\\big data\\appdata\\local\\programs\\python\\python311\\lib\\site-packages (from nbclient>=0.2.0->papermill) (5.7.2)\n",
      "Requirement already satisfied: traitlets>=5.4 in c:\\users\\big data\\appdata\\local\\programs\\python\\python311\\lib\\site-packages (from nbclient>=0.2.0->papermill) (5.14.3)\n",
      "Requirement already satisfied: fastjsonschema>=2.15 in c:\\users\\big data\\appdata\\local\\programs\\python\\python311\\lib\\site-packages (from nbformat>=5.2.0->papermill) (2.20.0)\n",
      "Requirement already satisfied: jsonschema>=2.6 in c:\\users\\big data\\appdata\\local\\programs\\python\\python311\\lib\\site-packages (from nbformat>=5.2.0->papermill) (4.23.0)\n",
      "Requirement already satisfied: regex>=2021.8.3 in c:\\users\\big data\\appdata\\local\\programs\\python\\python311\\lib\\site-packages (from nltk>=3.6.7->evidently) (2024.11.6)\n",
      "Requirement already satisfied: annotated-types>=0.6.0 in c:\\users\\big data\\appdata\\local\\programs\\python\\python311\\lib\\site-packages (from pydantic<3,>=1.10.8->mlflow-skinny==2.20.4->mlflow) (0.7.0)\n",
      "Requirement already satisfied: pydantic-core==2.27.2 in c:\\users\\big data\\appdata\\local\\programs\\python\\python311\\lib\\site-packages (from pydantic<3,>=1.10.8->mlflow-skinny==2.20.4->mlflow) (2.27.2)\n",
      "Requirement already satisfied: six>=1.5 in c:\\users\\big data\\appdata\\local\\programs\\python\\python311\\lib\\site-packages (from python-dateutil>=2.8.2->pandas) (1.16.0)\n",
      "Requirement already satisfied: charset-normalizer<4,>=2 in c:\\users\\big data\\appdata\\local\\programs\\python\\python311\\lib\\site-packages (from requests<3,>=2.17.3->mlflow-skinny==2.20.4->mlflow) (3.4.0)\n",
      "Requirement already satisfied: idna<4,>=2.5 in c:\\users\\big data\\appdata\\local\\programs\\python\\python311\\lib\\site-packages (from requests<3,>=2.17.3->mlflow-skinny==2.20.4->mlflow) (3.10)\n",
      "Requirement already satisfied: markdown-it-py>=2.2.0 in c:\\users\\big data\\appdata\\local\\programs\\python\\python311\\lib\\site-packages (from rich>=13->evidently) (3.0.0)\n",
      "Requirement already satisfied: pygments<3.0.0,>=2.13.0 in c:\\users\\big data\\appdata\\local\\programs\\python\\python311\\lib\\site-packages (from rich>=13->evidently) (2.18.0)\n",
      "Requirement already satisfied: greenlet!=0.4.17 in c:\\users\\big data\\appdata\\local\\programs\\python\\python311\\lib\\site-packages (from sqlalchemy<3,>=1.4.0->mlflow) (3.1.1)\n",
      "Requirement already satisfied: patsy>=0.5.6 in c:\\users\\big data\\appdata\\local\\programs\\python\\python311\\lib\\site-packages (from statsmodels>=0.12.2->evidently) (1.0.1)\n",
      "Requirement already satisfied: shellingham>=1.3.0 in c:\\users\\big data\\appdata\\local\\programs\\python\\python311\\lib\\site-packages (from typer>=0.3->evidently) (1.5.4)\n",
      "Requirement already satisfied: mypy-extensions>=0.3.0 in c:\\users\\big data\\appdata\\local\\programs\\python\\python311\\lib\\site-packages (from typing-inspect>=0.9.0->evidently) (1.0.0)\n",
      "Requirement already satisfied: h11>=0.8 in c:\\users\\big data\\appdata\\local\\programs\\python\\python311\\lib\\site-packages (from uvicorn[standard]>=0.22.0->evidently) (0.14.0)\n",
      "Requirement already satisfied: httptools>=0.6.3 in c:\\users\\big data\\appdata\\local\\programs\\python\\python311\\lib\\site-packages (from uvicorn[standard]>=0.22.0->evidently) (0.6.4)\n",
      "Requirement already satisfied: python-dotenv>=0.13 in c:\\users\\big data\\appdata\\local\\programs\\python\\python311\\lib\\site-packages (from uvicorn[standard]>=0.22.0->evidently) (1.0.1)\n",
      "Requirement already satisfied: watchfiles>=0.13 in c:\\users\\big data\\appdata\\local\\programs\\python\\python311\\lib\\site-packages (from uvicorn[standard]>=0.22.0->evidently) (1.0.4)\n",
      "Requirement already satisfied: websockets>=10.4 in c:\\users\\big data\\appdata\\local\\programs\\python\\python311\\lib\\site-packages (from uvicorn[standard]>=0.22.0->evidently) (15.0.1)\n",
      "Requirement already satisfied: sniffio>=1.1 in c:\\users\\big data\\appdata\\local\\programs\\python\\python311\\lib\\site-packages (from anyio>=3->litestar>=2.8.3->evidently) (1.3.1)\n",
      "Requirement already satisfied: pycparser in c:\\users\\big data\\appdata\\local\\programs\\python\\python311\\lib\\site-packages (from cffi>=1.12->cryptography>=43.0.1->evidently) (2.22)\n",
      "Requirement already satisfied: google-auth~=2.0 in c:\\users\\big data\\appdata\\local\\programs\\python\\python311\\lib\\site-packages (from databricks-sdk<1,>=0.20.0->mlflow-skinny==2.20.4->mlflow) (2.37.0)\n",
      "Requirement already satisfied: gitdb<5,>=4.0.1 in c:\\users\\big data\\appdata\\local\\programs\\python\\python311\\lib\\site-packages (from gitpython<4,>=3.1.9->mlflow-skinny==2.20.4->mlflow) (4.0.12)\n",
      "Requirement already satisfied: httpcore==1.* in c:\\users\\big data\\appdata\\local\\programs\\python\\python311\\lib\\site-packages (from httpx>=0.22->litestar>=2.8.3->evidently) (1.0.7)\n",
      "Requirement already satisfied: zipp>=3.20 in c:\\users\\big data\\appdata\\local\\programs\\python\\python311\\lib\\site-packages (from importlib_metadata!=4.7.0,<9,>=3.7.0->mlflow-skinny==2.20.4->mlflow) (3.21.0)\n",
      "Requirement already satisfied: attrs>=22.2.0 in c:\\users\\big data\\appdata\\local\\programs\\python\\python311\\lib\\site-packages (from jsonschema>=2.6->nbformat>=5.2.0->papermill) (24.2.0)\n",
      "Requirement already satisfied: jsonschema-specifications>=2023.03.6 in c:\\users\\big data\\appdata\\local\\programs\\python\\python311\\lib\\site-packages (from jsonschema>=2.6->nbformat>=5.2.0->papermill) (2024.10.1)\n",
      "Requirement already satisfied: referencing>=0.28.4 in c:\\users\\big data\\appdata\\local\\programs\\python\\python311\\lib\\site-packages (from jsonschema>=2.6->nbformat>=5.2.0->papermill) (0.35.1)\n",
      "Requirement already satisfied: rpds-py>=0.7.1 in c:\\users\\big data\\appdata\\local\\programs\\python\\python311\\lib\\site-packages (from jsonschema>=2.6->nbformat>=5.2.0->papermill) (0.21.0)\n",
      "Requirement already satisfied: pyzmq>=23.0 in c:\\users\\big data\\appdata\\local\\programs\\python\\python311\\lib\\site-packages (from jupyter-client>=6.1.12->nbclient>=0.2.0->papermill) (26.2.0)\n",
      "Requirement already satisfied: tornado>=6.2 in c:\\users\\big data\\appdata\\local\\programs\\python\\python311\\lib\\site-packages (from jupyter-client>=6.1.12->nbclient>=0.2.0->papermill) (6.4.2)\n",
      "Requirement already satisfied: platformdirs>=2.5 in c:\\users\\big data\\appdata\\local\\programs\\python\\python311\\lib\\site-packages (from jupyter-core!=5.0.*,>=4.12->nbclient>=0.2.0->papermill) (4.3.6)\n",
      "Requirement already satisfied: mdurl~=0.1 in c:\\users\\big data\\appdata\\local\\programs\\python\\python311\\lib\\site-packages (from markdown-it-py>=2.2.0->rich>=13->evidently) (0.1.2)\n",
      "Requirement already satisfied: deprecated>=1.2.6 in c:\\users\\big data\\appdata\\local\\programs\\python\\python311\\lib\\site-packages (from opentelemetry-api<3,>=1.9.0->mlflow-skinny==2.20.4->mlflow) (1.2.18)\n",
      "Requirement already satisfied: opentelemetry-semantic-conventions==0.52b0 in c:\\users\\big data\\appdata\\local\\programs\\python\\python311\\lib\\site-packages (from opentelemetry-sdk<3,>=1.9.0->mlflow-skinny==2.20.4->mlflow) (0.52b0)\n",
      "Requirement already satisfied: faker in c:\\users\\big data\\appdata\\local\\programs\\python\\python311\\lib\\site-packages (from polyfactory>=2.6.3->litestar>=2.8.3->evidently) (37.0.0)\n",
      "Requirement already satisfied: wrapt<2,>=1.10 in c:\\users\\big data\\appdata\\local\\programs\\python\\python311\\lib\\site-packages (from deprecated>=1.2.6->opentelemetry-api<3,>=1.9.0->mlflow-skinny==2.20.4->mlflow) (1.17.2)\n",
      "Requirement already satisfied: smmap<6,>=3.0.1 in c:\\users\\big data\\appdata\\local\\programs\\python\\python311\\lib\\site-packages (from gitdb<5,>=4.0.1->gitpython<4,>=3.1.9->mlflow-skinny==2.20.4->mlflow) (5.0.2)\n",
      "Requirement already satisfied: pyasn1-modules>=0.2.1 in c:\\users\\big data\\appdata\\local\\programs\\python\\python311\\lib\\site-packages (from google-auth~=2.0->databricks-sdk<1,>=0.20.0->mlflow-skinny==2.20.4->mlflow) (0.4.1)\n",
      "Requirement already satisfied: rsa<5,>=3.1.4 in c:\\users\\big data\\appdata\\local\\programs\\python\\python311\\lib\\site-packages (from google-auth~=2.0->databricks-sdk<1,>=0.20.0->mlflow-skinny==2.20.4->mlflow) (4.9)\n",
      "Requirement already satisfied: pyasn1<0.7.0,>=0.4.6 in c:\\users\\big data\\appdata\\local\\programs\\python\\python311\\lib\\site-packages (from pyasn1-modules>=0.2.1->google-auth~=2.0->databricks-sdk<1,>=0.20.0->mlflow-skinny==2.20.4->mlflow) (0.6.1)\n"
     ]
    },
    {
     "name": "stderr",
     "output_type": "stream",
     "text": [
      "\n",
      "[notice] A new release of pip available: 22.3.1 -> 25.0.1\n",
      "[notice] To update, run: python.exe -m pip install --upgrade pip\n"
     ]
    }
   ],
   "source": [
    "# Instalar bibliotecas ( necessário)\n",
    "!pip install mlflow evidently scikit-learn pandas numpy matplotlib seaborn papermill\n",
    "\n",
    "# Importar pacotes principais\n",
    "import pandas as pd\n",
    "import numpy as np\n",
    "import mlflow\n",
    "import mlflow.sklearn\n",
    "from sklearn.model_selection import train_test_split\n",
    "from sklearn.preprocessing import StandardScaler\n",
    "from sklearn.ensemble import RandomForestClassifier\n",
    "from evidently.report import Report\n",
    "from evidently.metrics import DataDriftTable\n",
    "import pickle\n"
   ]
  },
  {
   "cell_type": "markdown",
   "id": "1571cb61-7966-4621-8918-b7ef01623403",
   "metadata": {},
   "source": [
    "### Configurar MLflow para rastreamento de experimentos com objetivo de monitorar todo o processo, incluindo tempo de carregamento, transformações e qualidade dos dados. início do pipeline."
   ]
  },
  {
   "cell_type": "code",
   "execution_count": 16,
   "id": "d8bc70d9-ed62-4c06-b5c7-6d8372de0bf8",
   "metadata": {},
   "outputs": [
    {
     "name": "stdout",
     "output_type": "stream",
     "text": [
      "Tracking URI: file:///E:\\Mestrado UFCG\\Semestre 2024.2\\Dados\\Aplicando_para_dissertacao\\mlflow_logs\n"
     ]
    }
   ],
   "source": [
    "import mlflow\n",
    "import os\n",
    "\n",
    "# Definindo um novo diretório para armazenar os logs dos experimentos\n",
    "caminho_logs = \"E:/Mestrado UFCG/Semestre 2024.2/Dados/Aplicando_para_dissertacao/mlflow_logs\"\n",
    "\n",
    "# Criar o diretório se não existir\n",
    "os.makedirs(caminho_logs, exist_ok=True)\n",
    "\n",
    "# Convertendo o caminho para o formato correto de URI\n",
    "caminho_logs_uri = f\"file:///{os.path.abspath(caminho_logs)}\"\n",
    "\n",
    "# Configurando o MLflow para usar esse diretório\n",
    "mlflow.set_tracking_uri(caminho_logs_uri)\n",
    "\n",
    "# Criando ou definindo o experimento\n",
    "mlflow.set_experiment(\"Evasao_UFCG\")\n",
    "\n",
    "# Exibir a configuração para garantir que está correto\n",
    "print(f\"Tracking URI: {mlflow.get_tracking_uri()}\")\n"
   ]
  },
  {
   "cell_type": "markdown",
   "id": "e376940b-5bff-4e62-87fd-a96c0dd5ed46",
   "metadata": {},
   "source": [
    "### Carregar os dados as tabelas relevantes"
   ]
  },
  {
   "cell_type": "code",
   "execution_count": 17,
   "id": "1112c63a-277b-4456-8f07-9dd5e6c6ea25",
   "metadata": {},
   "outputs": [
    {
     "name": "stdout",
     "output_type": "stream",
     "text": [
      "alunos carregada com sucesso! (3761 linhas, 22 colunas)\n",
      "tabela_dados_ingresso carregada com sucesso! (3761 linhas, 4 colunas)\n",
      "tabela_dados_pessoais carregada com sucesso! (3761 linhas, 5 colunas)\n",
      "matriculas carregada com sucesso! (182660 linhas, 10 colunas)\n",
      " Carregamento finalizado.\n"
     ]
    }
   ],
   "source": [
    "import pandas as pd\n",
    "import os\n",
    "import mlflow\n",
    "\n",
    "# Definindo caminhos\n",
    "caminho_base = \"E:/Mestrado UFCG/Semestre 2024.2/Dados/Tabelas_0/\"\n",
    "tables = [\"alunos\", \"tabela_dados_ingresso\", \"tabela_dados_pessoais\", \"matriculas\"]\n",
    "\n",
    "# Iniciar Experimento MLflow\n",
    "mlflow.set_experiment(\"Carregamento de Dados UFCG\")\n",
    "\n",
    "with mlflow.start_run():\n",
    "    # Log do início do carregamento usando métrica em vez de parâmetro fixo\n",
    "    mlflow.log_metric(\"status_iniciando\", 1)\n",
    "\n",
    "    dados = {}\n",
    "    \n",
    "    for table in tables:\n",
    "        caminho = os.path.join(caminho_base, f\"{table}.csv\")\n",
    "        try:\n",
    "            # Detectar delimitador correto\n",
    "            with open(caminho, \"r\", encoding=\"utf-8\") as f:\n",
    "                primeira_linha = f.readline()\n",
    "                if \";\" in primeira_linha:\n",
    "                    delimitador = \";\"\n",
    "                elif \",\" in primeira_linha:\n",
    "                    delimitador = \",\"\n",
    "                elif \"\\t\" in primeira_linha:\n",
    "                    delimitador = \"\\t\"\n",
    "                else:\n",
    "                    delimitador = \",\"  # Padrão caso não detecte\n",
    "\n",
    "            # Carregar CSV com delimitador correto\n",
    "            df = pd.read_csv(caminho, delimiter=delimitador, encoding=\"utf-8\")\n",
    "            \n",
    "            # Verifica se carregou corretamente\n",
    "            if df.shape[1] == 1:\n",
    "                print(f\" Atenção: {table} foi carregada com apenas 1 coluna! Pode haver erro no delimitador.\")\n",
    "            \n",
    "            dados[table] = df\n",
    "            print(f\"{table} carregada com sucesso! ({df.shape[0]} linhas, {df.shape[1]} colunas)\")\n",
    "        except Exception as e:\n",
    "            print(f\"Erro ao carregar {table}: {e}\")\n",
    "            mlflow.log_param(f\"erro_{table}\", str(e))  # Log do erro no MLflow\n",
    "\n",
    "    # Usar métrica ao invés de parâmetro para evitar erro no MLflow\n",
    "    mlflow.log_metric(\"status_carregamento_finalizado\", 1)\n",
    "\n",
    "    print(\" Carregamento finalizado.\")\n"
   ]
  },
  {
   "cell_type": "markdown",
   "id": "64936a61-3a5f-4627-acf3-81c269a5829c",
   "metadata": {},
   "source": [
    "### Visualizar colunas das tabelas"
   ]
  },
  {
   "cell_type": "code",
   "execution_count": 18,
   "id": "6fdc0059-5dfa-4577-ac77-6bf5716507fb",
   "metadata": {},
   "outputs": [
    {
     "name": "stdout",
     "output_type": "stream",
     "text": [
      "\n",
      "Colunas da tabela 'alunos':\n",
      "['MATRICULA', 'ID_CIDADAO', 'NOME', 'IDADE', 'E-MAIL', 'GENERO', 'ESTADO_CIVIL_ALUNOS', 'NACIONALIDADE', 'LOCAL_NASCIMENTO', 'ESTADO', 'TERMO_ESTADO', 'RAZAO_INATIVIDADE', 'TIPO_ADMISSAO', 'TERMO_ADMISSAO', 'POLITICA_AFIRMATIVA', 'TIPO_ENSINO_MEDIO', 'ANO_FORMATURA_ENSINO_MEDIO', 'CODIGO_CURSO', 'CODIGO_CURRICULAR', ' ALUNOS_ATIVOS', 'EX_ALUNOS', 'ALUNOS_INATIVOS']\n",
      "\n",
      "Colunas da tabela 'tabela_dados_ingresso':\n",
      "['MATRICULA', 'TIPO_ADMISSAO', 'TIPO_ENSINO_MEDIO', 'POLITICA_AFIRMATIVA_ALUNOS']\n",
      "\n",
      "Colunas da tabela 'tabela_dados_pessoais':\n",
      "['MATRICULA', 'IDADE', 'GENERO', 'LOCAL_NASCIMENTO', 'ESTADO']\n",
      "\n",
      "Colunas da tabela 'matriculas':\n",
      "['MATRICULA', 'CODIGO_DISCIPLINA', 'NOME', 'CREDITOS', 'HORAS', 'TERMO', 'ID_CLASS', 'NOTA', 'ESTATUS', 'TIPO']\n"
     ]
    }
   ],
   "source": [
    "import pandas as pd\n",
    "\n",
    "# Caminho base onde as tabelas estão armazenadas\n",
    "caminho_base = \"E:/Mestrado UFCG/Semestre 2024.2/Dados/Tabelas_0/\"\n",
    "\n",
    "# Lista com os nomes das tabelas\n",
    "tables = [\"alunos\", \"tabela_dados_ingresso\", \"tabela_dados_pessoais\", \"matriculas\"]\n",
    "\n",
    "# Carregar e exibir as colunas de cada tabela\n",
    "for tabela in tables:\n",
    "    # Carregar a tabela especificando o separador ';'\n",
    "    tabela_df = pd.read_csv(caminho_base + tabela + \".csv\", sep=';', on_bad_lines='skip')\n",
    "    \n",
    "    # Mostrar as primeiras linhas e as colunas da tabela\n",
    "    print(f\"\\nColunas da tabela '{tabela}':\")\n",
    "    print(tabela_df.columns.tolist())"
   ]
  },
  {
   "cell_type": "markdown",
   "id": "217e6fa6-15eb-4de8-b052-beeca49b7380",
   "metadata": {},
   "source": [
    "### Filtro de Intervalo da pesquisa: 2001.1 - 2023.2"
   ]
  },
  {
   "cell_type": "code",
   "execution_count": 19,
   "id": "d32a6db9-4094-4808-b989-ae99b01a0bb3",
   "metadata": {},
   "outputs": [
    {
     "name": "stdout",
     "output_type": "stream",
     "text": [
      "\n",
      "Colunas da tabela 'alunos':\n",
      "['MATRICULA', 'ID_CIDADAO', 'NOME', 'IDADE', 'E-MAIL', 'GENERO', 'ESTADO_CIVIL_ALUNOS', 'NACIONALIDADE', 'LOCAL_NASCIMENTO', 'ESTADO', 'TERMO_ESTADO', 'RAZAO_INATIVIDADE', 'TIPO_ADMISSAO', 'TERMO_ADMISSAO', 'POLITICA_AFIRMATIVA', 'TIPO_ENSINO_MEDIO', 'ANO_FORMATURA_ENSINO_MEDIO', 'CODIGO_CURSO', 'CODIGO_CURRICULAR', ' ALUNOS_ATIVOS', 'EX_ALUNOS', 'ALUNOS_INATIVOS']\n",
      "\n",
      "Colunas da tabela 'tabela_dados_ingresso':\n",
      "['MATRICULA', 'TIPO_ADMISSAO', 'TIPO_ENSINO_MEDIO', 'POLITICA_AFIRMATIVA_ALUNOS']\n",
      "\n",
      "Colunas da tabela 'tabela_dados_pessoais':\n",
      "['MATRICULA', 'IDADE', 'GENERO', 'LOCAL_NASCIMENTO', 'ESTADO']\n",
      "\n",
      "Colunas da tabela 'matriculas':\n",
      "['MATRICULA', 'CODIGO_DISCIPLINA', 'NOME', 'CREDITOS', 'HORAS', 'TERMO', 'ID_CLASS', 'NOTA', 'ESTATUS', 'TIPO']\n",
      "\n",
      "Primeiras linhas da tabela 'matriculas' após o filtro:\n",
      "       MATRICULA  CODIGO_DISCIPLINA                                     NOME  \\\n",
      "25990  194110044            1411170                        TEORIA DOS GRAFOS   \n",
      "25991  194110044            1411172         ESTRUTURAS DE DADOS E ALGORITMOS   \n",
      "25992  194110044            1411179  LAB.DE ESTRUTURAS DE DADOS E ALGORITMOS   \n",
      "25993  194110044            1411192                    SISTEMAS OPERACIONAIS   \n",
      "29556  195210186            1411170                        TEORIA DOS GRAFOS   \n",
      "\n",
      "       CREDITOS  HORAS   TERMO  ID_CLASS  NOTA              ESTATUS    TIPO  \n",
      "25990         2     30  2002.1       1.0   0.0  REPROVADO_POR_FALTA  NORMAL  \n",
      "25991         4     60  2002.1       1.0   0.0  REPROVADO_POR_FALTA  NORMAL  \n",
      "25992         4     60  2002.1       1.0   0.0  REPROVADO_POR_FALTA  NORMAL  \n",
      "25993         4     60  2002.1       1.0   0.0  REPROVADO_POR_FALTA  NORMAL  \n",
      "29556         2     30  2002.1       1.0   3.8   REPROVADO_POR_NOTA  NORMAL  \n"
     ]
    }
   ],
   "source": [
    "import pandas as pd\n",
    "\n",
    "# Caminho base onde as tabelas estão armazenadas\n",
    "caminho_base = \"E:/Mestrado UFCG/Semestre 2024.2/Dados/Tabelas_0/\"\n",
    "\n",
    "# Lista com os nomes das tabelas\n",
    "tables = [\"alunos\", \"tabela_dados_ingresso\", \"tabela_dados_pessoais\", \"matriculas\"]\n",
    "\n",
    "# Carregar e exibir as colunas de cada tabela\n",
    "for tabela in tables:\n",
    "    # Carregar a tabela especificando o separador ';'\n",
    "    tabela_df = pd.read_csv(caminho_base + tabela + \".csv\", sep=';', on_bad_lines='skip')\n",
    "    \n",
    "    # Mostrar as primeiras linhas e as colunas da tabela\n",
    "    print(f\"\\nColunas da tabela '{tabela}':\")\n",
    "    print(tabela_df.columns.tolist())\n",
    "    \n",
    "    # Se a tabela for \"matriculas\", aplicar o filtro de ano e semestre\n",
    "    if tabela == \"matriculas\":\n",
    "        # Garantir que a coluna 'TERMO' esteja em formato adequado (se necessário)\n",
    "        tabela_df['TERMO'] = tabela_df['TERMO'].astype(str)\n",
    "        \n",
    "        # Filtrar os registros entre 2002.1 e 2023.2\n",
    "        tabela_df = tabela_df[tabela_df['TERMO'].between('2002.1', '2023.2')]\n",
    "        \n",
    "        # Exibir as primeiras linhas após o filtro\n",
    "        print(f\"\\nPrimeiras linhas da tabela '{tabela}' após o filtro:\")\n",
    "        print(tabela_df.head())\n"
   ]
  },
  {
   "cell_type": "code",
   "execution_count": 20,
   "id": "b06cc67a-9fd0-4389-ad8b-5ca6e04d5924",
   "metadata": {},
   "outputs": [
    {
     "name": "stdout",
     "output_type": "stream",
     "text": [
      "\n",
      "Tabela 'alunos' tem 3761 linhas e 22 colunas.\n",
      "\n",
      "Tabela 'tabela_dados_ingresso' tem 3761 linhas e 4 colunas.\n",
      "\n",
      "Tabela 'tabela_dados_pessoais' tem 3761 linhas e 5 colunas.\n",
      "\n",
      "Tabela 'matriculas' tem 136066 linhas e 10 colunas.\n"
     ]
    }
   ],
   "source": [
    "import pandas as pd\n",
    "\n",
    "# Caminho base onde as tabelas estão armazenadas\n",
    "caminho_base = \"E:/Mestrado UFCG/Semestre 2024.2/Dados/Tabelas_0/\"\n",
    "\n",
    "# Lista com os nomes das tabelas\n",
    "tables = [\"alunos\", \"tabela_dados_ingresso\", \"tabela_dados_pessoais\", \"matriculas\"]\n",
    "\n",
    "# Carregar e exibir as colunas de cada tabela\n",
    "for tabela in tables:\n",
    "    # Carregar a tabela especificando o separador ';'\n",
    "    tabela_df = pd.read_csv(caminho_base + tabela + \".csv\", sep=';', on_bad_lines='skip')\n",
    "    \n",
    "    # Se a tabela for \"matriculas\", aplicar o filtro de ano e semestre\n",
    "    if tabela == \"matriculas\":\n",
    "        # Garantir que a coluna 'TERMO' esteja em formato adequado (se necessário)\n",
    "        tabela_df['TERMO'] = tabela_df['TERMO'].astype(str)\n",
    "        \n",
    "        # Filtrar os registros entre 2002.1 e 2023.2\n",
    "        tabela_df = tabela_df[tabela_df['TERMO'].between('2002.1', '2023.2')]\n",
    "    \n",
    "    # Mostrar as dimensões (linhas e colunas) da tabela\n",
    "    print(f\"\\nTabela '{tabela}' tem {tabela_df.shape[0]} linhas e {tabela_df.shape[1]} colunas.\")\n"
   ]
  },
  {
   "cell_type": "markdown",
   "id": "ed741625-8516-4f2d-af31-3a298c5d8a1b",
   "metadata": {},
   "source": [
    "### Remover dados duplicados ou não relacionados"
   ]
  },
  {
   "cell_type": "code",
   "execution_count": 21,
   "id": "1122094b-24b5-4010-a2ab-9b4d2722607f",
   "metadata": {},
   "outputs": [
    {
     "name": "stdout",
     "output_type": "stream",
     "text": [
      "\n",
      "Tabela 'alunos' tem 3761 linhas e 22 colunas após tratamento de duplicação.\n",
      "\n",
      "Tabela 'tabela_dados_ingresso' tem 3761 linhas e 4 colunas após tratamento de duplicação.\n",
      "\n",
      "Tabela 'tabela_dados_pessoais' tem 3761 linhas e 5 colunas após tratamento de duplicação.\n",
      "\n",
      "Tabela 'matriculas' tem 3789 linhas e 10 colunas após tratamento de duplicação.\n"
     ]
    }
   ],
   "source": [
    "import pandas as pd\n",
    "\n",
    "# Caminho base onde as tabelas estão armazenadas\n",
    "caminho_base = \"E:/Mestrado UFCG/Semestre 2024.2/Dados/Tabelas_0/\"\n",
    "\n",
    "# Lista com os nomes das tabelas\n",
    "tables = [\"alunos\", \"tabela_dados_ingresso\", \"tabela_dados_pessoais\", \"matriculas\"]\n",
    "\n",
    "# Carregar e exibir as colunas de cada tabela\n",
    "for tabela in tables:\n",
    "    # Carregar a tabela especificando o separador ';'\n",
    "    tabela_df = pd.read_csv(caminho_base + tabela + \".csv\", sep=';', on_bad_lines='skip')\n",
    "    \n",
    "    # Se a tabela for \"matriculas\", aplicar o filtro de ano e semestre\n",
    "    if tabela == \"matriculas\":\n",
    "        # Garantir que a coluna 'TERMO' esteja em formato adequado (se necessário)\n",
    "        tabela_df['TERMO'] = tabela_df['TERMO'].astype(str)\n",
    "        \n",
    "        # Filtrar os registros entre 2002.1 e 2023.2\n",
    "        tabela_df = tabela_df[tabela_df['TERMO'].between('2002.1', '2023.2')]\n",
    "        \n",
    "        # Remover duplicatas com base na coluna 'MATRICULA' (ou qualquer outra que identifique um aluno único)\n",
    "        tabela_df = tabela_df.drop_duplicates(subset=['MATRICULA'], keep='first')  # Mantém a primeira ocorrência de cada matrícula\n",
    "    \n",
    "    # Mostrar as dimensões (linhas e colunas) da tabela após o tratamento\n",
    "    print(f\"\\nTabela '{tabela}' tem {tabela_df.shape[0]} linhas e {tabela_df.shape[1]} colunas após tratamento de duplicação.\")\n"
   ]
  },
  {
   "cell_type": "markdown",
   "id": "c4d1fda9-e9c7-41c5-b20a-8dcdbb3167d3",
   "metadata": {},
   "source": [
    "### A Identificar e Corrigir formatação"
   ]
  },
  {
   "cell_type": "code",
   "execution_count": 22,
   "id": "1baf7fdd-263c-4e01-93ce-85f1acc25983",
   "metadata": {},
   "outputs": [
    {
     "name": "stderr",
     "output_type": "stream",
     "text": [
      "C:\\Users\\Big Data\\AppData\\Local\\Temp\\ipykernel_2832\\4044100935.py:12: FutureWarning: DataFrame.applymap has been deprecated. Use DataFrame.map instead.\n",
      "  df = df.applymap(lambda x: x.strip() if isinstance(x, str) else x)\n",
      "C:\\Users\\Big Data\\AppData\\Local\\Temp\\ipykernel_2832\\4044100935.py:12: FutureWarning: DataFrame.applymap has been deprecated. Use DataFrame.map instead.\n",
      "  df = df.applymap(lambda x: x.strip() if isinstance(x, str) else x)\n",
      "C:\\Users\\Big Data\\AppData\\Local\\Temp\\ipykernel_2832\\4044100935.py:12: FutureWarning: DataFrame.applymap has been deprecated. Use DataFrame.map instead.\n",
      "  df = df.applymap(lambda x: x.strip() if isinstance(x, str) else x)\n"
     ]
    },
    {
     "name": "stdout",
     "output_type": "stream",
     "text": [
      "\n",
      "Tabela 'alunos' tem 3761 linhas e 22 colunas após correção de formatação.\n",
      "   MATRICULA    ID_CIDADAO  NOME  IDADE  E-MAIL  GENERO  ESTADO_CIVIL_ALUNOS  \\\n",
      "0  102210001           NaN   NaN     42     NaN     NaN                  NaN   \n",
      "1  102210002  5.175670e+09   NaN     43     NaN     NaN                  NaN   \n",
      "2  102210003           NaN   NaN     40     NaN     NaN                  NaN   \n",
      "3  102210004  2.454245e+08   NaN     43     NaN     NaN                  NaN   \n",
      "4  102210005  1.195394e+09   NaN     43     NaN     NaN                  NaN   \n",
      "\n",
      "   NACIONALIDADE  LOCAL_NASCIMENTO  ESTADO  ...  TIPO_ADMISSAO  \\\n",
      "0            NaN               NaN     NaN  ...            NaN   \n",
      "1            NaN               NaN     NaN  ...            NaN   \n",
      "2            NaN               NaN     NaN  ...            NaN   \n",
      "3            NaN               NaN     NaN  ...            NaN   \n",
      "4            NaN               NaN     NaN  ...            NaN   \n",
      "\n",
      "   TERMO_ADMISSAO  POLITICA_AFIRMATIVA  TIPO_ENSINO_MEDIO  \\\n",
      "0          2002.2                  NaN                NaN   \n",
      "1          2002.2                  NaN                NaN   \n",
      "2          2002.2                  NaN                NaN   \n",
      "3          2002.2                  NaN                NaN   \n",
      "4          2002.2                  NaN                NaN   \n",
      "\n",
      "   ANO_FORMATURA_ENSINO_MEDIO  CODIGO_CURSO  CODIGO_CURRICULAR  \\\n",
      "0                         NaN      14102100               1999   \n",
      "1                         NaN      14102100               1999   \n",
      "2                         NaN      14102100               1999   \n",
      "3                         NaN      14102100               1999   \n",
      "4                         NaN      14102100               1999   \n",
      "\n",
      "    ALUNOS_ATIVOS  EX_ALUNOS  ALUNOS_INATIVOS  \n",
      "0           False      False             True  \n",
      "1           False       True            False  \n",
      "2           False      False             True  \n",
      "3           False       True            False  \n",
      "4           False       True            False  \n",
      "\n",
      "[5 rows x 22 columns]\n",
      "\n",
      "Tabela 'tabela_dados_ingresso' tem 3761 linhas e 4 colunas após correção de formatação.\n",
      "   MATRICULA  TIPO_ADMISSAO  TIPO_ENSINO_MEDIO  POLITICA_AFIRMATIVA_ALUNOS\n",
      "0  102210001            NaN                NaN                         NaN\n",
      "1  102210002            NaN                NaN                         NaN\n",
      "2  102210003            NaN                NaN                         NaN\n",
      "3  102210004            NaN                NaN                         NaN\n",
      "4  102210005            NaN                NaN                         NaN\n",
      "\n",
      "Tabela 'tabela_dados_pessoais' tem 3761 linhas e 5 colunas após correção de formatação.\n",
      "   MATRICULA  IDADE  GENERO  LOCAL_NASCIMENTO  ESTADO\n",
      "0  102210001     42     NaN               NaN     NaN\n",
      "1  102210002     43     NaN               NaN     NaN\n",
      "2  102210003     40     NaN               NaN     NaN\n",
      "3  102210004     43     NaN               NaN     NaN\n",
      "4  102210005     43     NaN               NaN     NaN\n"
     ]
    },
    {
     "name": "stderr",
     "output_type": "stream",
     "text": [
      "C:\\Users\\Big Data\\AppData\\Local\\Temp\\ipykernel_2832\\4044100935.py:12: FutureWarning: DataFrame.applymap has been deprecated. Use DataFrame.map instead.\n",
      "  df = df.applymap(lambda x: x.strip() if isinstance(x, str) else x)\n"
     ]
    },
    {
     "name": "stdout",
     "output_type": "stream",
     "text": [
      "\n",
      "Tabela 'matriculas' tem 182660 linhas e 10 colunas após correção de formatação.\n",
      "   MATRICULA  CODIGO_DISCIPLINA  NOME  CREDITOS  HORAS   TERMO  ID_CLASS  \\\n",
      "0  177110007            1307045   NaN         5     75  1977.1       NaN   \n",
      "1  177110007            1109002   NaN         4     60  1977.2       NaN   \n",
      "2  177110007            1304009   NaN         2     30  1977.2       NaN   \n",
      "3  177110007            1307012   NaN         3     45  1977.2       NaN   \n",
      "4  177110007            1109007   NaN         4     60  1978.1       NaN   \n",
      "\n",
      "   NOTA  ESTATUS  TIPO  \n",
      "0   6.1      NaN   NaN  \n",
      "1   5.2      NaN   NaN  \n",
      "2   6.0      NaN   NaN  \n",
      "3   8.0      NaN   NaN  \n",
      "4   5.1      NaN   NaN  \n"
     ]
    }
   ],
   "source": [
    "import pandas as pd\n",
    "\n",
    "# Caminho base onde as tabelas estão armazenadas\n",
    "caminho_base = \"E:/Mestrado UFCG/Semestre 2024.2/Dados/Tabelas_0/\"\n",
    "\n",
    "# Lista com os nomes das tabelas\n",
    "tables = [\"alunos\", \"tabela_dados_ingresso\", \"tabela_dados_pessoais\", \"matriculas\"]\n",
    "\n",
    "# Função para corrigir formatação\n",
    "def corrigir_formatacao(df):\n",
    "    # Corrigir espaços em branco nas colunas de texto\n",
    "    df = df.applymap(lambda x: x.strip() if isinstance(x, str) else x)\n",
    "    \n",
    "    # Converter colunas numéricas com erro de formatação para o tipo numérico\n",
    "    for col in df.select_dtypes(include=['object']).columns:\n",
    "        try:\n",
    "            df[col] = pd.to_numeric(df[col], errors='coerce')  # Converte para numérico, coloca NaN em erros\n",
    "        except ValueError:\n",
    "            pass  # Caso a conversão falhe, ignora\n",
    "    return df\n",
    "\n",
    "# Carregar e corrigir as tabelas\n",
    "for tabela in tables:\n",
    "    # Carregar a tabela especificando o separador ';'\n",
    "    tabela_df = pd.read_csv(caminho_base + tabela + \".csv\", sep=';', on_bad_lines='skip')\n",
    "    \n",
    "    # Corrigir formatação\n",
    "    tabela_df = corrigir_formatacao(tabela_df)\n",
    "    \n",
    "    # Mostrar as dimensões (linhas e colunas) da tabela após a correção de formatação\n",
    "    print(f\"\\nTabela '{tabela}' tem {tabela_df.shape[0]} linhas e {tabela_df.shape[1]} colunas após correção de formatação.\")\n",
    "    \n",
    "    # Exibir as primeiras linhas para revisão\n",
    "    print(tabela_df.head())\n"
   ]
  },
  {
   "cell_type": "markdown",
   "id": "382d5c43-8954-427c-8fb3-df8b827c2a93",
   "metadata": {},
   "source": [
    "### Vamos visualizar colunas valores ausentes "
   ]
  },
  {
   "cell_type": "code",
   "execution_count": 33,
   "id": "8be5db50-405e-491c-ae6a-364a47aafd49",
   "metadata": {},
   "outputs": [
    {
     "name": "stderr",
     "output_type": "stream",
     "text": [
      "C:\\Users\\Big Data\\AppData\\Local\\Temp\\ipykernel_2832\\4044100935.py:12: FutureWarning: DataFrame.applymap has been deprecated. Use DataFrame.map instead.\n",
      "  df = df.applymap(lambda x: x.strip() if isinstance(x, str) else x)\n",
      "C:\\Users\\Big Data\\AppData\\Local\\Temp\\ipykernel_2832\\4044100935.py:12: FutureWarning: DataFrame.applymap has been deprecated. Use DataFrame.map instead.\n",
      "  df = df.applymap(lambda x: x.strip() if isinstance(x, str) else x)\n",
      "C:\\Users\\Big Data\\AppData\\Local\\Temp\\ipykernel_2832\\4044100935.py:12: FutureWarning: DataFrame.applymap has been deprecated. Use DataFrame.map instead.\n",
      "  df = df.applymap(lambda x: x.strip() if isinstance(x, str) else x)\n",
      "C:\\Users\\Big Data\\AppData\\Local\\Temp\\ipykernel_2832\\4044100935.py:12: FutureWarning: DataFrame.applymap has been deprecated. Use DataFrame.map instead.\n",
      "  df = df.applymap(lambda x: x.strip() if isinstance(x, str) else x)\n"
     ]
    },
    {
     "name": "stdout",
     "output_type": "stream",
     "text": [
      "\n",
      "Tabela 'alunos' - Colunas com valores ausentes:\n",
      "['ID_CIDADAO', 'NOME', 'E-MAIL', 'GENERO', 'ESTADO_CIVIL_ALUNOS', 'NACIONALIDADE', 'LOCAL_NASCIMENTO', 'ESTADO', 'TERMO_ESTADO', 'RAZAO_INATIVIDADE', 'TIPO_ADMISSAO', 'POLITICA_AFIRMATIVA', 'TIPO_ENSINO_MEDIO', 'ANO_FORMATURA_ENSINO_MEDIO']\n",
      "\n",
      "Tabela 'tabela_dados_ingresso' - Colunas com valores ausentes:\n",
      "['TIPO_ADMISSAO', 'TIPO_ENSINO_MEDIO', 'POLITICA_AFIRMATIVA_ALUNOS']\n",
      "\n",
      "Tabela 'tabela_dados_pessoais' - Colunas com valores ausentes:\n",
      "['GENERO', 'LOCAL_NASCIMENTO', 'ESTADO']\n",
      "\n",
      "Tabela 'matriculas' - Colunas com valores ausentes:\n",
      "['NOME', 'ID_CLASS', 'ESTATUS', 'TIPO']\n"
     ]
    }
   ],
   "source": [
    "# Dicionário para armazenar as tabelas carregadas\n",
    "tabelas_carregadas = {}\n",
    "\n",
    "# Carregar e corrigir as tabelas\n",
    "for tabela in tables:\n",
    "    # Carregar a tabela especificando o separador ';'\n",
    "    tabela_df = pd.read_csv(caminho_base + tabela + \".csv\", sep=';', on_bad_lines='skip')\n",
    "    \n",
    "    # Corrigir formatação\n",
    "    tabela_df = corrigir_formatacao(tabela_df)\n",
    "    \n",
    "    # Armazenar a tabela no dicionário\n",
    "    tabelas_carregadas[tabela] = tabela_df\n",
    "\n",
    "# Verificar colunas com valores ausentes em cada tabela\n",
    "for tabela in tables:\n",
    "    tabela_df = tabelas_carregadas[tabela]  # Acessa a tabela carregada do dicionário\n",
    "    \n",
    "    # Verificar quais colunas contêm valores ausentes\n",
    "    colunas_ausentes = tabela_df.columns[tabela_df.isnull().any()]\n",
    "    \n",
    "    if len(colunas_ausentes) > 0:\n",
    "        print(f\"\\nTabela '{tabela}' - Colunas com valores ausentes:\")\n",
    "        print(colunas_ausentes.tolist())\n",
    "    else:\n",
    "        print(f\"\\nTabela '{tabela}' não contém colunas com valores ausentes.\")\n"
   ]
  },
  {
   "cell_type": "code",
   "execution_count": null,
   "id": "cd8cdb88-a729-4e35-beab-e12a94ef1d26",
   "metadata": {},
   "outputs": [],
   "source": []
  },
  {
   "cell_type": "code",
   "execution_count": null,
   "id": "22302723-2438-4d79-98a5-75d7caea218a",
   "metadata": {},
   "outputs": [],
   "source": []
  },
  {
   "cell_type": "markdown",
   "id": "8eb6faad-93db-43d0-8503-8815138f05b9",
   "metadata": {},
   "source": [
    "### Modificar e remover campos de dados incorretos ou incompletos Remover o excesso de amostra Padronizar os dados limpos"
   ]
  },
  {
   "cell_type": "code",
   "execution_count": null,
   "id": "d110ada6-2edb-4ff3-a1f6-0b77d4fa06cc",
   "metadata": {},
   "outputs": [],
   "source": []
  },
  {
   "cell_type": "markdown",
   "id": "29d05c73-e2ca-4098-b018-0d1a3817d26c",
   "metadata": {},
   "source": []
  },
  {
   "cell_type": "code",
   "execution_count": null,
   "id": "406effb3-f55f-4feb-a8f8-dee00911574d",
   "metadata": {},
   "outputs": [],
   "source": []
  },
  {
   "cell_type": "code",
   "execution_count": null,
   "id": "b4b606c4-50b8-407f-8316-fe992b73b7f5",
   "metadata": {},
   "outputs": [],
   "source": []
  },
  {
   "cell_type": "code",
   "execution_count": null,
   "id": "f0f62bb1-42e4-460d-93b2-bfa2ec9a8738",
   "metadata": {},
   "outputs": [],
   "source": []
  },
  {
   "cell_type": "markdown",
   "id": "a1fd1ab9-a6c3-4fd1-9d5a-9406a6a925fc",
   "metadata": {},
   "source": [
    "### Realizar o merges das Tabelas"
   ]
  },
  {
   "cell_type": "code",
   "execution_count": 15,
   "id": "a87211f2-b767-49ad-9a57-353981dc1538",
   "metadata": {},
   "outputs": [
    {
     "name": "stdout",
     "output_type": "stream",
     "text": [
      "\n",
      "DataFrame final após merge:\n",
      "   MATRICULA  CODIGO_DISCIPLINA                    NOME_x  CREDITOS  HORAS  \\\n",
      "0  177110007            1307045         LINGUA PORTUGUESA         5     75   \n",
      "1  177110007            1109002      INTRODU??O ? ?LGEBRA         4     60   \n",
      "2  177110007            1304009           EDUCA??O F?SICA         2     30   \n",
      "3  177110007            1307012                  INGLES I         3     45   \n",
      "4  177110007            1109007  CALCULO DIF E INTEGRAL I         4     60   \n",
      "\n",
      "    TERMO  ID_CLASS  NOTA   ESTATUS    TIPO  ...  EX_ALUNOS ALUNOS_INATIVOS  \\\n",
      "0  1977.1       NaN   6.1  APROVADO  NORMAL  ...        NaN             NaN   \n",
      "1  1977.2       NaN   5.2  APROVADO  NORMAL  ...        NaN             NaN   \n",
      "2  1977.2       NaN   6.0  APROVADO  NORMAL  ...        NaN             NaN   \n",
      "3  1977.2       NaN   8.0  APROVADO  NORMAL  ...        NaN             NaN   \n",
      "4  1978.1       NaN   5.1  APROVADO  NORMAL  ...        NaN             NaN   \n",
      "\n",
      "   RAZAO_DE_INATIVIDADE_DE_ALUNO TIPO_ADMISSAO_y TIPO_ENSINO_MEDIO_y  \\\n",
      "0                            NaN             NaN                 NaN   \n",
      "1                            NaN             NaN                 NaN   \n",
      "2                            NaN             NaN                 NaN   \n",
      "3                            NaN             NaN                 NaN   \n",
      "4                            NaN             NaN                 NaN   \n",
      "\n",
      "  POLITICA_AFIRMATIVA_ALUNOS IDADE_y GENERO_y LOCAL_NASCIMENTO_y  ESTADO_y  \n",
      "0                        NaN     NaN      NaN                NaN       NaN  \n",
      "1                        NaN     NaN      NaN                NaN       NaN  \n",
      "2                        NaN     NaN      NaN                NaN       NaN  \n",
      "3                        NaN     NaN      NaN                NaN       NaN  \n",
      "4                        NaN     NaN      NaN                NaN       NaN  \n",
      "\n",
      "[5 rows x 39 columns]\n"
     ]
    }
   ],
   "source": [
    "# Agora, realizar o merge das tabelas\n",
    "# Vamos começar com a tabela \"matriculas\" como base\n",
    "df_completo = pd.read_csv(caminho_base + tables[4] + \".csv\", sep=';', on_bad_lines='skip')\n",
    "\n",
    "# Realizar o merge das outras tabelas\n",
    "for tabela in tables[:4]:  # As 4 primeiras tabelas na lista\n",
    "    tabela_df = pd.read_csv(caminho_base + tabela + \".csv\", sep=';', on_bad_lines='skip')\n",
    "    if 'MATRICULA' in tabela_df.columns:\n",
    "        df_completo = df_completo.merge(tabela_df, on='MATRICULA', how='left')\n",
    "\n",
    "# Verificar as primeiras linhas do dataframe final\n",
    "print(\"\\nDataFrame final após merge:\")\n",
    "print(df_completo.head())"
   ]
  },
  {
   "cell_type": "code",
   "execution_count": null,
   "id": "e30911a5-14c9-44b5-82c6-3f292e766880",
   "metadata": {},
   "outputs": [],
   "source": []
  },
  {
   "cell_type": "code",
   "execution_count": null,
   "id": "19135201-283f-4cec-8ca7-086dfd55e71f",
   "metadata": {},
   "outputs": [],
   "source": []
  },
  {
   "cell_type": "code",
   "execution_count": null,
   "id": "b111deaa-a71b-44ce-b704-22bba0d0c8ee",
   "metadata": {},
   "outputs": [],
   "source": []
  },
  {
   "cell_type": "code",
   "execution_count": null,
   "id": "74796456-a5d3-4b39-9011-165ad28b0861",
   "metadata": {},
   "outputs": [],
   "source": []
  },
  {
   "cell_type": "code",
   "execution_count": null,
   "id": "1ee359c7-f866-4344-8bb8-854f88e46e8d",
   "metadata": {},
   "outputs": [],
   "source": []
  },
  {
   "cell_type": "code",
   "execution_count": null,
   "id": "0ec02611-a963-47b5-8055-b5cbac4a5775",
   "metadata": {},
   "outputs": [],
   "source": []
  },
  {
   "cell_type": "code",
   "execution_count": null,
   "id": "8a740bc3-cc8b-4ca6-9173-9a65b04eaaf8",
   "metadata": {},
   "outputs": [],
   "source": []
  },
  {
   "cell_type": "code",
   "execution_count": null,
   "id": "32f696ff-c9c9-4964-8d39-f764cd9d06a4",
   "metadata": {},
   "outputs": [],
   "source": []
  }
 ],
 "metadata": {
  "kernelspec": {
   "display_name": "Python 3 (ipykernel)",
   "language": "python",
   "name": "python3"
  },
  "language_info": {
   "codemirror_mode": {
    "name": "ipython",
    "version": 3
   },
   "file_extension": ".py",
   "mimetype": "text/x-python",
   "name": "python",
   "nbconvert_exporter": "python",
   "pygments_lexer": "ipython3",
   "version": "3.11.3"
  }
 },
 "nbformat": 4,
 "nbformat_minor": 5
}
